{
  "cells": [
    {
      "cell_type": "code",
      "execution_count": 1,
      "metadata": {
        "id": "9_QVng61UsHk"
      },
      "outputs": [],
      "source": [
        "#Importing all the required libraries\n",
        "import pandas as pd\n",
        "from sklearn.model_selection import train_test_split\n",
        "from sklearn.preprocessing import StandardScaler\n",
        "from sklearn import preprocessing\n",
        "from sklearn.svm import SVC\n",
        "from sklearn.decomposition import PCA\n",
        "from sklearn.linear_model import SGDClassifier\n",
        "from sklearn.discriminant_analysis import LinearDiscriminantAnalysis\n",
        "from sklearn.metrics import accuracy_score\n",
        "from sklearn.model_selection import train_test_split, cross_val_score, RepeatedKFold, GridSearchCV\n",
        "from sklearn.metrics import mean_squared_error,r2_score,mean_absolute_error,mean_absolute_percentage_error\n",
        "from sklearn.metrics import recall_score\n",
        "from sklearn.metrics import confusion_matrix\n",
        "from sklearn.ensemble import RandomForestClassifier\n",
        "from sklearn.metrics import accuracy_score, confusion_matrix, recall_score\n",
        "import matplotlib.pyplot as plt\n",
        "import seaborn as sns\n",
        "from sklearn.utils import resample\n",
        "from keras.layers import Input, Dense\n",
        "from keras.models import Model"
      ]
    },
    {
      "cell_type": "code",
      "execution_count": 2,
      "metadata": {
        "id": "P-1-VuKYU0JY"
      },
      "outputs": [],
      "source": [
        "#read_csv to read the dataset\n",
        "df = pd.read_csv('/Users/mominaali/Desktop/PhD MTSU/2nd Semester/7350/Project/SemesterProject/star_classification.csv')"
      ]
    },
    {
      "cell_type": "code",
      "execution_count": 3,
      "metadata": {
        "colab": {
          "base_uri": "https://localhost:8080/",
          "height": 379
        },
        "id": "_P3aLhi8U1ws",
        "outputId": "14c6d099-1b09-4f67-deac-4eac9090bd3f"
      },
      "outputs": [
        {
          "data": {
            "text/html": [
              "<div>\n",
              "<style scoped>\n",
              "    .dataframe tbody tr th:only-of-type {\n",
              "        vertical-align: middle;\n",
              "    }\n",
              "\n",
              "    .dataframe tbody tr th {\n",
              "        vertical-align: top;\n",
              "    }\n",
              "\n",
              "    .dataframe thead th {\n",
              "        text-align: right;\n",
              "    }\n",
              "</style>\n",
              "<table border=\"1\" class=\"dataframe\">\n",
              "  <thead>\n",
              "    <tr style=\"text-align: right;\">\n",
              "      <th></th>\n",
              "      <th>obj_ID</th>\n",
              "      <th>alpha</th>\n",
              "      <th>delta</th>\n",
              "      <th>u</th>\n",
              "      <th>g</th>\n",
              "      <th>r</th>\n",
              "      <th>i</th>\n",
              "      <th>z</th>\n",
              "      <th>run_ID</th>\n",
              "      <th>rerun_ID</th>\n",
              "      <th>cam_col</th>\n",
              "      <th>field_ID</th>\n",
              "      <th>spec_obj_ID</th>\n",
              "      <th>class</th>\n",
              "      <th>redshift</th>\n",
              "      <th>plate</th>\n",
              "      <th>MJD</th>\n",
              "      <th>fiber_ID</th>\n",
              "    </tr>\n",
              "  </thead>\n",
              "  <tbody>\n",
              "    <tr>\n",
              "      <th>0</th>\n",
              "      <td>1.237661e+18</td>\n",
              "      <td>135.689107</td>\n",
              "      <td>32.494632</td>\n",
              "      <td>23.87882</td>\n",
              "      <td>22.27530</td>\n",
              "      <td>20.39501</td>\n",
              "      <td>19.16573</td>\n",
              "      <td>18.79371</td>\n",
              "      <td>3606</td>\n",
              "      <td>301</td>\n",
              "      <td>2</td>\n",
              "      <td>79</td>\n",
              "      <td>6.543777e+18</td>\n",
              "      <td>GALAXY</td>\n",
              "      <td>0.634794</td>\n",
              "      <td>5812</td>\n",
              "      <td>56354</td>\n",
              "      <td>171</td>\n",
              "    </tr>\n",
              "    <tr>\n",
              "      <th>1</th>\n",
              "      <td>1.237665e+18</td>\n",
              "      <td>144.826101</td>\n",
              "      <td>31.274185</td>\n",
              "      <td>24.77759</td>\n",
              "      <td>22.83188</td>\n",
              "      <td>22.58444</td>\n",
              "      <td>21.16812</td>\n",
              "      <td>21.61427</td>\n",
              "      <td>4518</td>\n",
              "      <td>301</td>\n",
              "      <td>5</td>\n",
              "      <td>119</td>\n",
              "      <td>1.176014e+19</td>\n",
              "      <td>GALAXY</td>\n",
              "      <td>0.779136</td>\n",
              "      <td>10445</td>\n",
              "      <td>58158</td>\n",
              "      <td>427</td>\n",
              "    </tr>\n",
              "    <tr>\n",
              "      <th>2</th>\n",
              "      <td>1.237661e+18</td>\n",
              "      <td>142.188790</td>\n",
              "      <td>35.582444</td>\n",
              "      <td>25.26307</td>\n",
              "      <td>22.66389</td>\n",
              "      <td>20.60976</td>\n",
              "      <td>19.34857</td>\n",
              "      <td>18.94827</td>\n",
              "      <td>3606</td>\n",
              "      <td>301</td>\n",
              "      <td>2</td>\n",
              "      <td>120</td>\n",
              "      <td>5.152200e+18</td>\n",
              "      <td>GALAXY</td>\n",
              "      <td>0.644195</td>\n",
              "      <td>4576</td>\n",
              "      <td>55592</td>\n",
              "      <td>299</td>\n",
              "    </tr>\n",
              "    <tr>\n",
              "      <th>3</th>\n",
              "      <td>1.237663e+18</td>\n",
              "      <td>338.741038</td>\n",
              "      <td>-0.402828</td>\n",
              "      <td>22.13682</td>\n",
              "      <td>23.77656</td>\n",
              "      <td>21.61162</td>\n",
              "      <td>20.50454</td>\n",
              "      <td>19.25010</td>\n",
              "      <td>4192</td>\n",
              "      <td>301</td>\n",
              "      <td>3</td>\n",
              "      <td>214</td>\n",
              "      <td>1.030107e+19</td>\n",
              "      <td>GALAXY</td>\n",
              "      <td>0.932346</td>\n",
              "      <td>9149</td>\n",
              "      <td>58039</td>\n",
              "      <td>775</td>\n",
              "    </tr>\n",
              "    <tr>\n",
              "      <th>4</th>\n",
              "      <td>1.237680e+18</td>\n",
              "      <td>345.282593</td>\n",
              "      <td>21.183866</td>\n",
              "      <td>19.43718</td>\n",
              "      <td>17.58028</td>\n",
              "      <td>16.49747</td>\n",
              "      <td>15.97711</td>\n",
              "      <td>15.54461</td>\n",
              "      <td>8102</td>\n",
              "      <td>301</td>\n",
              "      <td>3</td>\n",
              "      <td>137</td>\n",
              "      <td>6.891865e+18</td>\n",
              "      <td>GALAXY</td>\n",
              "      <td>0.116123</td>\n",
              "      <td>6121</td>\n",
              "      <td>56187</td>\n",
              "      <td>842</td>\n",
              "    </tr>\n",
              "    <tr>\n",
              "      <th>5</th>\n",
              "      <td>1.237680e+18</td>\n",
              "      <td>340.995121</td>\n",
              "      <td>20.589476</td>\n",
              "      <td>23.48827</td>\n",
              "      <td>23.33776</td>\n",
              "      <td>21.32195</td>\n",
              "      <td>20.25615</td>\n",
              "      <td>19.54544</td>\n",
              "      <td>8102</td>\n",
              "      <td>301</td>\n",
              "      <td>3</td>\n",
              "      <td>110</td>\n",
              "      <td>5.658977e+18</td>\n",
              "      <td>QSO</td>\n",
              "      <td>1.424659</td>\n",
              "      <td>5026</td>\n",
              "      <td>55855</td>\n",
              "      <td>741</td>\n",
              "    </tr>\n",
              "    <tr>\n",
              "      <th>6</th>\n",
              "      <td>1.237679e+18</td>\n",
              "      <td>23.234926</td>\n",
              "      <td>11.418188</td>\n",
              "      <td>21.46973</td>\n",
              "      <td>21.17624</td>\n",
              "      <td>20.92829</td>\n",
              "      <td>20.60826</td>\n",
              "      <td>20.42573</td>\n",
              "      <td>7773</td>\n",
              "      <td>301</td>\n",
              "      <td>2</td>\n",
              "      <td>462</td>\n",
              "      <td>1.246262e+19</td>\n",
              "      <td>QSO</td>\n",
              "      <td>0.586455</td>\n",
              "      <td>11069</td>\n",
              "      <td>58456</td>\n",
              "      <td>113</td>\n",
              "    </tr>\n",
              "    <tr>\n",
              "      <th>7</th>\n",
              "      <td>1.237679e+18</td>\n",
              "      <td>5.433176</td>\n",
              "      <td>12.065186</td>\n",
              "      <td>22.24979</td>\n",
              "      <td>22.02172</td>\n",
              "      <td>20.34126</td>\n",
              "      <td>19.48794</td>\n",
              "      <td>18.84999</td>\n",
              "      <td>7773</td>\n",
              "      <td>301</td>\n",
              "      <td>2</td>\n",
              "      <td>346</td>\n",
              "      <td>6.961443e+18</td>\n",
              "      <td>GALAXY</td>\n",
              "      <td>0.477009</td>\n",
              "      <td>6183</td>\n",
              "      <td>56210</td>\n",
              "      <td>15</td>\n",
              "    </tr>\n",
              "    <tr>\n",
              "      <th>8</th>\n",
              "      <td>1.237661e+18</td>\n",
              "      <td>200.290475</td>\n",
              "      <td>47.199402</td>\n",
              "      <td>24.40286</td>\n",
              "      <td>22.35669</td>\n",
              "      <td>20.61032</td>\n",
              "      <td>19.46490</td>\n",
              "      <td>18.95852</td>\n",
              "      <td>3716</td>\n",
              "      <td>301</td>\n",
              "      <td>5</td>\n",
              "      <td>108</td>\n",
              "      <td>7.459285e+18</td>\n",
              "      <td>GALAXY</td>\n",
              "      <td>0.660012</td>\n",
              "      <td>6625</td>\n",
              "      <td>56386</td>\n",
              "      <td>719</td>\n",
              "    </tr>\n",
              "    <tr>\n",
              "      <th>9</th>\n",
              "      <td>1.237671e+18</td>\n",
              "      <td>39.149691</td>\n",
              "      <td>28.102842</td>\n",
              "      <td>21.74669</td>\n",
              "      <td>20.03493</td>\n",
              "      <td>19.17553</td>\n",
              "      <td>18.81823</td>\n",
              "      <td>18.65422</td>\n",
              "      <td>5934</td>\n",
              "      <td>301</td>\n",
              "      <td>4</td>\n",
              "      <td>122</td>\n",
              "      <td>2.751763e+18</td>\n",
              "      <td>STAR</td>\n",
              "      <td>-0.000008</td>\n",
              "      <td>2444</td>\n",
              "      <td>54082</td>\n",
              "      <td>232</td>\n",
              "    </tr>\n",
              "  </tbody>\n",
              "</table>\n",
              "</div>"
            ],
            "text/plain": [
              "         obj_ID       alpha      delta         u         g         r  \\\n",
              "0  1.237661e+18  135.689107  32.494632  23.87882  22.27530  20.39501   \n",
              "1  1.237665e+18  144.826101  31.274185  24.77759  22.83188  22.58444   \n",
              "2  1.237661e+18  142.188790  35.582444  25.26307  22.66389  20.60976   \n",
              "3  1.237663e+18  338.741038  -0.402828  22.13682  23.77656  21.61162   \n",
              "4  1.237680e+18  345.282593  21.183866  19.43718  17.58028  16.49747   \n",
              "5  1.237680e+18  340.995121  20.589476  23.48827  23.33776  21.32195   \n",
              "6  1.237679e+18   23.234926  11.418188  21.46973  21.17624  20.92829   \n",
              "7  1.237679e+18    5.433176  12.065186  22.24979  22.02172  20.34126   \n",
              "8  1.237661e+18  200.290475  47.199402  24.40286  22.35669  20.61032   \n",
              "9  1.237671e+18   39.149691  28.102842  21.74669  20.03493  19.17553   \n",
              "\n",
              "          i         z  run_ID  rerun_ID  cam_col  field_ID   spec_obj_ID  \\\n",
              "0  19.16573  18.79371    3606       301        2        79  6.543777e+18   \n",
              "1  21.16812  21.61427    4518       301        5       119  1.176014e+19   \n",
              "2  19.34857  18.94827    3606       301        2       120  5.152200e+18   \n",
              "3  20.50454  19.25010    4192       301        3       214  1.030107e+19   \n",
              "4  15.97711  15.54461    8102       301        3       137  6.891865e+18   \n",
              "5  20.25615  19.54544    8102       301        3       110  5.658977e+18   \n",
              "6  20.60826  20.42573    7773       301        2       462  1.246262e+19   \n",
              "7  19.48794  18.84999    7773       301        2       346  6.961443e+18   \n",
              "8  19.46490  18.95852    3716       301        5       108  7.459285e+18   \n",
              "9  18.81823  18.65422    5934       301        4       122  2.751763e+18   \n",
              "\n",
              "    class  redshift  plate    MJD  fiber_ID  \n",
              "0  GALAXY  0.634794   5812  56354       171  \n",
              "1  GALAXY  0.779136  10445  58158       427  \n",
              "2  GALAXY  0.644195   4576  55592       299  \n",
              "3  GALAXY  0.932346   9149  58039       775  \n",
              "4  GALAXY  0.116123   6121  56187       842  \n",
              "5     QSO  1.424659   5026  55855       741  \n",
              "6     QSO  0.586455  11069  58456       113  \n",
              "7  GALAXY  0.477009   6183  56210        15  \n",
              "8  GALAXY  0.660012   6625  56386       719  \n",
              "9    STAR -0.000008   2444  54082       232  "
            ]
          },
          "execution_count": 3,
          "metadata": {},
          "output_type": "execute_result"
        }
      ],
      "source": [
        "df.head(10)"
      ]
    },
    {
      "cell_type": "code",
      "execution_count": 4,
      "metadata": {
        "colab": {
          "base_uri": "https://localhost:8080/"
        },
        "id": "qNKbApkvXtty",
        "outputId": "2f4a098d-162b-4192-ffa1-0a4217b06002"
      },
      "outputs": [
        {
          "name": "stdout",
          "output_type": "stream",
          "text": [
            "class\n",
            "GALAXY    40555\n",
            "STAR      21594\n",
            "QSO       18961\n",
            "Name: count, dtype: int64\n"
          ]
        }
      ],
      "source": [
        "#seperating the classes\n",
        "majority = df[df['class'].isin(['GALAXY'])]\n",
        "minorityQSO = df[df['class'].isin(['QSO'])]\n",
        "minorityStar = df[df['class'].isin(['STAR'])]\n",
        "\n",
        "downSampled = resample(majority, replace=False, n_samples=len(minorityQSO)+len(minorityStar), random_state=42)\n",
        "\n",
        "#As GALAXY class is downsampled here we are concatinating it with the other two minority classes\n",
        "data_downSampled = pd.concat([downSampled, minorityQSO, minorityStar])\n",
        "\n",
        "countUnique = data_downSampled['class'].value_counts()\n",
        "print(countUnique)\n"
      ]
    },
    {
      "cell_type": "code",
      "execution_count": 5,
      "metadata": {
        "colab": {
          "base_uri": "https://localhost:8080/"
        },
        "id": "h95MR039XwJY",
        "outputId": "018250bd-9680-4e3b-fed2-adf15661b7db"
      },
      "outputs": [
        {
          "data": {
            "text/plain": [
              "(81110, 18)"
            ]
          },
          "execution_count": 5,
          "metadata": {},
          "output_type": "execute_result"
        }
      ],
      "source": [
        "data_downSampled.shape"
      ]
    },
    {
      "cell_type": "code",
      "execution_count": 6,
      "metadata": {
        "id": "eIbmPcYVU3Dk"
      },
      "outputs": [],
      "source": [
        "X = data_downSampled.drop(\"class\", axis=1)"
      ]
    },
    {
      "cell_type": "code",
      "execution_count": 7,
      "metadata": {
        "colab": {
          "base_uri": "https://localhost:8080/"
        },
        "id": "d20nM9B7Vq3k",
        "outputId": "e1f41faa-c076-4145-b3e0-ab0ce1a523b5"
      },
      "outputs": [
        {
          "name": "stdout",
          "output_type": "stream",
          "text": [
            "<class 'pandas.core.frame.DataFrame'>\n",
            "Index: 81110 entries, 44131 to 99959\n",
            "Data columns (total 17 columns):\n",
            " #   Column       Non-Null Count  Dtype  \n",
            "---  ------       --------------  -----  \n",
            " 0   obj_ID       81110 non-null  float64\n",
            " 1   alpha        81110 non-null  float64\n",
            " 2   delta        81110 non-null  float64\n",
            " 3   u            81110 non-null  float64\n",
            " 4   g            81110 non-null  float64\n",
            " 5   r            81110 non-null  float64\n",
            " 6   i            81110 non-null  float64\n",
            " 7   z            81110 non-null  float64\n",
            " 8   run_ID       81110 non-null  int64  \n",
            " 9   rerun_ID     81110 non-null  int64  \n",
            " 10  cam_col      81110 non-null  int64  \n",
            " 11  field_ID     81110 non-null  int64  \n",
            " 12  spec_obj_ID  81110 non-null  float64\n",
            " 13  redshift     81110 non-null  float64\n",
            " 14  plate        81110 non-null  int64  \n",
            " 15  MJD          81110 non-null  int64  \n",
            " 16  fiber_ID     81110 non-null  int64  \n",
            "dtypes: float64(10), int64(7)\n",
            "memory usage: 11.1 MB\n"
          ]
        }
      ],
      "source": [
        "X.info()"
      ]
    },
    {
      "cell_type": "code",
      "execution_count": 8,
      "metadata": {
        "id": "arxlFv4AVsbO"
      },
      "outputs": [],
      "source": [
        "Y = data_downSampled['class']"
      ]
    },
    {
      "cell_type": "code",
      "execution_count": 9,
      "metadata": {
        "colab": {
          "base_uri": "https://localhost:8080/"
        },
        "id": "l2wUJrHtVvnO",
        "outputId": "026d3fe2-7b20-42c4-d426-322a049b6a54"
      },
      "outputs": [
        {
          "data": {
            "text/plain": [
              "(81110,)"
            ]
          },
          "execution_count": 9,
          "metadata": {},
          "output_type": "execute_result"
        }
      ],
      "source": [
        "Y.shape"
      ]
    },
    {
      "cell_type": "code",
      "execution_count": 10,
      "metadata": {
        "colab": {
          "base_uri": "https://localhost:8080/"
        },
        "id": "_Ub4kCi6VxM5",
        "outputId": "8ea2f2eb-a91e-4bb9-a8cb-521fad4879d7"
      },
      "outputs": [
        {
          "name": "stdout",
          "output_type": "stream",
          "text": [
            "<class 'pandas.core.series.Series'>\n",
            "Index: 81110 entries, 44131 to 99959\n",
            "Series name: class\n",
            "Non-Null Count  Dtype \n",
            "--------------  ----- \n",
            "81110 non-null  object\n",
            "dtypes: object(1)\n",
            "memory usage: 1.2+ MB\n"
          ]
        }
      ],
      "source": [
        "Y.info()"
      ]
    },
    {
      "cell_type": "code",
      "execution_count": 11,
      "metadata": {
        "id": "SgO9ijXsVycY"
      },
      "outputs": [],
      "source": [
        "X_train, X_test, Y_train, Y_test = train_test_split(X, Y, test_size=0.2, random_state=0, stratify=Y)"
      ]
    },
    {
      "cell_type": "code",
      "execution_count": 12,
      "metadata": {
        "id": "IQmYpaa5V0kA"
      },
      "outputs": [],
      "source": [
        "from sklearn.preprocessing import StandardScaler\n",
        "sc = StandardScaler()\n",
        "\n",
        "sc.fit(X_train)\n",
        "\n",
        "X_train_sc = sc.transform(X_train)\n",
        "X_train_sc = pd.DataFrame(X_train_sc, columns = X_train.columns)\n",
        "\n",
        "X_test_sc = sc.transform(X_test)\n",
        "X_test_sc = pd.DataFrame(X_test_sc, columns = X_test.columns)"
      ]
    },
    {
      "cell_type": "code",
      "execution_count": 13,
      "metadata": {
        "id": "oVGuQXJ1WGkC"
      },
      "outputs": [],
      "source": [
        "# label_encoder = preprocessing.LabelEncoder()\n",
        "\n",
        "# Y_train_le = label_encoder.fit_transform(Y_train)\n",
        "# Y_test_le = label_encoder.fit_transform(Y_test)"
      ]
    },
    {
      "cell_type": "code",
      "execution_count": 14,
      "metadata": {
        "id": "3HhBpiiAwAyd"
      },
      "outputs": [],
      "source": [
        "Y_train_le = Y_train\n",
        "Y_test_le = Y_test"
      ]
    },
    {
      "cell_type": "code",
      "execution_count": 15,
      "metadata": {
        "colab": {
          "base_uri": "https://localhost:8080/"
        },
        "id": "OEgYwR-TWiDp",
        "outputId": "1e85a42f-2a10-4009-c533-2dc133952ba6"
      },
      "outputs": [
        {
          "data": {
            "text/plain": [
              "(64888, 17)"
            ]
          },
          "execution_count": 15,
          "metadata": {},
          "output_type": "execute_result"
        }
      ],
      "source": [
        "X_train_sc.shape"
      ]
    },
    {
      "cell_type": "code",
      "execution_count": 16,
      "metadata": {
        "colab": {
          "base_uri": "https://localhost:8080/"
        },
        "id": "7hbWt8vrWn4f",
        "outputId": "91d32aab-d1a2-40c5-ddca-7615942ba875"
      },
      "outputs": [
        {
          "data": {
            "text/plain": [
              "(16222, 17)"
            ]
          },
          "execution_count": 16,
          "metadata": {},
          "output_type": "execute_result"
        }
      ],
      "source": [
        "X_test_sc.shape"
      ]
    },
    {
      "cell_type": "code",
      "execution_count": 17,
      "metadata": {
        "colab": {
          "base_uri": "https://localhost:8080/"
        },
        "id": "BWaAOX9gWzRP",
        "outputId": "2dc52e0f-0156-4183-a85e-61641eb11ed8"
      },
      "outputs": [
        {
          "data": {
            "text/plain": [
              "(64888,)"
            ]
          },
          "execution_count": 17,
          "metadata": {},
          "output_type": "execute_result"
        }
      ],
      "source": [
        "Y_train_le.shape"
      ]
    },
    {
      "cell_type": "code",
      "execution_count": 18,
      "metadata": {
        "colab": {
          "base_uri": "https://localhost:8080/"
        },
        "id": "hZiwilcgW3yz",
        "outputId": "665751a8-a7f4-4448-cd8d-c70a0dbc64ff"
      },
      "outputs": [
        {
          "data": {
            "text/plain": [
              "(16222,)"
            ]
          },
          "execution_count": 18,
          "metadata": {},
          "output_type": "execute_result"
        }
      ],
      "source": [
        "Y_test_le.shape"
      ]
    },
    {
      "cell_type": "code",
      "execution_count": null,
      "metadata": {
        "id": "aFZqmMMzub6o"
      },
      "outputs": [],
      "source": []
    },
    {
      "cell_type": "code",
      "execution_count": 19,
      "metadata": {
        "id": "RwfoYloJjLHe"
      },
      "outputs": [],
      "source": [
        "dim = X_train_sc.shape[1]"
      ]
    },
    {
      "cell_type": "code",
      "execution_count": 20,
      "metadata": {
        "colab": {
          "base_uri": "https://localhost:8080/"
        },
        "id": "brl_R4ON35t2",
        "outputId": "989a9d20-509e-4d94-a1b6-8b6d0ad05373"
      },
      "outputs": [
        {
          "name": "stdout",
          "output_type": "stream",
          "text": [
            "Epoch 1/50\n",
            "\u001b[1m2028/2028\u001b[0m \u001b[32m━━━━━━━━━━━━━━━━━━━━\u001b[0m\u001b[37m\u001b[0m \u001b[1m1s\u001b[0m 427us/step - loss: 0.7747 - val_loss: 0.4321\n",
            "Epoch 2/50\n",
            "\u001b[1m2028/2028\u001b[0m \u001b[32m━━━━━━━━━━━━━━━━━━━━\u001b[0m\u001b[37m\u001b[0m \u001b[1m1s\u001b[0m 376us/step - loss: 0.6034 - val_loss: 0.4301\n",
            "Epoch 3/50\n",
            "\u001b[1m2028/2028\u001b[0m \u001b[32m━━━━━━━━━━━━━━━━━━━━\u001b[0m\u001b[37m\u001b[0m \u001b[1m1s\u001b[0m 540us/step - loss: 0.5063 - val_loss: 0.4296\n",
            "Epoch 4/50\n",
            "\u001b[1m2028/2028\u001b[0m \u001b[32m━━━━━━━━━━━━━━━━━━━━\u001b[0m\u001b[37m\u001b[0m \u001b[1m1s\u001b[0m 706us/step - loss: 0.4328 - val_loss: 0.4294\n",
            "Epoch 5/50\n",
            "\u001b[1m2028/2028\u001b[0m \u001b[32m━━━━━━━━━━━━━━━━━━━━\u001b[0m\u001b[37m\u001b[0m \u001b[1m1s\u001b[0m 403us/step - loss: 0.4660 - val_loss: 0.4292\n",
            "Epoch 6/50\n",
            "\u001b[1m2028/2028\u001b[0m \u001b[32m━━━━━━━━━━━━━━━━━━━━\u001b[0m\u001b[37m\u001b[0m \u001b[1m1s\u001b[0m 379us/step - loss: 0.4707 - val_loss: 0.4291\n",
            "Epoch 7/50\n",
            "\u001b[1m2028/2028\u001b[0m \u001b[32m━━━━━━━━━━━━━━━━━━━━\u001b[0m\u001b[37m\u001b[0m \u001b[1m1s\u001b[0m 347us/step - loss: 0.9101 - val_loss: 0.4290\n",
            "Epoch 8/50\n",
            "\u001b[1m2028/2028\u001b[0m \u001b[32m━━━━━━━━━━━━━━━━━━━━\u001b[0m\u001b[37m\u001b[0m \u001b[1m1s\u001b[0m 376us/step - loss: 0.5294 - val_loss: 0.4289\n",
            "Epoch 9/50\n",
            "\u001b[1m2028/2028\u001b[0m \u001b[32m━━━━━━━━━━━━━━━━━━━━\u001b[0m\u001b[37m\u001b[0m \u001b[1m1s\u001b[0m 338us/step - loss: 0.4336 - val_loss: 0.4288\n",
            "Epoch 10/50\n",
            "\u001b[1m2028/2028\u001b[0m \u001b[32m━━━━━━━━━━━━━━━━━━━━\u001b[0m\u001b[37m\u001b[0m \u001b[1m1s\u001b[0m 375us/step - loss: 0.4705 - val_loss: 0.4286\n",
            "Epoch 11/50\n",
            "\u001b[1m2028/2028\u001b[0m \u001b[32m━━━━━━━━━━━━━━━━━━━━\u001b[0m\u001b[37m\u001b[0m \u001b[1m1s\u001b[0m 327us/step - loss: 0.4542 - val_loss: 0.4285\n",
            "Epoch 12/50\n",
            "\u001b[1m2028/2028\u001b[0m \u001b[32m━━━━━━━━━━━━━━━━━━━━\u001b[0m\u001b[37m\u001b[0m \u001b[1m1s\u001b[0m 465us/step - loss: 1.0798 - val_loss: 0.4284\n",
            "Epoch 13/50\n",
            "\u001b[1m2028/2028\u001b[0m \u001b[32m━━━━━━━━━━━━━━━━━━━━\u001b[0m\u001b[37m\u001b[0m \u001b[1m1s\u001b[0m 352us/step - loss: 0.4684 - val_loss: 0.4284\n",
            "Epoch 14/50\n",
            "\u001b[1m2028/2028\u001b[0m \u001b[32m━━━━━━━━━━━━━━━━━━━━\u001b[0m\u001b[37m\u001b[0m \u001b[1m1s\u001b[0m 356us/step - loss: 0.5544 - val_loss: 0.4283\n",
            "Epoch 15/50\n",
            "\u001b[1m2028/2028\u001b[0m \u001b[32m━━━━━━━━━━━━━━━━━━━━\u001b[0m\u001b[37m\u001b[0m \u001b[1m1s\u001b[0m 383us/step - loss: 0.5263 - val_loss: 0.4283\n",
            "Epoch 16/50\n",
            "\u001b[1m2028/2028\u001b[0m \u001b[32m━━━━━━━━━━━━━━━━━━━━\u001b[0m\u001b[37m\u001b[0m \u001b[1m1s\u001b[0m 359us/step - loss: 0.4697 - val_loss: 0.4283\n",
            "Epoch 17/50\n",
            "\u001b[1m2028/2028\u001b[0m \u001b[32m━━━━━━━━━━━━━━━━━━━━\u001b[0m\u001b[37m\u001b[0m \u001b[1m1s\u001b[0m 319us/step - loss: 0.4925 - val_loss: 0.4282\n",
            "Epoch 18/50\n",
            "\u001b[1m2028/2028\u001b[0m \u001b[32m━━━━━━━━━━━━━━━━━━━━\u001b[0m\u001b[37m\u001b[0m \u001b[1m1s\u001b[0m 311us/step - loss: 0.6054 - val_loss: 0.4282\n",
            "Epoch 19/50\n",
            "\u001b[1m2028/2028\u001b[0m \u001b[32m━━━━━━━━━━━━━━━━━━━━\u001b[0m\u001b[37m\u001b[0m \u001b[1m1s\u001b[0m 326us/step - loss: 0.8702 - val_loss: 0.4282\n",
            "Epoch 20/50\n",
            "\u001b[1m2028/2028\u001b[0m \u001b[32m━━━━━━━━━━━━━━━━━━━━\u001b[0m\u001b[37m\u001b[0m \u001b[1m1s\u001b[0m 340us/step - loss: 0.4762 - val_loss: 0.4282\n",
            "Epoch 21/50\n",
            "\u001b[1m2028/2028\u001b[0m \u001b[32m━━━━━━━━━━━━━━━━━━━━\u001b[0m\u001b[37m\u001b[0m \u001b[1m1s\u001b[0m 326us/step - loss: 0.7157 - val_loss: 0.4281\n",
            "Epoch 22/50\n",
            "\u001b[1m2028/2028\u001b[0m \u001b[32m━━━━━━━━━━━━━━━━━━━━\u001b[0m\u001b[37m\u001b[0m \u001b[1m1s\u001b[0m 387us/step - loss: 0.7285 - val_loss: 0.4281\n",
            "Epoch 23/50\n",
            "\u001b[1m2028/2028\u001b[0m \u001b[32m━━━━━━━━━━━━━━━━━━━━\u001b[0m\u001b[37m\u001b[0m \u001b[1m1s\u001b[0m 492us/step - loss: 0.4851 - val_loss: 0.4281\n",
            "Epoch 24/50\n",
            "\u001b[1m2028/2028\u001b[0m \u001b[32m━━━━━━━━━━━━━━━━━━━━\u001b[0m\u001b[37m\u001b[0m \u001b[1m1s\u001b[0m 447us/step - loss: 0.5980 - val_loss: 0.4280\n",
            "Epoch 25/50\n",
            "\u001b[1m2028/2028\u001b[0m \u001b[32m━━━━━━━━━━━━━━━━━━━━\u001b[0m\u001b[37m\u001b[0m \u001b[1m1s\u001b[0m 485us/step - loss: 0.5446 - val_loss: 0.4280\n",
            "Epoch 26/50\n",
            "\u001b[1m2028/2028\u001b[0m \u001b[32m━━━━━━━━━━━━━━━━━━━━\u001b[0m\u001b[37m\u001b[0m \u001b[1m1s\u001b[0m 518us/step - loss: 0.5006 - val_loss: 0.4280\n",
            "Epoch 27/50\n",
            "\u001b[1m2028/2028\u001b[0m \u001b[32m━━━━━━━━━━━━━━━━━━━━\u001b[0m\u001b[37m\u001b[0m \u001b[1m1s\u001b[0m 407us/step - loss: 0.4566 - val_loss: 0.4280\n",
            "Epoch 28/50\n",
            "\u001b[1m2028/2028\u001b[0m \u001b[32m━━━━━━━━━━━━━━━━━━━━\u001b[0m\u001b[37m\u001b[0m \u001b[1m1s\u001b[0m 378us/step - loss: 0.9972 - val_loss: 0.4280\n",
            "Epoch 29/50\n",
            "\u001b[1m2028/2028\u001b[0m \u001b[32m━━━━━━━━━━━━━━━━━━━━\u001b[0m\u001b[37m\u001b[0m \u001b[1m1s\u001b[0m 412us/step - loss: 0.6792 - val_loss: 0.4280\n",
            "Epoch 30/50\n",
            "\u001b[1m2028/2028\u001b[0m \u001b[32m━━━━━━━━━━━━━━━━━━━━\u001b[0m\u001b[37m\u001b[0m \u001b[1m1s\u001b[0m 491us/step - loss: 0.4869 - val_loss: 0.4280\n",
            "Epoch 31/50\n",
            "\u001b[1m2028/2028\u001b[0m \u001b[32m━━━━━━━━━━━━━━━━━━━━\u001b[0m\u001b[37m\u001b[0m \u001b[1m1s\u001b[0m 514us/step - loss: 0.7147 - val_loss: 0.4280\n",
            "Epoch 32/50\n",
            "\u001b[1m2028/2028\u001b[0m \u001b[32m━━━━━━━━━━━━━━━━━━━━\u001b[0m\u001b[37m\u001b[0m \u001b[1m1s\u001b[0m 493us/step - loss: 0.5038 - val_loss: 0.4280\n",
            "Epoch 33/50\n",
            "\u001b[1m2028/2028\u001b[0m \u001b[32m━━━━━━━━━━━━━━━━━━━━\u001b[0m\u001b[37m\u001b[0m \u001b[1m1s\u001b[0m 430us/step - loss: 0.4821 - val_loss: 0.4280\n",
            "Epoch 34/50\n",
            "\u001b[1m2028/2028\u001b[0m \u001b[32m━━━━━━━━━━━━━━━━━━━━\u001b[0m\u001b[37m\u001b[0m \u001b[1m1s\u001b[0m 386us/step - loss: 0.8352 - val_loss: 0.4280\n",
            "Epoch 35/50\n",
            "\u001b[1m2028/2028\u001b[0m \u001b[32m━━━━━━━━━━━━━━━━━━━━\u001b[0m\u001b[37m\u001b[0m \u001b[1m1s\u001b[0m 353us/step - loss: 0.4503 - val_loss: 0.4279\n",
            "Epoch 36/50\n",
            "\u001b[1m2028/2028\u001b[0m \u001b[32m━━━━━━━━━━━━━━━━━━━━\u001b[0m\u001b[37m\u001b[0m \u001b[1m1s\u001b[0m 404us/step - loss: 0.9789 - val_loss: 0.4280\n",
            "Epoch 37/50\n",
            "\u001b[1m2028/2028\u001b[0m \u001b[32m━━━━━━━━━━━━━━━━━━━━\u001b[0m\u001b[37m\u001b[0m \u001b[1m1s\u001b[0m 731us/step - loss: 0.4891 - val_loss: 0.4279\n",
            "Epoch 38/50\n",
            "\u001b[1m2028/2028\u001b[0m \u001b[32m━━━━━━━━━━━━━━━━━━━━\u001b[0m\u001b[37m\u001b[0m \u001b[1m1s\u001b[0m 405us/step - loss: 0.7001 - val_loss: 0.4279\n",
            "Epoch 39/50\n",
            "\u001b[1m2028/2028\u001b[0m \u001b[32m━━━━━━━━━━━━━━━━━━━━\u001b[0m\u001b[37m\u001b[0m \u001b[1m1s\u001b[0m 452us/step - loss: 0.4285 - val_loss: 0.4279\n",
            "Epoch 40/50\n",
            "\u001b[1m2028/2028\u001b[0m \u001b[32m━━━━━━━━━━━━━━━━━━━━\u001b[0m\u001b[37m\u001b[0m \u001b[1m1s\u001b[0m 572us/step - loss: 0.4621 - val_loss: 0.4279\n",
            "Epoch 41/50\n",
            "\u001b[1m2028/2028\u001b[0m \u001b[32m━━━━━━━━━━━━━━━━━━━━\u001b[0m\u001b[37m\u001b[0m \u001b[1m2s\u001b[0m 870us/step - loss: 0.6126 - val_loss: 0.4280\n",
            "Epoch 42/50\n",
            "\u001b[1m2028/2028\u001b[0m \u001b[32m━━━━━━━━━━━━━━━━━━━━\u001b[0m\u001b[37m\u001b[0m \u001b[1m1s\u001b[0m 526us/step - loss: 0.6397 - val_loss: 0.4279\n",
            "Epoch 43/50\n",
            "\u001b[1m2028/2028\u001b[0m \u001b[32m━━━━━━━━━━━━━━━━━━━━\u001b[0m\u001b[37m\u001b[0m \u001b[1m1s\u001b[0m 411us/step - loss: 0.4538 - val_loss: 0.4279\n",
            "Epoch 44/50\n",
            "\u001b[1m2028/2028\u001b[0m \u001b[32m━━━━━━━━━━━━━━━━━━━━\u001b[0m\u001b[37m\u001b[0m \u001b[1m1s\u001b[0m 409us/step - loss: 0.5284 - val_loss: 0.4279\n",
            "Epoch 45/50\n",
            "\u001b[1m2028/2028\u001b[0m \u001b[32m━━━━━━━━━━━━━━━━━━━━\u001b[0m\u001b[37m\u001b[0m \u001b[1m1s\u001b[0m 431us/step - loss: 0.5810 - val_loss: 0.4279\n",
            "Epoch 46/50\n",
            "\u001b[1m2028/2028\u001b[0m \u001b[32m━━━━━━━━━━━━━━━━━━━━\u001b[0m\u001b[37m\u001b[0m \u001b[1m1s\u001b[0m 386us/step - loss: 0.4355 - val_loss: 0.4279\n",
            "Epoch 47/50\n",
            "\u001b[1m2028/2028\u001b[0m \u001b[32m━━━━━━━━━━━━━━━━━━━━\u001b[0m\u001b[37m\u001b[0m \u001b[1m1s\u001b[0m 389us/step - loss: 0.5171 - val_loss: 0.4279\n",
            "Epoch 48/50\n",
            "\u001b[1m2028/2028\u001b[0m \u001b[32m━━━━━━━━━━━━━━━━━━━━\u001b[0m\u001b[37m\u001b[0m \u001b[1m1s\u001b[0m 372us/step - loss: 0.4545 - val_loss: 0.4279\n",
            "Epoch 49/50\n",
            "\u001b[1m2028/2028\u001b[0m \u001b[32m━━━━━━━━━━━━━━━━━━━━\u001b[0m\u001b[37m\u001b[0m \u001b[1m1s\u001b[0m 414us/step - loss: 0.4246 - val_loss: 0.4279\n",
            "Epoch 50/50\n",
            "\u001b[1m2028/2028\u001b[0m \u001b[32m━━━━━━━━━━━━━━━━━━━━\u001b[0m\u001b[37m\u001b[0m \u001b[1m1s\u001b[0m 382us/step - loss: 1.6869 - val_loss: 0.4279\n"
          ]
        },
        {
          "data": {
            "text/plain": [
              "<keras.src.callbacks.history.History at 0x291c8c440>"
            ]
          },
          "execution_count": 20,
          "metadata": {},
          "output_type": "execute_result"
        }
      ],
      "source": [
        "inpLayer = Input(shape=(dim,))\n",
        "encoder_arch = Dense(64, activation='relu')(inpLayer)\n",
        "decoder_arch = Dense(dim, activation='sigmoid')(encoder_arch)\n",
        "dimRedAE = Model(inpLayer, decoder_arch)\n",
        "dimRedAE.compile(optimizer='adam', loss='mse')\n",
        "\n",
        "dimRedAE.fit(X_train_sc, X_train_sc, epochs=50, batch_size=32, validation_data=(X_test_sc, X_test_sc))"
      ]
    },
    {
      "cell_type": "code",
      "execution_count": 21,
      "metadata": {
        "colab": {
          "base_uri": "https://localhost:8080/"
        },
        "id": "Jfy6l_o44O_B",
        "outputId": "854dec9a-b96d-4c48-dba1-055b01dcad50"
      },
      "outputs": [
        {
          "name": "stdout",
          "output_type": "stream",
          "text": [
            "\u001b[1m2028/2028\u001b[0m \u001b[32m━━━━━━━━━━━━━━━━━━━━\u001b[0m\u001b[37m\u001b[0m \u001b[1m1s\u001b[0m 254us/step\n",
            "\u001b[1m507/507\u001b[0m \u001b[32m━━━━━━━━━━━━━━━━━━━━\u001b[0m\u001b[37m\u001b[0m \u001b[1m0s\u001b[0m 187us/step\n"
          ]
        }
      ],
      "source": [
        "enc = Model(inpLayer, encoder_arch)\n",
        "X_train_AE = enc.predict(X_train_sc)\n",
        "X_test_AE = enc.predict(X_test_sc)"
      ]
    },
    {
      "cell_type": "code",
      "execution_count": 22,
      "metadata": {
        "id": "ts7qX-qy7P7M"
      },
      "outputs": [],
      "source": [
        "rf_model = RandomForestClassifier(random_state=42)\n",
        "rf_model.fit(X_train_AE, Y_train_le)\n",
        "\n",
        "# Predict on the test set\n",
        "y_pred_rf = rf_model.predict(X_test_AE)\n"
      ]
    },
    {
      "cell_type": "markdown",
      "metadata": {
        "id": "6GZ_5B1J8NZe"
      },
      "source": [
        "#RF Downsampling"
      ]
    },
    {
      "cell_type": "code",
      "execution_count": 23,
      "metadata": {
        "colab": {
          "base_uri": "https://localhost:8080/",
          "height": 598
        },
        "id": "l4M66G0v7eCl",
        "outputId": "8a421da5-1041-40a6-8135-94055b99df59"
      },
      "outputs": [
        {
          "name": "stdout",
          "output_type": "stream",
          "text": [
            "Accuracy with Random Forest: 0.9657872025644187\n"
          ]
        }
      ],
      "source": [
        "# Calculate accuracy\n",
        "accuracy_rf = accuracy_score(Y_test_le, y_pred_rf)\n",
        "print(\"Accuracy with Random Forest:\", accuracy_rf)\n"
      ]
    },
    {
      "cell_type": "markdown",
      "metadata": {
        "id": "z7CJTk0E8P_4"
      },
      "source": [
        "#RF Upsampling"
      ]
    },
    {
      "cell_type": "code",
      "execution_count": null,
      "metadata": {
        "id": "EBzSAezO-yhs"
      },
      "outputs": [],
      "source": []
    },
    {
      "cell_type": "code",
      "execution_count": 24,
      "metadata": {
        "id": "JyOz1WZJsIX8"
      },
      "outputs": [],
      "source": [
        "#read_csv to read the dataset\n",
        "df = pd.read_csv('/Users/mominaali/Desktop/PhD MTSU/2nd Semester/7350/Project/SemesterProject/star_classification.csv')"
      ]
    },
    {
      "cell_type": "code",
      "execution_count": 25,
      "metadata": {
        "colab": {
          "base_uri": "https://localhost:8080/",
          "height": 379
        },
        "id": "UWq8WkJLsIX_",
        "outputId": "dbc31ac9-e4e1-493f-fedf-d5508166b3ab"
      },
      "outputs": [
        {
          "data": {
            "text/html": [
              "<div>\n",
              "<style scoped>\n",
              "    .dataframe tbody tr th:only-of-type {\n",
              "        vertical-align: middle;\n",
              "    }\n",
              "\n",
              "    .dataframe tbody tr th {\n",
              "        vertical-align: top;\n",
              "    }\n",
              "\n",
              "    .dataframe thead th {\n",
              "        text-align: right;\n",
              "    }\n",
              "</style>\n",
              "<table border=\"1\" class=\"dataframe\">\n",
              "  <thead>\n",
              "    <tr style=\"text-align: right;\">\n",
              "      <th></th>\n",
              "      <th>obj_ID</th>\n",
              "      <th>alpha</th>\n",
              "      <th>delta</th>\n",
              "      <th>u</th>\n",
              "      <th>g</th>\n",
              "      <th>r</th>\n",
              "      <th>i</th>\n",
              "      <th>z</th>\n",
              "      <th>run_ID</th>\n",
              "      <th>rerun_ID</th>\n",
              "      <th>cam_col</th>\n",
              "      <th>field_ID</th>\n",
              "      <th>spec_obj_ID</th>\n",
              "      <th>class</th>\n",
              "      <th>redshift</th>\n",
              "      <th>plate</th>\n",
              "      <th>MJD</th>\n",
              "      <th>fiber_ID</th>\n",
              "    </tr>\n",
              "  </thead>\n",
              "  <tbody>\n",
              "    <tr>\n",
              "      <th>0</th>\n",
              "      <td>1.237661e+18</td>\n",
              "      <td>135.689107</td>\n",
              "      <td>32.494632</td>\n",
              "      <td>23.87882</td>\n",
              "      <td>22.27530</td>\n",
              "      <td>20.39501</td>\n",
              "      <td>19.16573</td>\n",
              "      <td>18.79371</td>\n",
              "      <td>3606</td>\n",
              "      <td>301</td>\n",
              "      <td>2</td>\n",
              "      <td>79</td>\n",
              "      <td>6.543777e+18</td>\n",
              "      <td>GALAXY</td>\n",
              "      <td>0.634794</td>\n",
              "      <td>5812</td>\n",
              "      <td>56354</td>\n",
              "      <td>171</td>\n",
              "    </tr>\n",
              "    <tr>\n",
              "      <th>1</th>\n",
              "      <td>1.237665e+18</td>\n",
              "      <td>144.826101</td>\n",
              "      <td>31.274185</td>\n",
              "      <td>24.77759</td>\n",
              "      <td>22.83188</td>\n",
              "      <td>22.58444</td>\n",
              "      <td>21.16812</td>\n",
              "      <td>21.61427</td>\n",
              "      <td>4518</td>\n",
              "      <td>301</td>\n",
              "      <td>5</td>\n",
              "      <td>119</td>\n",
              "      <td>1.176014e+19</td>\n",
              "      <td>GALAXY</td>\n",
              "      <td>0.779136</td>\n",
              "      <td>10445</td>\n",
              "      <td>58158</td>\n",
              "      <td>427</td>\n",
              "    </tr>\n",
              "    <tr>\n",
              "      <th>2</th>\n",
              "      <td>1.237661e+18</td>\n",
              "      <td>142.188790</td>\n",
              "      <td>35.582444</td>\n",
              "      <td>25.26307</td>\n",
              "      <td>22.66389</td>\n",
              "      <td>20.60976</td>\n",
              "      <td>19.34857</td>\n",
              "      <td>18.94827</td>\n",
              "      <td>3606</td>\n",
              "      <td>301</td>\n",
              "      <td>2</td>\n",
              "      <td>120</td>\n",
              "      <td>5.152200e+18</td>\n",
              "      <td>GALAXY</td>\n",
              "      <td>0.644195</td>\n",
              "      <td>4576</td>\n",
              "      <td>55592</td>\n",
              "      <td>299</td>\n",
              "    </tr>\n",
              "    <tr>\n",
              "      <th>3</th>\n",
              "      <td>1.237663e+18</td>\n",
              "      <td>338.741038</td>\n",
              "      <td>-0.402828</td>\n",
              "      <td>22.13682</td>\n",
              "      <td>23.77656</td>\n",
              "      <td>21.61162</td>\n",
              "      <td>20.50454</td>\n",
              "      <td>19.25010</td>\n",
              "      <td>4192</td>\n",
              "      <td>301</td>\n",
              "      <td>3</td>\n",
              "      <td>214</td>\n",
              "      <td>1.030107e+19</td>\n",
              "      <td>GALAXY</td>\n",
              "      <td>0.932346</td>\n",
              "      <td>9149</td>\n",
              "      <td>58039</td>\n",
              "      <td>775</td>\n",
              "    </tr>\n",
              "    <tr>\n",
              "      <th>4</th>\n",
              "      <td>1.237680e+18</td>\n",
              "      <td>345.282593</td>\n",
              "      <td>21.183866</td>\n",
              "      <td>19.43718</td>\n",
              "      <td>17.58028</td>\n",
              "      <td>16.49747</td>\n",
              "      <td>15.97711</td>\n",
              "      <td>15.54461</td>\n",
              "      <td>8102</td>\n",
              "      <td>301</td>\n",
              "      <td>3</td>\n",
              "      <td>137</td>\n",
              "      <td>6.891865e+18</td>\n",
              "      <td>GALAXY</td>\n",
              "      <td>0.116123</td>\n",
              "      <td>6121</td>\n",
              "      <td>56187</td>\n",
              "      <td>842</td>\n",
              "    </tr>\n",
              "    <tr>\n",
              "      <th>5</th>\n",
              "      <td>1.237680e+18</td>\n",
              "      <td>340.995121</td>\n",
              "      <td>20.589476</td>\n",
              "      <td>23.48827</td>\n",
              "      <td>23.33776</td>\n",
              "      <td>21.32195</td>\n",
              "      <td>20.25615</td>\n",
              "      <td>19.54544</td>\n",
              "      <td>8102</td>\n",
              "      <td>301</td>\n",
              "      <td>3</td>\n",
              "      <td>110</td>\n",
              "      <td>5.658977e+18</td>\n",
              "      <td>QSO</td>\n",
              "      <td>1.424659</td>\n",
              "      <td>5026</td>\n",
              "      <td>55855</td>\n",
              "      <td>741</td>\n",
              "    </tr>\n",
              "    <tr>\n",
              "      <th>6</th>\n",
              "      <td>1.237679e+18</td>\n",
              "      <td>23.234926</td>\n",
              "      <td>11.418188</td>\n",
              "      <td>21.46973</td>\n",
              "      <td>21.17624</td>\n",
              "      <td>20.92829</td>\n",
              "      <td>20.60826</td>\n",
              "      <td>20.42573</td>\n",
              "      <td>7773</td>\n",
              "      <td>301</td>\n",
              "      <td>2</td>\n",
              "      <td>462</td>\n",
              "      <td>1.246262e+19</td>\n",
              "      <td>QSO</td>\n",
              "      <td>0.586455</td>\n",
              "      <td>11069</td>\n",
              "      <td>58456</td>\n",
              "      <td>113</td>\n",
              "    </tr>\n",
              "    <tr>\n",
              "      <th>7</th>\n",
              "      <td>1.237679e+18</td>\n",
              "      <td>5.433176</td>\n",
              "      <td>12.065186</td>\n",
              "      <td>22.24979</td>\n",
              "      <td>22.02172</td>\n",
              "      <td>20.34126</td>\n",
              "      <td>19.48794</td>\n",
              "      <td>18.84999</td>\n",
              "      <td>7773</td>\n",
              "      <td>301</td>\n",
              "      <td>2</td>\n",
              "      <td>346</td>\n",
              "      <td>6.961443e+18</td>\n",
              "      <td>GALAXY</td>\n",
              "      <td>0.477009</td>\n",
              "      <td>6183</td>\n",
              "      <td>56210</td>\n",
              "      <td>15</td>\n",
              "    </tr>\n",
              "    <tr>\n",
              "      <th>8</th>\n",
              "      <td>1.237661e+18</td>\n",
              "      <td>200.290475</td>\n",
              "      <td>47.199402</td>\n",
              "      <td>24.40286</td>\n",
              "      <td>22.35669</td>\n",
              "      <td>20.61032</td>\n",
              "      <td>19.46490</td>\n",
              "      <td>18.95852</td>\n",
              "      <td>3716</td>\n",
              "      <td>301</td>\n",
              "      <td>5</td>\n",
              "      <td>108</td>\n",
              "      <td>7.459285e+18</td>\n",
              "      <td>GALAXY</td>\n",
              "      <td>0.660012</td>\n",
              "      <td>6625</td>\n",
              "      <td>56386</td>\n",
              "      <td>719</td>\n",
              "    </tr>\n",
              "    <tr>\n",
              "      <th>9</th>\n",
              "      <td>1.237671e+18</td>\n",
              "      <td>39.149691</td>\n",
              "      <td>28.102842</td>\n",
              "      <td>21.74669</td>\n",
              "      <td>20.03493</td>\n",
              "      <td>19.17553</td>\n",
              "      <td>18.81823</td>\n",
              "      <td>18.65422</td>\n",
              "      <td>5934</td>\n",
              "      <td>301</td>\n",
              "      <td>4</td>\n",
              "      <td>122</td>\n",
              "      <td>2.751763e+18</td>\n",
              "      <td>STAR</td>\n",
              "      <td>-0.000008</td>\n",
              "      <td>2444</td>\n",
              "      <td>54082</td>\n",
              "      <td>232</td>\n",
              "    </tr>\n",
              "  </tbody>\n",
              "</table>\n",
              "</div>"
            ],
            "text/plain": [
              "         obj_ID       alpha      delta         u         g         r  \\\n",
              "0  1.237661e+18  135.689107  32.494632  23.87882  22.27530  20.39501   \n",
              "1  1.237665e+18  144.826101  31.274185  24.77759  22.83188  22.58444   \n",
              "2  1.237661e+18  142.188790  35.582444  25.26307  22.66389  20.60976   \n",
              "3  1.237663e+18  338.741038  -0.402828  22.13682  23.77656  21.61162   \n",
              "4  1.237680e+18  345.282593  21.183866  19.43718  17.58028  16.49747   \n",
              "5  1.237680e+18  340.995121  20.589476  23.48827  23.33776  21.32195   \n",
              "6  1.237679e+18   23.234926  11.418188  21.46973  21.17624  20.92829   \n",
              "7  1.237679e+18    5.433176  12.065186  22.24979  22.02172  20.34126   \n",
              "8  1.237661e+18  200.290475  47.199402  24.40286  22.35669  20.61032   \n",
              "9  1.237671e+18   39.149691  28.102842  21.74669  20.03493  19.17553   \n",
              "\n",
              "          i         z  run_ID  rerun_ID  cam_col  field_ID   spec_obj_ID  \\\n",
              "0  19.16573  18.79371    3606       301        2        79  6.543777e+18   \n",
              "1  21.16812  21.61427    4518       301        5       119  1.176014e+19   \n",
              "2  19.34857  18.94827    3606       301        2       120  5.152200e+18   \n",
              "3  20.50454  19.25010    4192       301        3       214  1.030107e+19   \n",
              "4  15.97711  15.54461    8102       301        3       137  6.891865e+18   \n",
              "5  20.25615  19.54544    8102       301        3       110  5.658977e+18   \n",
              "6  20.60826  20.42573    7773       301        2       462  1.246262e+19   \n",
              "7  19.48794  18.84999    7773       301        2       346  6.961443e+18   \n",
              "8  19.46490  18.95852    3716       301        5       108  7.459285e+18   \n",
              "9  18.81823  18.65422    5934       301        4       122  2.751763e+18   \n",
              "\n",
              "    class  redshift  plate    MJD  fiber_ID  \n",
              "0  GALAXY  0.634794   5812  56354       171  \n",
              "1  GALAXY  0.779136  10445  58158       427  \n",
              "2  GALAXY  0.644195   4576  55592       299  \n",
              "3  GALAXY  0.932346   9149  58039       775  \n",
              "4  GALAXY  0.116123   6121  56187       842  \n",
              "5     QSO  1.424659   5026  55855       741  \n",
              "6     QSO  0.586455  11069  58456       113  \n",
              "7  GALAXY  0.477009   6183  56210        15  \n",
              "8  GALAXY  0.660012   6625  56386       719  \n",
              "9    STAR -0.000008   2444  54082       232  "
            ]
          },
          "execution_count": 25,
          "metadata": {},
          "output_type": "execute_result"
        }
      ],
      "source": [
        "df.head(10)"
      ]
    },
    {
      "cell_type": "code",
      "execution_count": 26,
      "metadata": {
        "colab": {
          "base_uri": "https://localhost:8080/"
        },
        "id": "GN6AoaensIYA",
        "outputId": "82e2b4eb-6ccb-4799-8a41-1c2f79dd9f84"
      },
      "outputs": [
        {
          "name": "stdout",
          "output_type": "stream",
          "text": [
            "class\n",
            "GALAXY    59445\n",
            "QSO       59445\n",
            "STAR      59445\n",
            "Name: count, dtype: int64\n"
          ]
        }
      ],
      "source": [
        "#seperating the classes\n",
        "majority = df[df['class'].isin(['GALAXY'])]\n",
        "minorityQSO = df[df['class'].isin(['QSO'])]\n",
        "minorityStar = df[df['class'].isin(['STAR'])]\n",
        "\n",
        "UpsampledQSO = resample(minorityQSO, replace=True, n_samples=len(majority), random_state=42)\n",
        "UpsampledStar = resample(minorityStar, replace=True, n_samples=len(majority), random_state=42)\n",
        "\n",
        "#As GALAXY class is downsampled here we are concatinating it with the other two minority classes\n",
        "data_upsampled = pd.concat([majority, UpsampledQSO, UpsampledStar])\n",
        "\n",
        "countUnique = data_upsampled['class'].value_counts()\n",
        "print(countUnique)\n"
      ]
    },
    {
      "cell_type": "code",
      "execution_count": 27,
      "metadata": {
        "colab": {
          "base_uri": "https://localhost:8080/"
        },
        "id": "DkBcvM34sIYA",
        "outputId": "a01df94e-5519-42d7-8570-664396cce2f5"
      },
      "outputs": [
        {
          "data": {
            "text/plain": [
              "(178335, 18)"
            ]
          },
          "execution_count": 27,
          "metadata": {},
          "output_type": "execute_result"
        }
      ],
      "source": [
        "data_upsampled.shape"
      ]
    },
    {
      "cell_type": "code",
      "execution_count": 28,
      "metadata": {
        "id": "ihJzI0CssIYA"
      },
      "outputs": [],
      "source": [
        "X = data_upsampled.drop(\"class\", axis=1)"
      ]
    },
    {
      "cell_type": "code",
      "execution_count": 29,
      "metadata": {
        "colab": {
          "base_uri": "https://localhost:8080/"
        },
        "id": "kY0oiIzYsIYB",
        "outputId": "3fc8a12c-6ba4-4451-cf57-5ee2afb7fcf1"
      },
      "outputs": [
        {
          "name": "stdout",
          "output_type": "stream",
          "text": [
            "<class 'pandas.core.frame.DataFrame'>\n",
            "Index: 178335 entries, 0 to 79375\n",
            "Data columns (total 17 columns):\n",
            " #   Column       Non-Null Count   Dtype  \n",
            "---  ------       --------------   -----  \n",
            " 0   obj_ID       178335 non-null  float64\n",
            " 1   alpha        178335 non-null  float64\n",
            " 2   delta        178335 non-null  float64\n",
            " 3   u            178335 non-null  float64\n",
            " 4   g            178335 non-null  float64\n",
            " 5   r            178335 non-null  float64\n",
            " 6   i            178335 non-null  float64\n",
            " 7   z            178335 non-null  float64\n",
            " 8   run_ID       178335 non-null  int64  \n",
            " 9   rerun_ID     178335 non-null  int64  \n",
            " 10  cam_col      178335 non-null  int64  \n",
            " 11  field_ID     178335 non-null  int64  \n",
            " 12  spec_obj_ID  178335 non-null  float64\n",
            " 13  redshift     178335 non-null  float64\n",
            " 14  plate        178335 non-null  int64  \n",
            " 15  MJD          178335 non-null  int64  \n",
            " 16  fiber_ID     178335 non-null  int64  \n",
            "dtypes: float64(10), int64(7)\n",
            "memory usage: 24.5 MB\n"
          ]
        }
      ],
      "source": [
        "X.info()"
      ]
    },
    {
      "cell_type": "code",
      "execution_count": 30,
      "metadata": {
        "id": "gm4anp4jsIYB"
      },
      "outputs": [],
      "source": [
        "Y = data_upsampled['class']"
      ]
    },
    {
      "cell_type": "code",
      "execution_count": 31,
      "metadata": {
        "colab": {
          "base_uri": "https://localhost:8080/"
        },
        "id": "FAEpB1Z7sIYC",
        "outputId": "5025f153-985c-409c-fd57-23367b2c761d"
      },
      "outputs": [
        {
          "data": {
            "text/plain": [
              "(178335,)"
            ]
          },
          "execution_count": 31,
          "metadata": {},
          "output_type": "execute_result"
        }
      ],
      "source": [
        "Y.shape"
      ]
    },
    {
      "cell_type": "code",
      "execution_count": 32,
      "metadata": {
        "colab": {
          "base_uri": "https://localhost:8080/"
        },
        "id": "8KQ389JjsIYD",
        "outputId": "20caef54-1383-4f2f-dc0c-2cc6cef3699e"
      },
      "outputs": [
        {
          "name": "stdout",
          "output_type": "stream",
          "text": [
            "<class 'pandas.core.series.Series'>\n",
            "Index: 178335 entries, 0 to 79375\n",
            "Series name: class\n",
            "Non-Null Count   Dtype \n",
            "--------------   ----- \n",
            "178335 non-null  object\n",
            "dtypes: object(1)\n",
            "memory usage: 2.7+ MB\n"
          ]
        }
      ],
      "source": [
        "Y.info()"
      ]
    },
    {
      "cell_type": "code",
      "execution_count": 33,
      "metadata": {
        "id": "ODHLondtsIYE"
      },
      "outputs": [],
      "source": [
        "X_train, X_test, Y_train, Y_test = train_test_split(X, Y, test_size=0.2, random_state=0, stratify=Y)"
      ]
    },
    {
      "cell_type": "code",
      "execution_count": 34,
      "metadata": {
        "id": "71AzemOnsIYE"
      },
      "outputs": [],
      "source": [
        "from sklearn.preprocessing import StandardScaler\n",
        "sc = StandardScaler()\n",
        "\n",
        "sc.fit(X_train)\n",
        "\n",
        "X_train_sc = sc.transform(X_train)\n",
        "X_train_sc = pd.DataFrame(X_train_sc, columns = X_train.columns)\n",
        "\n",
        "X_test_sc = sc.transform(X_test)\n",
        "X_test_sc = pd.DataFrame(X_test_sc, columns = X_test.columns)"
      ]
    },
    {
      "cell_type": "code",
      "execution_count": 35,
      "metadata": {
        "id": "jhCxz-W3sIYE"
      },
      "outputs": [],
      "source": [
        "# label_encoder = preprocessing.LabelEncoder()\n",
        "\n",
        "# Y_train_le = label_encoder.fit_transform(Y_train)\n",
        "# Y_test_le = label_encoder.fit_transform(Y_test)"
      ]
    },
    {
      "cell_type": "code",
      "execution_count": 36,
      "metadata": {
        "id": "y_FfBUFGsIYE"
      },
      "outputs": [],
      "source": [
        "Y_train_le = Y_train\n",
        "Y_test_le = Y_test"
      ]
    },
    {
      "cell_type": "code",
      "execution_count": 37,
      "metadata": {
        "colab": {
          "base_uri": "https://localhost:8080/"
        },
        "id": "BZszOrcHsIYE",
        "outputId": "a09ff942-abb5-40c4-a93a-0b98467be9b3"
      },
      "outputs": [
        {
          "data": {
            "text/plain": [
              "(142668, 17)"
            ]
          },
          "execution_count": 37,
          "metadata": {},
          "output_type": "execute_result"
        }
      ],
      "source": [
        "X_train_sc.shape"
      ]
    },
    {
      "cell_type": "code",
      "execution_count": 38,
      "metadata": {
        "colab": {
          "base_uri": "https://localhost:8080/"
        },
        "id": "MaHIQPl6sIYE",
        "outputId": "5df7b251-9b25-4116-de83-a950fdfc06a6"
      },
      "outputs": [
        {
          "data": {
            "text/plain": [
              "(35667, 17)"
            ]
          },
          "execution_count": 38,
          "metadata": {},
          "output_type": "execute_result"
        }
      ],
      "source": [
        "X_test_sc.shape"
      ]
    },
    {
      "cell_type": "code",
      "execution_count": 39,
      "metadata": {
        "colab": {
          "base_uri": "https://localhost:8080/"
        },
        "id": "DOulvRpMsIYF",
        "outputId": "98c01c39-a692-4efa-e4c7-1ccbb54d0165"
      },
      "outputs": [
        {
          "data": {
            "text/plain": [
              "(142668,)"
            ]
          },
          "execution_count": 39,
          "metadata": {},
          "output_type": "execute_result"
        }
      ],
      "source": [
        "Y_train_le.shape"
      ]
    },
    {
      "cell_type": "code",
      "execution_count": 40,
      "metadata": {
        "colab": {
          "base_uri": "https://localhost:8080/"
        },
        "id": "ny5T227UsIYF",
        "outputId": "649d77db-f9e8-4b7e-e491-fd130b40f6ef"
      },
      "outputs": [
        {
          "data": {
            "text/plain": [
              "(35667,)"
            ]
          },
          "execution_count": 40,
          "metadata": {},
          "output_type": "execute_result"
        }
      ],
      "source": [
        "Y_test_le.shape"
      ]
    },
    {
      "cell_type": "code",
      "execution_count": null,
      "metadata": {
        "id": "DA0q-6UAtWnv"
      },
      "outputs": [],
      "source": []
    },
    {
      "cell_type": "code",
      "execution_count": 41,
      "metadata": {
        "id": "fI-0HaSwwRH6"
      },
      "outputs": [],
      "source": [
        "dim = X_train_sc.shape[1]"
      ]
    },
    {
      "cell_type": "code",
      "execution_count": 42,
      "metadata": {
        "colab": {
          "base_uri": "https://localhost:8080/"
        },
        "id": "3dU0f6IOwRJE",
        "outputId": "7447174c-6caf-44e9-95e9-3f3a215a516b"
      },
      "outputs": [
        {
          "name": "stdout",
          "output_type": "stream",
          "text": [
            "Epoch 1/50\n",
            "\u001b[1m4459/4459\u001b[0m \u001b[32m━━━━━━━━━━━━━━━━━━━━\u001b[0m\u001b[37m\u001b[0m \u001b[1m1s\u001b[0m 265us/step - loss: 0.6295 - val_loss: 0.4257\n",
            "Epoch 2/50\n",
            "\u001b[1m4459/4459\u001b[0m \u001b[32m━━━━━━━━━━━━━━━━━━━━\u001b[0m\u001b[37m\u001b[0m \u001b[1m1s\u001b[0m 302us/step - loss: 0.4338 - val_loss: 0.4251\n",
            "Epoch 3/50\n",
            "\u001b[1m4459/4459\u001b[0m \u001b[32m━━━━━━━━━━━━━━━━━━━━\u001b[0m\u001b[37m\u001b[0m \u001b[1m2s\u001b[0m 348us/step - loss: 0.4734 - val_loss: 0.4248\n",
            "Epoch 4/50\n",
            "\u001b[1m4459/4459\u001b[0m \u001b[32m━━━━━━━━━━━━━━━━━━━━\u001b[0m\u001b[37m\u001b[0m \u001b[1m1s\u001b[0m 301us/step - loss: 0.4704 - val_loss: 0.4247\n",
            "Epoch 5/50\n",
            "\u001b[1m4459/4459\u001b[0m \u001b[32m━━━━━━━━━━━━━━━━━━━━\u001b[0m\u001b[37m\u001b[0m \u001b[1m1s\u001b[0m 300us/step - loss: 0.4732 - val_loss: 0.4246\n",
            "Epoch 6/50\n",
            "\u001b[1m4459/4459\u001b[0m \u001b[32m━━━━━━━━━━━━━━━━━━━━\u001b[0m\u001b[37m\u001b[0m \u001b[1m1s\u001b[0m 323us/step - loss: 0.6433 - val_loss: 0.4244\n",
            "Epoch 7/50\n",
            "\u001b[1m4459/4459\u001b[0m \u001b[32m━━━━━━━━━━━━━━━━━━━━\u001b[0m\u001b[37m\u001b[0m \u001b[1m2s\u001b[0m 359us/step - loss: 0.5601 - val_loss: 0.4243\n",
            "Epoch 8/50\n",
            "\u001b[1m4459/4459\u001b[0m \u001b[32m━━━━━━━━━━━━━━━━━━━━\u001b[0m\u001b[37m\u001b[0m \u001b[1m1s\u001b[0m 272us/step - loss: 0.4427 - val_loss: 0.4242\n",
            "Epoch 9/50\n",
            "\u001b[1m4459/4459\u001b[0m \u001b[32m━━━━━━━━━━━━━━━━━━━━\u001b[0m\u001b[37m\u001b[0m \u001b[1m2s\u001b[0m 368us/step - loss: 0.4277 - val_loss: 0.4240\n",
            "Epoch 10/50\n",
            "\u001b[1m4459/4459\u001b[0m \u001b[32m━━━━━━━━━━━━━━━━━━━━\u001b[0m\u001b[37m\u001b[0m \u001b[1m2s\u001b[0m 405us/step - loss: 0.4720 - val_loss: 0.4240\n",
            "Epoch 11/50\n",
            "\u001b[1m4459/4459\u001b[0m \u001b[32m━━━━━━━━━━━━━━━━━━━━\u001b[0m\u001b[37m\u001b[0m \u001b[1m1s\u001b[0m 284us/step - loss: 0.6526 - val_loss: 0.4239\n",
            "Epoch 12/50\n",
            "\u001b[1m4459/4459\u001b[0m \u001b[32m━━━━━━━━━━━━━━━━━━━━\u001b[0m\u001b[37m\u001b[0m \u001b[1m1s\u001b[0m 325us/step - loss: 0.5457 - val_loss: 0.4239\n",
            "Epoch 13/50\n",
            "\u001b[1m4459/4459\u001b[0m \u001b[32m━━━━━━━━━━━━━━━━━━━━\u001b[0m\u001b[37m\u001b[0m \u001b[1m1s\u001b[0m 302us/step - loss: 0.4616 - val_loss: 0.4239\n",
            "Epoch 14/50\n",
            "\u001b[1m4459/4459\u001b[0m \u001b[32m━━━━━━━━━━━━━━━━━━━━\u001b[0m\u001b[37m\u001b[0m \u001b[1m1s\u001b[0m 257us/step - loss: 0.6462 - val_loss: 0.4238\n",
            "Epoch 15/50\n",
            "\u001b[1m4459/4459\u001b[0m \u001b[32m━━━━━━━━━━━━━━━━━━━━\u001b[0m\u001b[37m\u001b[0m \u001b[1m1s\u001b[0m 284us/step - loss: 0.8029 - val_loss: 0.4237\n",
            "Epoch 16/50\n",
            "\u001b[1m4459/4459\u001b[0m \u001b[32m━━━━━━━━━━━━━━━━━━━━\u001b[0m\u001b[37m\u001b[0m \u001b[1m1s\u001b[0m 331us/step - loss: 0.4471 - val_loss: 0.4236\n",
            "Epoch 17/50\n",
            "\u001b[1m4459/4459\u001b[0m \u001b[32m━━━━━━━━━━━━━━━━━━━━\u001b[0m\u001b[37m\u001b[0m \u001b[1m1s\u001b[0m 305us/step - loss: 0.8546 - val_loss: 0.4236\n",
            "Epoch 18/50\n",
            "\u001b[1m4459/4459\u001b[0m \u001b[32m━━━━━━━━━━━━━━━━━━━━\u001b[0m\u001b[37m\u001b[0m \u001b[1m1s\u001b[0m 303us/step - loss: 0.5028 - val_loss: 0.4236\n",
            "Epoch 19/50\n",
            "\u001b[1m4459/4459\u001b[0m \u001b[32m━━━━━━━━━━━━━━━━━━━━\u001b[0m\u001b[37m\u001b[0m \u001b[1m1s\u001b[0m 319us/step - loss: 0.5287 - val_loss: 0.4236\n",
            "Epoch 20/50\n",
            "\u001b[1m4459/4459\u001b[0m \u001b[32m━━━━━━━━━━━━━━━━━━━━\u001b[0m\u001b[37m\u001b[0m \u001b[1m2s\u001b[0m 359us/step - loss: 0.5631 - val_loss: 0.4236\n",
            "Epoch 21/50\n",
            "\u001b[1m4459/4459\u001b[0m \u001b[32m━━━━━━━━━━━━━━━━━━━━\u001b[0m\u001b[37m\u001b[0m \u001b[1m1s\u001b[0m 303us/step - loss: 0.5338 - val_loss: 0.4235\n",
            "Epoch 22/50\n",
            "\u001b[1m4459/4459\u001b[0m \u001b[32m━━━━━━━━━━━━━━━━━━━━\u001b[0m\u001b[37m\u001b[0m \u001b[1m1s\u001b[0m 329us/step - loss: 0.4249 - val_loss: 0.4235\n",
            "Epoch 23/50\n",
            "\u001b[1m4459/4459\u001b[0m \u001b[32m━━━━━━━━━━━━━━━━━━━━\u001b[0m\u001b[37m\u001b[0m \u001b[1m1s\u001b[0m 332us/step - loss: 0.4381 - val_loss: 0.4235\n",
            "Epoch 24/50\n",
            "\u001b[1m4459/4459\u001b[0m \u001b[32m━━━━━━━━━━━━━━━━━━━━\u001b[0m\u001b[37m\u001b[0m \u001b[1m1s\u001b[0m 288us/step - loss: 0.6678 - val_loss: 0.4235\n",
            "Epoch 25/50\n",
            "\u001b[1m4459/4459\u001b[0m \u001b[32m━━━━━━━━━━━━━━━━━━━━\u001b[0m\u001b[37m\u001b[0m \u001b[1m1s\u001b[0m 263us/step - loss: 0.6593 - val_loss: 0.4234\n",
            "Epoch 26/50\n",
            "\u001b[1m4459/4459\u001b[0m \u001b[32m━━━━━━━━━━━━━━━━━━━━\u001b[0m\u001b[37m\u001b[0m \u001b[1m1s\u001b[0m 253us/step - loss: 0.4678 - val_loss: 0.4234\n",
            "Epoch 27/50\n",
            "\u001b[1m4459/4459\u001b[0m \u001b[32m━━━━━━━━━━━━━━━━━━━━\u001b[0m\u001b[37m\u001b[0m \u001b[1m1s\u001b[0m 250us/step - loss: 0.8999 - val_loss: 0.4234\n",
            "Epoch 28/50\n",
            "\u001b[1m4459/4459\u001b[0m \u001b[32m━━━━━━━━━━━━━━━━━━━━\u001b[0m\u001b[37m\u001b[0m \u001b[1m1s\u001b[0m 313us/step - loss: 0.4677 - val_loss: 0.4234\n",
            "Epoch 29/50\n",
            "\u001b[1m4459/4459\u001b[0m \u001b[32m━━━━━━━━━━━━━━━━━━━━\u001b[0m\u001b[37m\u001b[0m \u001b[1m1s\u001b[0m 279us/step - loss: 0.5315 - val_loss: 0.4234\n",
            "Epoch 30/50\n",
            "\u001b[1m4459/4459\u001b[0m \u001b[32m━━━━━━━━━━━━━━━━━━━━\u001b[0m\u001b[37m\u001b[0m \u001b[1m2s\u001b[0m 341us/step - loss: 0.4824 - val_loss: 0.4234\n",
            "Epoch 31/50\n",
            "\u001b[1m4459/4459\u001b[0m \u001b[32m━━━━━━━━━━━━━━━━━━━━\u001b[0m\u001b[37m\u001b[0m \u001b[1m1s\u001b[0m 298us/step - loss: 0.4640 - val_loss: 0.4234\n",
            "Epoch 32/50\n",
            "\u001b[1m4459/4459\u001b[0m \u001b[32m━━━━━━━━━━━━━━━━━━━━\u001b[0m\u001b[37m\u001b[0m \u001b[1m2s\u001b[0m 465us/step - loss: 0.5875 - val_loss: 0.4234\n",
            "Epoch 33/50\n",
            "\u001b[1m4459/4459\u001b[0m \u001b[32m━━━━━━━━━━━━━━━━━━━━\u001b[0m\u001b[37m\u001b[0m \u001b[1m2s\u001b[0m 360us/step - loss: 0.6161 - val_loss: 0.4234\n",
            "Epoch 34/50\n",
            "\u001b[1m4459/4459\u001b[0m \u001b[32m━━━━━━━━━━━━━━━━━━━━\u001b[0m\u001b[37m\u001b[0m \u001b[1m1s\u001b[0m 267us/step - loss: 0.5606 - val_loss: 0.4234\n",
            "Epoch 35/50\n",
            "\u001b[1m4459/4459\u001b[0m \u001b[32m━━━━━━━━━━━━━━━━━━━━\u001b[0m\u001b[37m\u001b[0m \u001b[1m2s\u001b[0m 357us/step - loss: 0.5425 - val_loss: 0.4234\n",
            "Epoch 36/50\n",
            "\u001b[1m4459/4459\u001b[0m \u001b[32m━━━━━━━━━━━━━━━━━━━━\u001b[0m\u001b[37m\u001b[0m \u001b[1m1s\u001b[0m 305us/step - loss: 0.6457 - val_loss: 0.4234\n",
            "Epoch 37/50\n",
            "\u001b[1m4459/4459\u001b[0m \u001b[32m━━━━━━━━━━━━━━━━━━━━\u001b[0m\u001b[37m\u001b[0m \u001b[1m1s\u001b[0m 279us/step - loss: 0.6484 - val_loss: 0.4234\n",
            "Epoch 38/50\n",
            "\u001b[1m4459/4459\u001b[0m \u001b[32m━━━━━━━━━━━━━━━━━━━━\u001b[0m\u001b[37m\u001b[0m \u001b[1m1s\u001b[0m 318us/step - loss: 0.5138 - val_loss: 0.4234\n",
            "Epoch 39/50\n",
            "\u001b[1m4459/4459\u001b[0m \u001b[32m━━━━━━━━━━━━━━━━━━━━\u001b[0m\u001b[37m\u001b[0m \u001b[1m1s\u001b[0m 257us/step - loss: 0.4818 - val_loss: 0.4234\n",
            "Epoch 40/50\n",
            "\u001b[1m4459/4459\u001b[0m \u001b[32m━━━━━━━━━━━━━━━━━━━━\u001b[0m\u001b[37m\u001b[0m \u001b[1m1s\u001b[0m 258us/step - loss: 0.6777 - val_loss: 0.4234\n",
            "Epoch 41/50\n",
            "\u001b[1m4459/4459\u001b[0m \u001b[32m━━━━━━━━━━━━━━━━━━━━\u001b[0m\u001b[37m\u001b[0m \u001b[1m2s\u001b[0m 360us/step - loss: 0.9909 - val_loss: 0.4234\n",
            "Epoch 42/50\n",
            "\u001b[1m4459/4459\u001b[0m \u001b[32m━━━━━━━━━━━━━━━━━━━━\u001b[0m\u001b[37m\u001b[0m \u001b[1m2s\u001b[0m 395us/step - loss: 1.0026 - val_loss: 0.4234\n",
            "Epoch 43/50\n",
            "\u001b[1m4459/4459\u001b[0m \u001b[32m━━━━━━━━━━━━━━━━━━━━\u001b[0m\u001b[37m\u001b[0m \u001b[1m2s\u001b[0m 350us/step - loss: 0.9867 - val_loss: 0.4234\n",
            "Epoch 44/50\n",
            "\u001b[1m4459/4459\u001b[0m \u001b[32m━━━━━━━━━━━━━━━━━━━━\u001b[0m\u001b[37m\u001b[0m \u001b[1m1s\u001b[0m 328us/step - loss: 0.5884 - val_loss: 0.4234\n",
            "Epoch 45/50\n",
            "\u001b[1m4459/4459\u001b[0m \u001b[32m━━━━━━━━━━━━━━━━━━━━\u001b[0m\u001b[37m\u001b[0m \u001b[1m1s\u001b[0m 290us/step - loss: 0.6993 - val_loss: 0.4234\n",
            "Epoch 46/50\n",
            "\u001b[1m4459/4459\u001b[0m \u001b[32m━━━━━━━━━━━━━━━━━━━━\u001b[0m\u001b[37m\u001b[0m \u001b[1m1s\u001b[0m 318us/step - loss: 0.9879 - val_loss: 0.4234\n",
            "Epoch 47/50\n",
            "\u001b[1m4459/4459\u001b[0m \u001b[32m━━━━━━━━━━━━━━━━━━━━\u001b[0m\u001b[37m\u001b[0m \u001b[1m1s\u001b[0m 313us/step - loss: 0.7041 - val_loss: 0.4233\n",
            "Epoch 48/50\n",
            "\u001b[1m4459/4459\u001b[0m \u001b[32m━━━━━━━━━━━━━━━━━━━━\u001b[0m\u001b[37m\u001b[0m \u001b[1m1s\u001b[0m 254us/step - loss: 0.6074 - val_loss: 0.4233\n",
            "Epoch 49/50\n",
            "\u001b[1m4459/4459\u001b[0m \u001b[32m━━━━━━━━━━━━━━━━━━━━\u001b[0m\u001b[37m\u001b[0m \u001b[1m1s\u001b[0m 276us/step - loss: 0.5483 - val_loss: 0.4233\n",
            "Epoch 50/50\n",
            "\u001b[1m4459/4459\u001b[0m \u001b[32m━━━━━━━━━━━━━━━━━━━━\u001b[0m\u001b[37m\u001b[0m \u001b[1m1s\u001b[0m 250us/step - loss: 0.4377 - val_loss: 0.4233\n"
          ]
        },
        {
          "data": {
            "text/plain": [
              "<keras.src.callbacks.history.History at 0x168712090>"
            ]
          },
          "execution_count": 42,
          "metadata": {},
          "output_type": "execute_result"
        }
      ],
      "source": [
        "inpLayer = Input(shape=(dim,))\n",
        "encoder_arch = Dense(64, activation='relu')(inpLayer)\n",
        "decoder_arch = Dense(dim, activation='sigmoid')(encoder_arch)\n",
        "dimRedAE = Model(inpLayer, decoder_arch)\n",
        "dimRedAE.compile(optimizer='adam', loss='mse')\n",
        "\n",
        "dimRedAE.fit(X_train_sc, X_train_sc, epochs=50, batch_size=32, validation_data=(X_test_sc, X_test_sc))"
      ]
    },
    {
      "cell_type": "code",
      "execution_count": 43,
      "metadata": {
        "colab": {
          "base_uri": "https://localhost:8080/"
        },
        "id": "Szb42UMCwRJJ",
        "outputId": "483014db-47ad-4387-801f-63e3db7be830"
      },
      "outputs": [
        {
          "name": "stdout",
          "output_type": "stream",
          "text": [
            "\u001b[1m4459/4459\u001b[0m \u001b[32m━━━━━━━━━━━━━━━━━━━━\u001b[0m\u001b[37m\u001b[0m \u001b[1m1s\u001b[0m 263us/step\n",
            "\u001b[1m1115/1115\u001b[0m \u001b[32m━━━━━━━━━━━━━━━━━━━━\u001b[0m\u001b[37m\u001b[0m \u001b[1m0s\u001b[0m 165us/step\n"
          ]
        }
      ],
      "source": [
        "enc = Model(inpLayer, encoder_arch)\n",
        "X_train_AE = enc.predict(X_train_sc)\n",
        "X_test_AE = enc.predict(X_test_sc)"
      ]
    },
    {
      "cell_type": "code",
      "execution_count": 44,
      "metadata": {
        "id": "-PARJGo8wRJK"
      },
      "outputs": [],
      "source": [
        "rf_model = RandomForestClassifier(random_state=42)\n",
        "rf_model.fit(X_train_AE, Y_train_le)\n",
        "\n",
        "# Predict on the test set\n",
        "y_pred_rf = rf_model.predict(X_test_AE)\n"
      ]
    },
    {
      "cell_type": "markdown",
      "metadata": {
        "id": "V2kWYPn5sIYF"
      },
      "source": [
        "#RF upsampling"
      ]
    },
    {
      "cell_type": "code",
      "execution_count": 45,
      "metadata": {
        "colab": {
          "base_uri": "https://localhost:8080/",
          "height": 598
        },
        "id": "A2pezntssIYF",
        "outputId": "62f2b9eb-15f1-48c4-a842-dee2645bb2ed"
      },
      "outputs": [
        {
          "name": "stdout",
          "output_type": "stream",
          "text": [
            "Accuracy with Random Forest: 0.989149634115569\n"
          ]
        }
      ],
      "source": [
        "# Calculate accuracy\n",
        "accuracy_rf = accuracy_score(Y_test_le, y_pred_rf)\n",
        "print(\"Accuracy with Random Forest:\", accuracy_rf)\n"
      ]
    },
    {
      "cell_type": "code",
      "execution_count": null,
      "metadata": {
        "id": "fWzo0b3qshLR"
      },
      "outputs": [],
      "source": []
    },
    {
      "cell_type": "markdown",
      "metadata": {
        "id": "qlYP43QYsmcr"
      },
      "source": [
        "#RF"
      ]
    },
    {
      "cell_type": "code",
      "execution_count": null,
      "metadata": {
        "id": "cy7ON4RVsnv3"
      },
      "outputs": [],
      "source": []
    },
    {
      "cell_type": "code",
      "execution_count": 46,
      "metadata": {
        "id": "uD6rzgMisn86"
      },
      "outputs": [],
      "source": [
        "#read_csv to read the dataset\n",
        "df = pd.read_csv('/Users/mominaali/Desktop/PhD MTSU/2nd Semester/7350/Project/SemesterProject/star_classification.csv')"
      ]
    },
    {
      "cell_type": "code",
      "execution_count": 47,
      "metadata": {
        "colab": {
          "base_uri": "https://localhost:8080/",
          "height": 379
        },
        "id": "FcwODEDFsn87",
        "outputId": "3d21b666-3ccb-43b4-9d1a-5fc024b60fc3"
      },
      "outputs": [
        {
          "data": {
            "text/html": [
              "<div>\n",
              "<style scoped>\n",
              "    .dataframe tbody tr th:only-of-type {\n",
              "        vertical-align: middle;\n",
              "    }\n",
              "\n",
              "    .dataframe tbody tr th {\n",
              "        vertical-align: top;\n",
              "    }\n",
              "\n",
              "    .dataframe thead th {\n",
              "        text-align: right;\n",
              "    }\n",
              "</style>\n",
              "<table border=\"1\" class=\"dataframe\">\n",
              "  <thead>\n",
              "    <tr style=\"text-align: right;\">\n",
              "      <th></th>\n",
              "      <th>obj_ID</th>\n",
              "      <th>alpha</th>\n",
              "      <th>delta</th>\n",
              "      <th>u</th>\n",
              "      <th>g</th>\n",
              "      <th>r</th>\n",
              "      <th>i</th>\n",
              "      <th>z</th>\n",
              "      <th>run_ID</th>\n",
              "      <th>rerun_ID</th>\n",
              "      <th>cam_col</th>\n",
              "      <th>field_ID</th>\n",
              "      <th>spec_obj_ID</th>\n",
              "      <th>class</th>\n",
              "      <th>redshift</th>\n",
              "      <th>plate</th>\n",
              "      <th>MJD</th>\n",
              "      <th>fiber_ID</th>\n",
              "    </tr>\n",
              "  </thead>\n",
              "  <tbody>\n",
              "    <tr>\n",
              "      <th>0</th>\n",
              "      <td>1.237661e+18</td>\n",
              "      <td>135.689107</td>\n",
              "      <td>32.494632</td>\n",
              "      <td>23.87882</td>\n",
              "      <td>22.27530</td>\n",
              "      <td>20.39501</td>\n",
              "      <td>19.16573</td>\n",
              "      <td>18.79371</td>\n",
              "      <td>3606</td>\n",
              "      <td>301</td>\n",
              "      <td>2</td>\n",
              "      <td>79</td>\n",
              "      <td>6.543777e+18</td>\n",
              "      <td>GALAXY</td>\n",
              "      <td>0.634794</td>\n",
              "      <td>5812</td>\n",
              "      <td>56354</td>\n",
              "      <td>171</td>\n",
              "    </tr>\n",
              "    <tr>\n",
              "      <th>1</th>\n",
              "      <td>1.237665e+18</td>\n",
              "      <td>144.826101</td>\n",
              "      <td>31.274185</td>\n",
              "      <td>24.77759</td>\n",
              "      <td>22.83188</td>\n",
              "      <td>22.58444</td>\n",
              "      <td>21.16812</td>\n",
              "      <td>21.61427</td>\n",
              "      <td>4518</td>\n",
              "      <td>301</td>\n",
              "      <td>5</td>\n",
              "      <td>119</td>\n",
              "      <td>1.176014e+19</td>\n",
              "      <td>GALAXY</td>\n",
              "      <td>0.779136</td>\n",
              "      <td>10445</td>\n",
              "      <td>58158</td>\n",
              "      <td>427</td>\n",
              "    </tr>\n",
              "    <tr>\n",
              "      <th>2</th>\n",
              "      <td>1.237661e+18</td>\n",
              "      <td>142.188790</td>\n",
              "      <td>35.582444</td>\n",
              "      <td>25.26307</td>\n",
              "      <td>22.66389</td>\n",
              "      <td>20.60976</td>\n",
              "      <td>19.34857</td>\n",
              "      <td>18.94827</td>\n",
              "      <td>3606</td>\n",
              "      <td>301</td>\n",
              "      <td>2</td>\n",
              "      <td>120</td>\n",
              "      <td>5.152200e+18</td>\n",
              "      <td>GALAXY</td>\n",
              "      <td>0.644195</td>\n",
              "      <td>4576</td>\n",
              "      <td>55592</td>\n",
              "      <td>299</td>\n",
              "    </tr>\n",
              "    <tr>\n",
              "      <th>3</th>\n",
              "      <td>1.237663e+18</td>\n",
              "      <td>338.741038</td>\n",
              "      <td>-0.402828</td>\n",
              "      <td>22.13682</td>\n",
              "      <td>23.77656</td>\n",
              "      <td>21.61162</td>\n",
              "      <td>20.50454</td>\n",
              "      <td>19.25010</td>\n",
              "      <td>4192</td>\n",
              "      <td>301</td>\n",
              "      <td>3</td>\n",
              "      <td>214</td>\n",
              "      <td>1.030107e+19</td>\n",
              "      <td>GALAXY</td>\n",
              "      <td>0.932346</td>\n",
              "      <td>9149</td>\n",
              "      <td>58039</td>\n",
              "      <td>775</td>\n",
              "    </tr>\n",
              "    <tr>\n",
              "      <th>4</th>\n",
              "      <td>1.237680e+18</td>\n",
              "      <td>345.282593</td>\n",
              "      <td>21.183866</td>\n",
              "      <td>19.43718</td>\n",
              "      <td>17.58028</td>\n",
              "      <td>16.49747</td>\n",
              "      <td>15.97711</td>\n",
              "      <td>15.54461</td>\n",
              "      <td>8102</td>\n",
              "      <td>301</td>\n",
              "      <td>3</td>\n",
              "      <td>137</td>\n",
              "      <td>6.891865e+18</td>\n",
              "      <td>GALAXY</td>\n",
              "      <td>0.116123</td>\n",
              "      <td>6121</td>\n",
              "      <td>56187</td>\n",
              "      <td>842</td>\n",
              "    </tr>\n",
              "    <tr>\n",
              "      <th>5</th>\n",
              "      <td>1.237680e+18</td>\n",
              "      <td>340.995121</td>\n",
              "      <td>20.589476</td>\n",
              "      <td>23.48827</td>\n",
              "      <td>23.33776</td>\n",
              "      <td>21.32195</td>\n",
              "      <td>20.25615</td>\n",
              "      <td>19.54544</td>\n",
              "      <td>8102</td>\n",
              "      <td>301</td>\n",
              "      <td>3</td>\n",
              "      <td>110</td>\n",
              "      <td>5.658977e+18</td>\n",
              "      <td>QSO</td>\n",
              "      <td>1.424659</td>\n",
              "      <td>5026</td>\n",
              "      <td>55855</td>\n",
              "      <td>741</td>\n",
              "    </tr>\n",
              "    <tr>\n",
              "      <th>6</th>\n",
              "      <td>1.237679e+18</td>\n",
              "      <td>23.234926</td>\n",
              "      <td>11.418188</td>\n",
              "      <td>21.46973</td>\n",
              "      <td>21.17624</td>\n",
              "      <td>20.92829</td>\n",
              "      <td>20.60826</td>\n",
              "      <td>20.42573</td>\n",
              "      <td>7773</td>\n",
              "      <td>301</td>\n",
              "      <td>2</td>\n",
              "      <td>462</td>\n",
              "      <td>1.246262e+19</td>\n",
              "      <td>QSO</td>\n",
              "      <td>0.586455</td>\n",
              "      <td>11069</td>\n",
              "      <td>58456</td>\n",
              "      <td>113</td>\n",
              "    </tr>\n",
              "    <tr>\n",
              "      <th>7</th>\n",
              "      <td>1.237679e+18</td>\n",
              "      <td>5.433176</td>\n",
              "      <td>12.065186</td>\n",
              "      <td>22.24979</td>\n",
              "      <td>22.02172</td>\n",
              "      <td>20.34126</td>\n",
              "      <td>19.48794</td>\n",
              "      <td>18.84999</td>\n",
              "      <td>7773</td>\n",
              "      <td>301</td>\n",
              "      <td>2</td>\n",
              "      <td>346</td>\n",
              "      <td>6.961443e+18</td>\n",
              "      <td>GALAXY</td>\n",
              "      <td>0.477009</td>\n",
              "      <td>6183</td>\n",
              "      <td>56210</td>\n",
              "      <td>15</td>\n",
              "    </tr>\n",
              "    <tr>\n",
              "      <th>8</th>\n",
              "      <td>1.237661e+18</td>\n",
              "      <td>200.290475</td>\n",
              "      <td>47.199402</td>\n",
              "      <td>24.40286</td>\n",
              "      <td>22.35669</td>\n",
              "      <td>20.61032</td>\n",
              "      <td>19.46490</td>\n",
              "      <td>18.95852</td>\n",
              "      <td>3716</td>\n",
              "      <td>301</td>\n",
              "      <td>5</td>\n",
              "      <td>108</td>\n",
              "      <td>7.459285e+18</td>\n",
              "      <td>GALAXY</td>\n",
              "      <td>0.660012</td>\n",
              "      <td>6625</td>\n",
              "      <td>56386</td>\n",
              "      <td>719</td>\n",
              "    </tr>\n",
              "    <tr>\n",
              "      <th>9</th>\n",
              "      <td>1.237671e+18</td>\n",
              "      <td>39.149691</td>\n",
              "      <td>28.102842</td>\n",
              "      <td>21.74669</td>\n",
              "      <td>20.03493</td>\n",
              "      <td>19.17553</td>\n",
              "      <td>18.81823</td>\n",
              "      <td>18.65422</td>\n",
              "      <td>5934</td>\n",
              "      <td>301</td>\n",
              "      <td>4</td>\n",
              "      <td>122</td>\n",
              "      <td>2.751763e+18</td>\n",
              "      <td>STAR</td>\n",
              "      <td>-0.000008</td>\n",
              "      <td>2444</td>\n",
              "      <td>54082</td>\n",
              "      <td>232</td>\n",
              "    </tr>\n",
              "  </tbody>\n",
              "</table>\n",
              "</div>"
            ],
            "text/plain": [
              "         obj_ID       alpha      delta         u         g         r  \\\n",
              "0  1.237661e+18  135.689107  32.494632  23.87882  22.27530  20.39501   \n",
              "1  1.237665e+18  144.826101  31.274185  24.77759  22.83188  22.58444   \n",
              "2  1.237661e+18  142.188790  35.582444  25.26307  22.66389  20.60976   \n",
              "3  1.237663e+18  338.741038  -0.402828  22.13682  23.77656  21.61162   \n",
              "4  1.237680e+18  345.282593  21.183866  19.43718  17.58028  16.49747   \n",
              "5  1.237680e+18  340.995121  20.589476  23.48827  23.33776  21.32195   \n",
              "6  1.237679e+18   23.234926  11.418188  21.46973  21.17624  20.92829   \n",
              "7  1.237679e+18    5.433176  12.065186  22.24979  22.02172  20.34126   \n",
              "8  1.237661e+18  200.290475  47.199402  24.40286  22.35669  20.61032   \n",
              "9  1.237671e+18   39.149691  28.102842  21.74669  20.03493  19.17553   \n",
              "\n",
              "          i         z  run_ID  rerun_ID  cam_col  field_ID   spec_obj_ID  \\\n",
              "0  19.16573  18.79371    3606       301        2        79  6.543777e+18   \n",
              "1  21.16812  21.61427    4518       301        5       119  1.176014e+19   \n",
              "2  19.34857  18.94827    3606       301        2       120  5.152200e+18   \n",
              "3  20.50454  19.25010    4192       301        3       214  1.030107e+19   \n",
              "4  15.97711  15.54461    8102       301        3       137  6.891865e+18   \n",
              "5  20.25615  19.54544    8102       301        3       110  5.658977e+18   \n",
              "6  20.60826  20.42573    7773       301        2       462  1.246262e+19   \n",
              "7  19.48794  18.84999    7773       301        2       346  6.961443e+18   \n",
              "8  19.46490  18.95852    3716       301        5       108  7.459285e+18   \n",
              "9  18.81823  18.65422    5934       301        4       122  2.751763e+18   \n",
              "\n",
              "    class  redshift  plate    MJD  fiber_ID  \n",
              "0  GALAXY  0.634794   5812  56354       171  \n",
              "1  GALAXY  0.779136  10445  58158       427  \n",
              "2  GALAXY  0.644195   4576  55592       299  \n",
              "3  GALAXY  0.932346   9149  58039       775  \n",
              "4  GALAXY  0.116123   6121  56187       842  \n",
              "5     QSO  1.424659   5026  55855       741  \n",
              "6     QSO  0.586455  11069  58456       113  \n",
              "7  GALAXY  0.477009   6183  56210        15  \n",
              "8  GALAXY  0.660012   6625  56386       719  \n",
              "9    STAR -0.000008   2444  54082       232  "
            ]
          },
          "execution_count": 47,
          "metadata": {},
          "output_type": "execute_result"
        }
      ],
      "source": [
        "df.head(10)"
      ]
    },
    {
      "cell_type": "code",
      "execution_count": 48,
      "metadata": {
        "colab": {
          "base_uri": "https://localhost:8080/"
        },
        "id": "39DwF_dFsn89",
        "outputId": "95d45826-d9a4-4687-c8af-ce90289b8448"
      },
      "outputs": [
        {
          "data": {
            "text/plain": [
              "(100000, 18)"
            ]
          },
          "execution_count": 48,
          "metadata": {},
          "output_type": "execute_result"
        }
      ],
      "source": [
        "df.shape"
      ]
    },
    {
      "cell_type": "code",
      "execution_count": 49,
      "metadata": {
        "id": "q-zWIh3rsn8-"
      },
      "outputs": [],
      "source": [
        "X = df.drop(\"class\", axis=1)"
      ]
    },
    {
      "cell_type": "code",
      "execution_count": 50,
      "metadata": {
        "colab": {
          "base_uri": "https://localhost:8080/"
        },
        "id": "djLH7Co_sn8-",
        "outputId": "2559ba22-70e8-4968-acb4-0dca4eae73d5"
      },
      "outputs": [
        {
          "name": "stdout",
          "output_type": "stream",
          "text": [
            "<class 'pandas.core.frame.DataFrame'>\n",
            "RangeIndex: 100000 entries, 0 to 99999\n",
            "Data columns (total 17 columns):\n",
            " #   Column       Non-Null Count   Dtype  \n",
            "---  ------       --------------   -----  \n",
            " 0   obj_ID       100000 non-null  float64\n",
            " 1   alpha        100000 non-null  float64\n",
            " 2   delta        100000 non-null  float64\n",
            " 3   u            100000 non-null  float64\n",
            " 4   g            100000 non-null  float64\n",
            " 5   r            100000 non-null  float64\n",
            " 6   i            100000 non-null  float64\n",
            " 7   z            100000 non-null  float64\n",
            " 8   run_ID       100000 non-null  int64  \n",
            " 9   rerun_ID     100000 non-null  int64  \n",
            " 10  cam_col      100000 non-null  int64  \n",
            " 11  field_ID     100000 non-null  int64  \n",
            " 12  spec_obj_ID  100000 non-null  float64\n",
            " 13  redshift     100000 non-null  float64\n",
            " 14  plate        100000 non-null  int64  \n",
            " 15  MJD          100000 non-null  int64  \n",
            " 16  fiber_ID     100000 non-null  int64  \n",
            "dtypes: float64(10), int64(7)\n",
            "memory usage: 13.0 MB\n"
          ]
        }
      ],
      "source": [
        "X.info()"
      ]
    },
    {
      "cell_type": "code",
      "execution_count": 51,
      "metadata": {
        "id": "Vyp9Qd_Osn8_"
      },
      "outputs": [],
      "source": [
        "Y = df['class']"
      ]
    },
    {
      "cell_type": "code",
      "execution_count": 52,
      "metadata": {
        "colab": {
          "base_uri": "https://localhost:8080/"
        },
        "id": "yvCLKSFbsn8_",
        "outputId": "b5b4e375-8e4e-48b8-e6e2-f75e343b462b"
      },
      "outputs": [
        {
          "data": {
            "text/plain": [
              "(100000,)"
            ]
          },
          "execution_count": 52,
          "metadata": {},
          "output_type": "execute_result"
        }
      ],
      "source": [
        "Y.shape"
      ]
    },
    {
      "cell_type": "code",
      "execution_count": 53,
      "metadata": {
        "colab": {
          "base_uri": "https://localhost:8080/"
        },
        "id": "bs6GbAwdsn8_",
        "outputId": "3082dcc2-8955-4bb7-db7f-3c63cd96a0a0"
      },
      "outputs": [
        {
          "name": "stdout",
          "output_type": "stream",
          "text": [
            "<class 'pandas.core.series.Series'>\n",
            "RangeIndex: 100000 entries, 0 to 99999\n",
            "Series name: class\n",
            "Non-Null Count   Dtype \n",
            "--------------   ----- \n",
            "100000 non-null  object\n",
            "dtypes: object(1)\n",
            "memory usage: 781.4+ KB\n"
          ]
        }
      ],
      "source": [
        "Y.info()"
      ]
    },
    {
      "cell_type": "code",
      "execution_count": 54,
      "metadata": {
        "id": "M_EBShvbsn9A"
      },
      "outputs": [],
      "source": [
        "X_train, X_test, Y_train, Y_test = train_test_split(X, Y, test_size=0.2, random_state=0, stratify=Y)"
      ]
    },
    {
      "cell_type": "code",
      "execution_count": 55,
      "metadata": {
        "id": "CK2z5Ezbsn9A"
      },
      "outputs": [],
      "source": [
        "from sklearn.preprocessing import StandardScaler\n",
        "sc = StandardScaler()\n",
        "\n",
        "sc.fit(X_train)\n",
        "\n",
        "X_train_sc = sc.transform(X_train)\n",
        "X_train_sc = pd.DataFrame(X_train_sc, columns = X_train.columns)\n",
        "\n",
        "X_test_sc = sc.transform(X_test)\n",
        "X_test_sc = pd.DataFrame(X_test_sc, columns = X_test.columns)"
      ]
    },
    {
      "cell_type": "code",
      "execution_count": 56,
      "metadata": {
        "id": "Zd0RP2ncsn9B"
      },
      "outputs": [],
      "source": [
        "# label_encoder = preprocessing.LabelEncoder()\n",
        "\n",
        "# Y_train_le = label_encoder.fit_transform(Y_train)\n",
        "# Y_test_le = label_encoder.fit_transform(Y_test)"
      ]
    },
    {
      "cell_type": "code",
      "execution_count": 57,
      "metadata": {
        "id": "bUmF15yZsn9B"
      },
      "outputs": [],
      "source": [
        "Y_train_le = Y_train\n",
        "Y_test_le = Y_test"
      ]
    },
    {
      "cell_type": "code",
      "execution_count": 58,
      "metadata": {
        "colab": {
          "base_uri": "https://localhost:8080/"
        },
        "id": "MviA4IHgsn9B",
        "outputId": "11a9131c-343a-4997-f867-23c08df091cc"
      },
      "outputs": [
        {
          "data": {
            "text/plain": [
              "(80000, 17)"
            ]
          },
          "execution_count": 58,
          "metadata": {},
          "output_type": "execute_result"
        }
      ],
      "source": [
        "X_train_sc.shape"
      ]
    },
    {
      "cell_type": "code",
      "execution_count": 59,
      "metadata": {
        "colab": {
          "base_uri": "https://localhost:8080/"
        },
        "id": "qJpcV0q3sn9C",
        "outputId": "18ed2646-4671-4593-8df4-30150a9ef643"
      },
      "outputs": [
        {
          "data": {
            "text/plain": [
              "(20000, 17)"
            ]
          },
          "execution_count": 59,
          "metadata": {},
          "output_type": "execute_result"
        }
      ],
      "source": [
        "X_test_sc.shape"
      ]
    },
    {
      "cell_type": "code",
      "execution_count": 60,
      "metadata": {
        "colab": {
          "base_uri": "https://localhost:8080/"
        },
        "id": "eD784NPJsn9C",
        "outputId": "4081e1ca-6e6c-4fe5-e6da-b5d5f4f3c783"
      },
      "outputs": [
        {
          "data": {
            "text/plain": [
              "(80000,)"
            ]
          },
          "execution_count": 60,
          "metadata": {},
          "output_type": "execute_result"
        }
      ],
      "source": [
        "Y_train_le.shape"
      ]
    },
    {
      "cell_type": "code",
      "execution_count": 61,
      "metadata": {
        "colab": {
          "base_uri": "https://localhost:8080/"
        },
        "id": "wE5VPJQesn9C",
        "outputId": "87e91bb6-ef0a-4fbb-c36e-22077c19a1b0"
      },
      "outputs": [
        {
          "data": {
            "text/plain": [
              "(20000,)"
            ]
          },
          "execution_count": 61,
          "metadata": {},
          "output_type": "execute_result"
        }
      ],
      "source": [
        "Y_test_le.shape"
      ]
    },
    {
      "cell_type": "code",
      "execution_count": null,
      "metadata": {
        "id": "8xLWsD5HtZkG"
      },
      "outputs": [],
      "source": []
    },
    {
      "cell_type": "code",
      "execution_count": 62,
      "metadata": {
        "id": "xkeb46P6wW8A"
      },
      "outputs": [],
      "source": [
        "dim = X_train_sc.shape[1]"
      ]
    },
    {
      "cell_type": "code",
      "execution_count": 63,
      "metadata": {
        "colab": {
          "base_uri": "https://localhost:8080/"
        },
        "id": "NE2UJkuCwW8N",
        "outputId": "32e1f6e4-9612-47ab-e672-ef643b73c074"
      },
      "outputs": [
        {
          "name": "stdout",
          "output_type": "stream",
          "text": [
            "Epoch 1/50\n"
          ]
        },
        {
          "name": "stdout",
          "output_type": "stream",
          "text": [
            "\u001b[1m2500/2500\u001b[0m \u001b[32m━━━━━━━━━━━━━━━━━━━━\u001b[0m\u001b[37m\u001b[0m \u001b[1m1s\u001b[0m 262us/step - loss: 0.5399 - val_loss: 0.4268\n",
            "Epoch 2/50\n",
            "\u001b[1m2500/2500\u001b[0m \u001b[32m━━━━━━━━━━━━━━━━━━━━\u001b[0m\u001b[37m\u001b[0m \u001b[1m1s\u001b[0m 240us/step - loss: 0.6184 - val_loss: 0.4252\n",
            "Epoch 3/50\n",
            "\u001b[1m2500/2500\u001b[0m \u001b[32m━━━━━━━━━━━━━━━━━━━━\u001b[0m\u001b[37m\u001b[0m \u001b[1m1s\u001b[0m 239us/step - loss: 0.4348 - val_loss: 0.4248\n",
            "Epoch 4/50\n",
            "\u001b[1m2500/2500\u001b[0m \u001b[32m━━━━━━━━━━━━━━━━━━━━\u001b[0m\u001b[37m\u001b[0m \u001b[1m1s\u001b[0m 240us/step - loss: 0.4376 - val_loss: 0.4245\n",
            "Epoch 5/50\n",
            "\u001b[1m2500/2500\u001b[0m \u001b[32m━━━━━━━━━━━━━━━━━━━━\u001b[0m\u001b[37m\u001b[0m \u001b[1m1s\u001b[0m 239us/step - loss: 0.5793 - val_loss: 0.4243\n",
            "Epoch 6/50\n",
            "\u001b[1m2500/2500\u001b[0m \u001b[32m━━━━━━━━━━━━━━━━━━━━\u001b[0m\u001b[37m\u001b[0m \u001b[1m1s\u001b[0m 241us/step - loss: 0.5674 - val_loss: 0.4241\n",
            "Epoch 7/50\n",
            "\u001b[1m2500/2500\u001b[0m \u001b[32m━━━━━━━━━━━━━━━━━━━━\u001b[0m\u001b[37m\u001b[0m \u001b[1m1s\u001b[0m 236us/step - loss: 0.6362 - val_loss: 0.4240\n",
            "Epoch 8/50\n",
            "\u001b[1m2500/2500\u001b[0m \u001b[32m━━━━━━━━━━━━━━━━━━━━\u001b[0m\u001b[37m\u001b[0m \u001b[1m1s\u001b[0m 237us/step - loss: 0.7063 - val_loss: 0.4239\n",
            "Epoch 9/50\n",
            "\u001b[1m2500/2500\u001b[0m \u001b[32m━━━━━━━━━━━━━━━━━━━━\u001b[0m\u001b[37m\u001b[0m \u001b[1m1s\u001b[0m 237us/step - loss: 0.5119 - val_loss: 0.4239\n",
            "Epoch 10/50\n",
            "\u001b[1m2500/2500\u001b[0m \u001b[32m━━━━━━━━━━━━━━━━━━━━\u001b[0m\u001b[37m\u001b[0m \u001b[1m1s\u001b[0m 241us/step - loss: 0.5195 - val_loss: 0.4239\n",
            "Epoch 11/50\n",
            "\u001b[1m2500/2500\u001b[0m \u001b[32m━━━━━━━━━━━━━━━━━━━━\u001b[0m\u001b[37m\u001b[0m \u001b[1m1s\u001b[0m 238us/step - loss: 0.5298 - val_loss: 0.4238\n",
            "Epoch 12/50\n",
            "\u001b[1m2500/2500\u001b[0m \u001b[32m━━━━━━━━━━━━━━━━━━━━\u001b[0m\u001b[37m\u001b[0m \u001b[1m1s\u001b[0m 240us/step - loss: 0.5385 - val_loss: 0.4238\n",
            "Epoch 13/50\n",
            "\u001b[1m2500/2500\u001b[0m \u001b[32m━━━━━━━━━━━━━━━━━━━━\u001b[0m\u001b[37m\u001b[0m \u001b[1m1s\u001b[0m 239us/step - loss: 0.7425 - val_loss: 0.4237\n",
            "Epoch 14/50\n",
            "\u001b[1m2500/2500\u001b[0m \u001b[32m━━━━━━━━━━━━━━━━━━━━\u001b[0m\u001b[37m\u001b[0m \u001b[1m1s\u001b[0m 236us/step - loss: 0.5321 - val_loss: 0.4237\n",
            "Epoch 15/50\n",
            "\u001b[1m2500/2500\u001b[0m \u001b[32m━━━━━━━━━━━━━━━━━━━━\u001b[0m\u001b[37m\u001b[0m \u001b[1m1s\u001b[0m 239us/step - loss: 0.4769 - val_loss: 0.4237\n",
            "Epoch 16/50\n",
            "\u001b[1m2500/2500\u001b[0m \u001b[32m━━━━━━━━━━━━━━━━━━━━\u001b[0m\u001b[37m\u001b[0m \u001b[1m1s\u001b[0m 238us/step - loss: 0.5106 - val_loss: 0.4236\n",
            "Epoch 17/50\n",
            "\u001b[1m2500/2500\u001b[0m \u001b[32m━━━━━━━━━━━━━━━━━━━━\u001b[0m\u001b[37m\u001b[0m \u001b[1m1s\u001b[0m 238us/step - loss: 0.6441 - val_loss: 0.4235\n",
            "Epoch 18/50\n",
            "\u001b[1m2500/2500\u001b[0m \u001b[32m━━━━━━━━━━━━━━━━━━━━\u001b[0m\u001b[37m\u001b[0m \u001b[1m1s\u001b[0m 238us/step - loss: 0.5060 - val_loss: 0.4235\n",
            "Epoch 19/50\n",
            "\u001b[1m2500/2500\u001b[0m \u001b[32m━━━━━━━━━━━━━━━━━━━━\u001b[0m\u001b[37m\u001b[0m \u001b[1m1s\u001b[0m 242us/step - loss: 0.4343 - val_loss: 0.4235\n",
            "Epoch 20/50\n",
            "\u001b[1m2500/2500\u001b[0m \u001b[32m━━━━━━━━━━━━━━━━━━━━\u001b[0m\u001b[37m\u001b[0m \u001b[1m1s\u001b[0m 248us/step - loss: 0.4884 - val_loss: 0.4235\n",
            "Epoch 21/50\n",
            "\u001b[1m2500/2500\u001b[0m \u001b[32m━━━━━━━━━━━━━━━━━━━━\u001b[0m\u001b[37m\u001b[0m \u001b[1m1s\u001b[0m 243us/step - loss: 0.4654 - val_loss: 0.4234\n",
            "Epoch 22/50\n",
            "\u001b[1m2500/2500\u001b[0m \u001b[32m━━━━━━━━━━━━━━━━━━━━\u001b[0m\u001b[37m\u001b[0m \u001b[1m1s\u001b[0m 248us/step - loss: 0.4569 - val_loss: 0.4234\n",
            "Epoch 23/50\n",
            "\u001b[1m2500/2500\u001b[0m \u001b[32m━━━━━━━━━━━━━━━━━━━━\u001b[0m\u001b[37m\u001b[0m \u001b[1m1s\u001b[0m 238us/step - loss: 0.5939 - val_loss: 0.4234\n",
            "Epoch 24/50\n",
            "\u001b[1m2500/2500\u001b[0m \u001b[32m━━━━━━━━━━━━━━━━━━━━\u001b[0m\u001b[37m\u001b[0m \u001b[1m1s\u001b[0m 242us/step - loss: 0.5638 - val_loss: 0.4233\n",
            "Epoch 25/50\n",
            "\u001b[1m2500/2500\u001b[0m \u001b[32m━━━━━━━━━━━━━━━━━━━━\u001b[0m\u001b[37m\u001b[0m \u001b[1m1s\u001b[0m 238us/step - loss: 0.5443 - val_loss: 0.4233\n",
            "Epoch 26/50\n",
            "\u001b[1m2500/2500\u001b[0m \u001b[32m━━━━━━━━━━━━━━━━━━━━\u001b[0m\u001b[37m\u001b[0m \u001b[1m1s\u001b[0m 236us/step - loss: 0.7004 - val_loss: 0.4233\n",
            "Epoch 27/50\n",
            "\u001b[1m2500/2500\u001b[0m \u001b[32m━━━━━━━━━━━━━━━━━━━━\u001b[0m\u001b[37m\u001b[0m \u001b[1m1s\u001b[0m 237us/step - loss: 0.4556 - val_loss: 0.4232\n",
            "Epoch 28/50\n",
            "\u001b[1m2500/2500\u001b[0m \u001b[32m━━━━━━━━━━━━━━━━━━━━\u001b[0m\u001b[37m\u001b[0m \u001b[1m1s\u001b[0m 262us/step - loss: 0.5580 - val_loss: 0.4232\n",
            "Epoch 29/50\n",
            "\u001b[1m2500/2500\u001b[0m \u001b[32m━━━━━━━━━━━━━━━━━━━━\u001b[0m\u001b[37m\u001b[0m \u001b[1m1s\u001b[0m 242us/step - loss: 0.5318 - val_loss: 0.4232\n",
            "Epoch 30/50\n",
            "\u001b[1m2500/2500\u001b[0m \u001b[32m━━━━━━━━━━━━━━━━━━━━\u001b[0m\u001b[37m\u001b[0m \u001b[1m1s\u001b[0m 237us/step - loss: 0.4672 - val_loss: 0.4232\n",
            "Epoch 31/50\n",
            "\u001b[1m2500/2500\u001b[0m \u001b[32m━━━━━━━━━━━━━━━━━━━━\u001b[0m\u001b[37m\u001b[0m \u001b[1m1s\u001b[0m 239us/step - loss: 0.9090 - val_loss: 0.4232\n",
            "Epoch 32/50\n",
            "\u001b[1m2500/2500\u001b[0m \u001b[32m━━━━━━━━━━━━━━━━━━━━\u001b[0m\u001b[37m\u001b[0m \u001b[1m1s\u001b[0m 238us/step - loss: 0.5653 - val_loss: 0.4232\n",
            "Epoch 33/50\n",
            "\u001b[1m2500/2500\u001b[0m \u001b[32m━━━━━━━━━━━━━━━━━━━━\u001b[0m\u001b[37m\u001b[0m \u001b[1m1s\u001b[0m 237us/step - loss: 0.5657 - val_loss: 0.4232\n",
            "Epoch 34/50\n",
            "\u001b[1m2500/2500\u001b[0m \u001b[32m━━━━━━━━━━━━━━━━━━━━\u001b[0m\u001b[37m\u001b[0m \u001b[1m1s\u001b[0m 237us/step - loss: 0.5749 - val_loss: 0.4232\n",
            "Epoch 35/50\n",
            "\u001b[1m2500/2500\u001b[0m \u001b[32m━━━━━━━━━━━━━━━━━━━━\u001b[0m\u001b[37m\u001b[0m \u001b[1m1s\u001b[0m 237us/step - loss: 0.4807 - val_loss: 0.4232\n",
            "Epoch 36/50\n",
            "\u001b[1m2500/2500\u001b[0m \u001b[32m━━━━━━━━━━━━━━━━━━━━\u001b[0m\u001b[37m\u001b[0m \u001b[1m1s\u001b[0m 238us/step - loss: 0.4440 - val_loss: 0.4232\n",
            "Epoch 37/50\n",
            "\u001b[1m2500/2500\u001b[0m \u001b[32m━━━━━━━━━━━━━━━━━━━━\u001b[0m\u001b[37m\u001b[0m \u001b[1m1s\u001b[0m 237us/step - loss: 0.6743 - val_loss: 0.4232\n",
            "Epoch 38/50\n",
            "\u001b[1m2500/2500\u001b[0m \u001b[32m━━━━━━━━━━━━━━━━━━━━\u001b[0m\u001b[37m\u001b[0m \u001b[1m1s\u001b[0m 253us/step - loss: 0.8341 - val_loss: 0.4232\n",
            "Epoch 39/50\n",
            "\u001b[1m2500/2500\u001b[0m \u001b[32m━━━━━━━━━━━━━━━━━━━━\u001b[0m\u001b[37m\u001b[0m \u001b[1m1s\u001b[0m 241us/step - loss: 0.5152 - val_loss: 0.4232\n",
            "Epoch 40/50\n",
            "\u001b[1m2500/2500\u001b[0m \u001b[32m━━━━━━━━━━━━━━━━━━━━\u001b[0m\u001b[37m\u001b[0m \u001b[1m1s\u001b[0m 243us/step - loss: 0.7872 - val_loss: 0.4232\n",
            "Epoch 41/50\n",
            "\u001b[1m2500/2500\u001b[0m \u001b[32m━━━━━━━━━━━━━━━━━━━━\u001b[0m\u001b[37m\u001b[0m \u001b[1m1s\u001b[0m 239us/step - loss: 0.7607 - val_loss: 0.4232\n",
            "Epoch 42/50\n",
            "\u001b[1m2500/2500\u001b[0m \u001b[32m━━━━━━━━━━━━━━━━━━━━\u001b[0m\u001b[37m\u001b[0m \u001b[1m1s\u001b[0m 237us/step - loss: 0.4657 - val_loss: 0.4232\n",
            "Epoch 43/50\n",
            "\u001b[1m2500/2500\u001b[0m \u001b[32m━━━━━━━━━━━━━━━━━━━━\u001b[0m\u001b[37m\u001b[0m \u001b[1m1s\u001b[0m 238us/step - loss: 0.7561 - val_loss: 0.4232\n",
            "Epoch 44/50\n",
            "\u001b[1m2500/2500\u001b[0m \u001b[32m━━━━━━━━━━━━━━━━━━━━\u001b[0m\u001b[37m\u001b[0m \u001b[1m1s\u001b[0m 242us/step - loss: 0.9369 - val_loss: 0.4232\n",
            "Epoch 45/50\n",
            "\u001b[1m2500/2500\u001b[0m \u001b[32m━━━━━━━━━━━━━━━━━━━━\u001b[0m\u001b[37m\u001b[0m \u001b[1m1s\u001b[0m 239us/step - loss: 0.4932 - val_loss: 0.4232\n",
            "Epoch 46/50\n",
            "\u001b[1m2500/2500\u001b[0m \u001b[32m━━━━━━━━━━━━━━━━━━━━\u001b[0m\u001b[37m\u001b[0m \u001b[1m1s\u001b[0m 238us/step - loss: 0.6170 - val_loss: 0.4232\n",
            "Epoch 47/50\n",
            "\u001b[1m2500/2500\u001b[0m \u001b[32m━━━━━━━━━━━━━━━━━━━━\u001b[0m\u001b[37m\u001b[0m \u001b[1m1s\u001b[0m 237us/step - loss: 0.7486 - val_loss: 0.4232\n",
            "Epoch 48/50\n",
            "\u001b[1m2500/2500\u001b[0m \u001b[32m━━━━━━━━━━━━━━━━━━━━\u001b[0m\u001b[37m\u001b[0m \u001b[1m1s\u001b[0m 241us/step - loss: 0.6624 - val_loss: 0.4232\n",
            "Epoch 49/50\n",
            "\u001b[1m2500/2500\u001b[0m \u001b[32m━━━━━━━━━━━━━━━━━━━━\u001b[0m\u001b[37m\u001b[0m \u001b[1m1s\u001b[0m 238us/step - loss: 0.4732 - val_loss: 0.4232\n",
            "Epoch 50/50\n",
            "\u001b[1m2500/2500\u001b[0m \u001b[32m━━━━━━━━━━━━━━━━━━━━\u001b[0m\u001b[37m\u001b[0m \u001b[1m1s\u001b[0m 248us/step - loss: 0.4922 - val_loss: 0.4232\n"
          ]
        },
        {
          "data": {
            "text/plain": [
              "<keras.src.callbacks.history.History at 0x291de89e0>"
            ]
          },
          "execution_count": 63,
          "metadata": {},
          "output_type": "execute_result"
        }
      ],
      "source": [
        "inpLayer = Input(shape=(dim,))\n",
        "encoder_arch = Dense(64, activation='relu')(inpLayer)\n",
        "decoder_arch = Dense(dim, activation='sigmoid')(encoder_arch)\n",
        "dimRedAE = Model(inpLayer, decoder_arch)\n",
        "dimRedAE.compile(optimizer='adam', loss='mse')\n",
        "\n",
        "dimRedAE.fit(X_train_sc, X_train_sc, epochs=50, batch_size=32, validation_data=(X_test_sc, X_test_sc))"
      ]
    },
    {
      "cell_type": "code",
      "execution_count": 64,
      "metadata": {
        "colab": {
          "base_uri": "https://localhost:8080/"
        },
        "id": "OHPn-qQHwW8R",
        "outputId": "792ffd23-6c2f-4df7-9d72-62c796bc0d28"
      },
      "outputs": [
        {
          "name": "stdout",
          "output_type": "stream",
          "text": [
            "\u001b[1m2500/2500\u001b[0m \u001b[32m━━━━━━━━━━━━━━━━━━━━\u001b[0m\u001b[37m\u001b[0m \u001b[1m0s\u001b[0m 172us/step\n",
            "\u001b[1m625/625\u001b[0m \u001b[32m━━━━━━━━━━━━━━━━━━━━\u001b[0m\u001b[37m\u001b[0m \u001b[1m0s\u001b[0m 175us/step\n"
          ]
        }
      ],
      "source": [
        "enc = Model(inpLayer, encoder_arch)\n",
        "X_train_AE = enc.predict(X_train_sc)\n",
        "X_test_AE = enc.predict(X_test_sc)"
      ]
    },
    {
      "cell_type": "code",
      "execution_count": 65,
      "metadata": {
        "id": "IFKi8GtKwW8S"
      },
      "outputs": [],
      "source": [
        "rf_model = RandomForestClassifier(random_state=42)\n",
        "rf_model.fit(X_train_AE, Y_train_le)\n",
        "\n",
        "# Predict on the test set\n",
        "y_pred_rf = rf_model.predict(X_test_AE)\n"
      ]
    },
    {
      "cell_type": "code",
      "execution_count": 66,
      "metadata": {
        "colab": {
          "base_uri": "https://localhost:8080/",
          "height": 598
        },
        "id": "CpYibyDmsn9D",
        "outputId": "77de7650-8e4c-495b-84e7-5acf8e9dea0a"
      },
      "outputs": [
        {
          "name": "stdout",
          "output_type": "stream",
          "text": [
            "Accuracy with Random Forest: 0.9666\n"
          ]
        }
      ],
      "source": [
        "# Calculate accuracy\n",
        "accuracy_rf = accuracy_score(Y_test_le, y_pred_rf)\n",
        "print(\"Accuracy with Random Forest:\", accuracy_rf)\n"
      ]
    }
  ],
  "metadata": {
    "colab": {
      "provenance": []
    },
    "kernelspec": {
      "display_name": "Python 3",
      "name": "python3"
    },
    "language_info": {
      "codemirror_mode": {
        "name": "ipython",
        "version": 3
      },
      "file_extension": ".py",
      "mimetype": "text/x-python",
      "name": "python",
      "nbconvert_exporter": "python",
      "pygments_lexer": "ipython3",
      "version": "3.12.1"
    }
  },
  "nbformat": 4,
  "nbformat_minor": 0
}
