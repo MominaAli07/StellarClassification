{
 "cells": [
  {
   "cell_type": "code",
   "execution_count": 15,
   "metadata": {},
   "outputs": [],
   "source": [
    "#Importing all the required libraries\n",
    "import pandas as pd\n",
    "from sklearn.model_selection import train_test_split\n",
    "from sklearn.preprocessing import StandardScaler\n",
    "from sklearn import preprocessing\n",
    "from sklearn.svm import SVC\n",
    "from sklearn.linear_model import SGDClassifier\n",
    "from sklearn.metrics import accuracy_score\n",
    "from sklearn.model_selection import train_test_split, cross_val_score, RepeatedKFold, GridSearchCV\n",
    "from sklearn.metrics import mean_squared_error,r2_score,mean_absolute_error,mean_absolute_percentage_error\n",
    "from sklearn.metrics import recall_score\n",
    "from sklearn.metrics import confusion_matrix\n",
    "from sklearn.ensemble import RandomForestClassifier\n",
    "from sklearn.metrics import accuracy_score, confusion_matrix, recall_score\n",
    "import matplotlib.pyplot as plt\n",
    "import seaborn as sns\n",
    "from sklearn.utils import resample"
   ]
  },
  {
   "cell_type": "code",
   "execution_count": 16,
   "metadata": {},
   "outputs": [
    {
     "name": "stdout",
     "output_type": "stream",
     "text": [
      "class\n",
      "GALAXY    40555\n",
      "STAR      21594\n",
      "QSO       18961\n",
      "Name: count, dtype: int64\n",
      "<class 'pandas.core.frame.DataFrame'>\n",
      "Index: 40555 entries, 44131 to 13439\n",
      "Data columns (total 17 columns):\n",
      " #   Column       Non-Null Count  Dtype  \n",
      "---  ------       --------------  -----  \n",
      " 0   obj_ID       40555 non-null  float64\n",
      " 1   alpha        40555 non-null  float64\n",
      " 2   delta        40555 non-null  float64\n",
      " 3   u            40555 non-null  float64\n",
      " 4   g            40555 non-null  float64\n",
      " 5   r            40555 non-null  float64\n",
      " 6   i            40555 non-null  float64\n",
      " 7   z            40555 non-null  float64\n",
      " 8   run_ID       40555 non-null  int64  \n",
      " 9   rerun_ID     40555 non-null  int64  \n",
      " 10  cam_col      40555 non-null  int64  \n",
      " 11  field_ID     40555 non-null  int64  \n",
      " 12  spec_obj_ID  40555 non-null  float64\n",
      " 13  redshift     40555 non-null  float64\n",
      " 14  plate        40555 non-null  int64  \n",
      " 15  MJD          40555 non-null  int64  \n",
      " 16  fiber_ID     40555 non-null  int64  \n",
      "dtypes: float64(10), int64(7)\n",
      "memory usage: 5.6 MB\n",
      "<class 'pandas.core.series.Series'>\n",
      "Index: 40555 entries, 44131 to 13439\n",
      "Series name: class\n",
      "Non-Null Count  Dtype \n",
      "--------------  ----- \n",
      "40555 non-null  object\n",
      "dtypes: object(1)\n",
      "memory usage: 633.7+ KB\n"
     ]
    },
    {
     "data": {
      "text/plain": [
       "(8111,)"
      ]
     },
     "execution_count": 16,
     "metadata": {},
     "output_type": "execute_result"
    }
   ],
   "source": [
    "#read_csv to read the dataset\n",
    "df = pd.read_csv('/Users/mominaali/Desktop/PhD MTSU/2nd Semester/7350/Project/SemesterProject/star_classification.csv')\n",
    "\n",
    "df.head(10)\n",
    "\n",
    "#seperating the classes\n",
    "majority = df[df['class'].isin(['GALAXY'])]\n",
    "minorityQSO = df[df['class'].isin(['QSO'])]\n",
    "minorityStar = df[df['class'].isin(['STAR'])]\n",
    "\n",
    "downSampled = resample(majority, replace=False, n_samples=len(minorityQSO)+len(minorityStar), random_state=42)\n",
    "\n",
    "#As GALAXY class is downsampled here we are concatinating it with the other two minority classes\n",
    "data_downSampled = pd.concat([downSampled, minorityQSO, minorityStar])\n",
    "\n",
    "countUnique = data_downSampled['class'].value_counts()\n",
    "print(countUnique)\n",
    "\n",
    "data_downSampled.shape\n",
    "\n",
    "X = downSampled.drop(\"class\", axis=1)\n",
    "\n",
    "X.info()\n",
    "\n",
    "Y = downSampled['class']\n",
    "\n",
    "Y.shape\n",
    "\n",
    "Y.info()\n",
    "\n",
    "X_train, X_test, Y_train, Y_test = train_test_split(X, Y, test_size=0.2, random_state=0, stratify=Y)\n",
    "\n",
    "from sklearn.preprocessing import StandardScaler\n",
    "sc = StandardScaler()\n",
    "\n",
    "sc.fit(X_train)\n",
    "\n",
    "X_train_sc = sc.transform(X_train)\n",
    "X_train_sc = pd.DataFrame(X_train_sc, columns = X_train.columns)\n",
    "\n",
    "X_test_sc = sc.transform(X_test)\n",
    "X_test_sc = pd.DataFrame(X_test_sc, columns = X_test.columns)\n",
    "\n",
    "# label_encoder = preprocessing.LabelEncoder()\n",
    "\n",
    "# Y_train_le = label_encoder.fit_transform(Y_train)\n",
    "# Y_test_le = label_encoder.fit_transform(Y_test)\n",
    "\n",
    "Y_train_le = Y_train\n",
    "Y_test_le = Y_test\n",
    "\n",
    "X_train_sc.shape\n",
    "\n",
    "X_test_sc.shape\n",
    "\n",
    "Y_train_le.shape\n",
    "\n",
    "Y_test_le.shape\n",
    "\n",
    "\n"
   ]
  },
  {
   "cell_type": "code",
   "execution_count": 29,
   "metadata": {},
   "outputs": [],
   "source": [
    "from sklearn.decomposition import PCA\n",
    "\n",
    "\n",
    "def fitness_function(params):\n",
    "    n_estimators, max_depth = params\n",
    "    rf_pso_new = RandomForestClassifier(n_estimators=int(round(n_estimators)), max_depth=int(round(max_depth)), random_state=42)\n",
    "    afterCrossVal = cross_val_score(rf_pso_new, X_train_sc, Y_train_le, cv=5)\n",
    "    avgScore = np.mean(afterCrossVal)\n",
    "    return -avgScore\n",
    "\n",
    "\n"
   ]
  },
  {
   "cell_type": "code",
   "execution_count": 31,
   "metadata": {},
   "outputs": [
    {
     "name": "stdout",
     "output_type": "stream",
     "text": [
      "Stopping search: maximum iterations reached --> 5\n"
     ]
    }
   ],
   "source": [
    "from pyswarm import pso\n",
    "import numpy as np\n",
    "\n",
    "# pip install pyswarm\n",
    "bound_lower = [10, 1] \n",
    "bound_upper = [50, 5] \n",
    "\n",
    "\n",
    "bestParameter, _ = pso(fitness_function, bound_lower, bound_upper, maxiter=5)\n",
    "best_rf_model = RandomForestClassifier(n_estimators=int(round(bestParameter[0])), max_depth=int(round(bestParameter[1])), random_state=42)\n",
    "best_rf_model.fit(X_train_sc, Y_train_le)\n",
    "\n",
    "y_pred_best_rf = best_rf_model.predict(X_test_sc)"
   ]
  },
  {
   "cell_type": "code",
   "execution_count": 32,
   "metadata": {},
   "outputs": [
    {
     "name": "stdout",
     "output_type": "stream",
     "text": [
      "Accuracy with Random Forest: 1.0\n"
     ]
    }
   ],
   "source": [
    "# Calculate accuracy\n",
    "accuracy_rf = accuracy_score(Y_test_le, y_pred_best_rf)\n",
    "print(\"Accuracy with Random Forest:\", accuracy_rf)"
   ]
  },
  {
   "cell_type": "code",
   "execution_count": null,
   "metadata": {},
   "outputs": [],
   "source": []
  },
  {
   "cell_type": "code",
   "execution_count": null,
   "metadata": {},
   "outputs": [],
   "source": []
  }
 ],
 "metadata": {
  "kernelspec": {
   "display_name": "Python 3",
   "language": "python",
   "name": "python3"
  },
  "language_info": {
   "codemirror_mode": {
    "name": "ipython",
    "version": 3
   },
   "file_extension": ".py",
   "mimetype": "text/x-python",
   "name": "python",
   "nbconvert_exporter": "python",
   "pygments_lexer": "ipython3",
   "version": "3.12.1"
  }
 },
 "nbformat": 4,
 "nbformat_minor": 2
}
