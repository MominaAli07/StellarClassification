{
  "cells": [
    {
      "cell_type": "code",
      "execution_count": 1,
      "metadata": {
        "id": "9_QVng61UsHk"
      },
      "outputs": [],
      "source": [
        "#Importing all the required libraries\n",
        "import pandas as pd\n",
        "from sklearn.model_selection import train_test_split\n",
        "from sklearn.preprocessing import StandardScaler\n",
        "from sklearn import preprocessing\n",
        "from sklearn.svm import SVC\n",
        "from sklearn.linear_model import SGDClassifier\n",
        "from sklearn.discriminant_analysis import LinearDiscriminantAnalysis\n",
        "from sklearn.metrics import accuracy_score\n",
        "from sklearn.model_selection import train_test_split, cross_val_score, RepeatedKFold, GridSearchCV\n",
        "from sklearn.metrics import mean_squared_error,r2_score,mean_absolute_error,mean_absolute_percentage_error\n",
        "from sklearn.metrics import recall_score\n",
        "from sklearn.metrics import confusion_matrix\n",
        "from sklearn.ensemble import RandomForestClassifier\n",
        "from sklearn.metrics import accuracy_score, confusion_matrix, recall_score\n",
        "import matplotlib.pyplot as plt\n",
        "import seaborn as sns\n",
        "from sklearn.utils import resample"
      ]
    },
    {
      "cell_type": "code",
      "execution_count": 2,
      "metadata": {
        "id": "P-1-VuKYU0JY"
      },
      "outputs": [],
      "source": [
        "#read_csv to read the dataset\n",
        "df = pd.read_csv('/Users/mominaali/Desktop/PhD MTSU/2nd Semester/7350/Project/SemesterProject/star_classification.csv')"
      ]
    },
    {
      "cell_type": "code",
      "execution_count": 3,
      "metadata": {
        "colab": {
          "base_uri": "https://localhost:8080/",
          "height": 379
        },
        "id": "_P3aLhi8U1ws",
        "outputId": "a67add3c-e408-4939-fd0d-19f8abbc38e7"
      },
      "outputs": [
        {
          "data": {
            "text/html": [
              "<div>\n",
              "<style scoped>\n",
              "    .dataframe tbody tr th:only-of-type {\n",
              "        vertical-align: middle;\n",
              "    }\n",
              "\n",
              "    .dataframe tbody tr th {\n",
              "        vertical-align: top;\n",
              "    }\n",
              "\n",
              "    .dataframe thead th {\n",
              "        text-align: right;\n",
              "    }\n",
              "</style>\n",
              "<table border=\"1\" class=\"dataframe\">\n",
              "  <thead>\n",
              "    <tr style=\"text-align: right;\">\n",
              "      <th></th>\n",
              "      <th>obj_ID</th>\n",
              "      <th>alpha</th>\n",
              "      <th>delta</th>\n",
              "      <th>u</th>\n",
              "      <th>g</th>\n",
              "      <th>r</th>\n",
              "      <th>i</th>\n",
              "      <th>z</th>\n",
              "      <th>run_ID</th>\n",
              "      <th>rerun_ID</th>\n",
              "      <th>cam_col</th>\n",
              "      <th>field_ID</th>\n",
              "      <th>spec_obj_ID</th>\n",
              "      <th>class</th>\n",
              "      <th>redshift</th>\n",
              "      <th>plate</th>\n",
              "      <th>MJD</th>\n",
              "      <th>fiber_ID</th>\n",
              "    </tr>\n",
              "  </thead>\n",
              "  <tbody>\n",
              "    <tr>\n",
              "      <th>0</th>\n",
              "      <td>1.237661e+18</td>\n",
              "      <td>135.689107</td>\n",
              "      <td>32.494632</td>\n",
              "      <td>23.87882</td>\n",
              "      <td>22.27530</td>\n",
              "      <td>20.39501</td>\n",
              "      <td>19.16573</td>\n",
              "      <td>18.79371</td>\n",
              "      <td>3606</td>\n",
              "      <td>301</td>\n",
              "      <td>2</td>\n",
              "      <td>79</td>\n",
              "      <td>6.543777e+18</td>\n",
              "      <td>GALAXY</td>\n",
              "      <td>0.634794</td>\n",
              "      <td>5812</td>\n",
              "      <td>56354</td>\n",
              "      <td>171</td>\n",
              "    </tr>\n",
              "    <tr>\n",
              "      <th>1</th>\n",
              "      <td>1.237665e+18</td>\n",
              "      <td>144.826101</td>\n",
              "      <td>31.274185</td>\n",
              "      <td>24.77759</td>\n",
              "      <td>22.83188</td>\n",
              "      <td>22.58444</td>\n",
              "      <td>21.16812</td>\n",
              "      <td>21.61427</td>\n",
              "      <td>4518</td>\n",
              "      <td>301</td>\n",
              "      <td>5</td>\n",
              "      <td>119</td>\n",
              "      <td>1.176014e+19</td>\n",
              "      <td>GALAXY</td>\n",
              "      <td>0.779136</td>\n",
              "      <td>10445</td>\n",
              "      <td>58158</td>\n",
              "      <td>427</td>\n",
              "    </tr>\n",
              "    <tr>\n",
              "      <th>2</th>\n",
              "      <td>1.237661e+18</td>\n",
              "      <td>142.188790</td>\n",
              "      <td>35.582444</td>\n",
              "      <td>25.26307</td>\n",
              "      <td>22.66389</td>\n",
              "      <td>20.60976</td>\n",
              "      <td>19.34857</td>\n",
              "      <td>18.94827</td>\n",
              "      <td>3606</td>\n",
              "      <td>301</td>\n",
              "      <td>2</td>\n",
              "      <td>120</td>\n",
              "      <td>5.152200e+18</td>\n",
              "      <td>GALAXY</td>\n",
              "      <td>0.644195</td>\n",
              "      <td>4576</td>\n",
              "      <td>55592</td>\n",
              "      <td>299</td>\n",
              "    </tr>\n",
              "    <tr>\n",
              "      <th>3</th>\n",
              "      <td>1.237663e+18</td>\n",
              "      <td>338.741038</td>\n",
              "      <td>-0.402828</td>\n",
              "      <td>22.13682</td>\n",
              "      <td>23.77656</td>\n",
              "      <td>21.61162</td>\n",
              "      <td>20.50454</td>\n",
              "      <td>19.25010</td>\n",
              "      <td>4192</td>\n",
              "      <td>301</td>\n",
              "      <td>3</td>\n",
              "      <td>214</td>\n",
              "      <td>1.030107e+19</td>\n",
              "      <td>GALAXY</td>\n",
              "      <td>0.932346</td>\n",
              "      <td>9149</td>\n",
              "      <td>58039</td>\n",
              "      <td>775</td>\n",
              "    </tr>\n",
              "    <tr>\n",
              "      <th>4</th>\n",
              "      <td>1.237680e+18</td>\n",
              "      <td>345.282593</td>\n",
              "      <td>21.183866</td>\n",
              "      <td>19.43718</td>\n",
              "      <td>17.58028</td>\n",
              "      <td>16.49747</td>\n",
              "      <td>15.97711</td>\n",
              "      <td>15.54461</td>\n",
              "      <td>8102</td>\n",
              "      <td>301</td>\n",
              "      <td>3</td>\n",
              "      <td>137</td>\n",
              "      <td>6.891865e+18</td>\n",
              "      <td>GALAXY</td>\n",
              "      <td>0.116123</td>\n",
              "      <td>6121</td>\n",
              "      <td>56187</td>\n",
              "      <td>842</td>\n",
              "    </tr>\n",
              "    <tr>\n",
              "      <th>5</th>\n",
              "      <td>1.237680e+18</td>\n",
              "      <td>340.995121</td>\n",
              "      <td>20.589476</td>\n",
              "      <td>23.48827</td>\n",
              "      <td>23.33776</td>\n",
              "      <td>21.32195</td>\n",
              "      <td>20.25615</td>\n",
              "      <td>19.54544</td>\n",
              "      <td>8102</td>\n",
              "      <td>301</td>\n",
              "      <td>3</td>\n",
              "      <td>110</td>\n",
              "      <td>5.658977e+18</td>\n",
              "      <td>QSO</td>\n",
              "      <td>1.424659</td>\n",
              "      <td>5026</td>\n",
              "      <td>55855</td>\n",
              "      <td>741</td>\n",
              "    </tr>\n",
              "    <tr>\n",
              "      <th>6</th>\n",
              "      <td>1.237679e+18</td>\n",
              "      <td>23.234926</td>\n",
              "      <td>11.418188</td>\n",
              "      <td>21.46973</td>\n",
              "      <td>21.17624</td>\n",
              "      <td>20.92829</td>\n",
              "      <td>20.60826</td>\n",
              "      <td>20.42573</td>\n",
              "      <td>7773</td>\n",
              "      <td>301</td>\n",
              "      <td>2</td>\n",
              "      <td>462</td>\n",
              "      <td>1.246262e+19</td>\n",
              "      <td>QSO</td>\n",
              "      <td>0.586455</td>\n",
              "      <td>11069</td>\n",
              "      <td>58456</td>\n",
              "      <td>113</td>\n",
              "    </tr>\n",
              "    <tr>\n",
              "      <th>7</th>\n",
              "      <td>1.237679e+18</td>\n",
              "      <td>5.433176</td>\n",
              "      <td>12.065186</td>\n",
              "      <td>22.24979</td>\n",
              "      <td>22.02172</td>\n",
              "      <td>20.34126</td>\n",
              "      <td>19.48794</td>\n",
              "      <td>18.84999</td>\n",
              "      <td>7773</td>\n",
              "      <td>301</td>\n",
              "      <td>2</td>\n",
              "      <td>346</td>\n",
              "      <td>6.961443e+18</td>\n",
              "      <td>GALAXY</td>\n",
              "      <td>0.477009</td>\n",
              "      <td>6183</td>\n",
              "      <td>56210</td>\n",
              "      <td>15</td>\n",
              "    </tr>\n",
              "    <tr>\n",
              "      <th>8</th>\n",
              "      <td>1.237661e+18</td>\n",
              "      <td>200.290475</td>\n",
              "      <td>47.199402</td>\n",
              "      <td>24.40286</td>\n",
              "      <td>22.35669</td>\n",
              "      <td>20.61032</td>\n",
              "      <td>19.46490</td>\n",
              "      <td>18.95852</td>\n",
              "      <td>3716</td>\n",
              "      <td>301</td>\n",
              "      <td>5</td>\n",
              "      <td>108</td>\n",
              "      <td>7.459285e+18</td>\n",
              "      <td>GALAXY</td>\n",
              "      <td>0.660012</td>\n",
              "      <td>6625</td>\n",
              "      <td>56386</td>\n",
              "      <td>719</td>\n",
              "    </tr>\n",
              "    <tr>\n",
              "      <th>9</th>\n",
              "      <td>1.237671e+18</td>\n",
              "      <td>39.149691</td>\n",
              "      <td>28.102842</td>\n",
              "      <td>21.74669</td>\n",
              "      <td>20.03493</td>\n",
              "      <td>19.17553</td>\n",
              "      <td>18.81823</td>\n",
              "      <td>18.65422</td>\n",
              "      <td>5934</td>\n",
              "      <td>301</td>\n",
              "      <td>4</td>\n",
              "      <td>122</td>\n",
              "      <td>2.751763e+18</td>\n",
              "      <td>STAR</td>\n",
              "      <td>-0.000008</td>\n",
              "      <td>2444</td>\n",
              "      <td>54082</td>\n",
              "      <td>232</td>\n",
              "    </tr>\n",
              "  </tbody>\n",
              "</table>\n",
              "</div>"
            ],
            "text/plain": [
              "         obj_ID       alpha      delta         u         g         r  \\\n",
              "0  1.237661e+18  135.689107  32.494632  23.87882  22.27530  20.39501   \n",
              "1  1.237665e+18  144.826101  31.274185  24.77759  22.83188  22.58444   \n",
              "2  1.237661e+18  142.188790  35.582444  25.26307  22.66389  20.60976   \n",
              "3  1.237663e+18  338.741038  -0.402828  22.13682  23.77656  21.61162   \n",
              "4  1.237680e+18  345.282593  21.183866  19.43718  17.58028  16.49747   \n",
              "5  1.237680e+18  340.995121  20.589476  23.48827  23.33776  21.32195   \n",
              "6  1.237679e+18   23.234926  11.418188  21.46973  21.17624  20.92829   \n",
              "7  1.237679e+18    5.433176  12.065186  22.24979  22.02172  20.34126   \n",
              "8  1.237661e+18  200.290475  47.199402  24.40286  22.35669  20.61032   \n",
              "9  1.237671e+18   39.149691  28.102842  21.74669  20.03493  19.17553   \n",
              "\n",
              "          i         z  run_ID  rerun_ID  cam_col  field_ID   spec_obj_ID  \\\n",
              "0  19.16573  18.79371    3606       301        2        79  6.543777e+18   \n",
              "1  21.16812  21.61427    4518       301        5       119  1.176014e+19   \n",
              "2  19.34857  18.94827    3606       301        2       120  5.152200e+18   \n",
              "3  20.50454  19.25010    4192       301        3       214  1.030107e+19   \n",
              "4  15.97711  15.54461    8102       301        3       137  6.891865e+18   \n",
              "5  20.25615  19.54544    8102       301        3       110  5.658977e+18   \n",
              "6  20.60826  20.42573    7773       301        2       462  1.246262e+19   \n",
              "7  19.48794  18.84999    7773       301        2       346  6.961443e+18   \n",
              "8  19.46490  18.95852    3716       301        5       108  7.459285e+18   \n",
              "9  18.81823  18.65422    5934       301        4       122  2.751763e+18   \n",
              "\n",
              "    class  redshift  plate    MJD  fiber_ID  \n",
              "0  GALAXY  0.634794   5812  56354       171  \n",
              "1  GALAXY  0.779136  10445  58158       427  \n",
              "2  GALAXY  0.644195   4576  55592       299  \n",
              "3  GALAXY  0.932346   9149  58039       775  \n",
              "4  GALAXY  0.116123   6121  56187       842  \n",
              "5     QSO  1.424659   5026  55855       741  \n",
              "6     QSO  0.586455  11069  58456       113  \n",
              "7  GALAXY  0.477009   6183  56210        15  \n",
              "8  GALAXY  0.660012   6625  56386       719  \n",
              "9    STAR -0.000008   2444  54082       232  "
            ]
          },
          "execution_count": 3,
          "metadata": {},
          "output_type": "execute_result"
        }
      ],
      "source": [
        "df.head(10)"
      ]
    },
    {
      "cell_type": "code",
      "execution_count": 4,
      "metadata": {
        "colab": {
          "base_uri": "https://localhost:8080/"
        },
        "id": "qNKbApkvXtty",
        "outputId": "b59fc368-9a32-4a18-e90a-7764443a2c8a"
      },
      "outputs": [
        {
          "name": "stdout",
          "output_type": "stream",
          "text": [
            "class\n",
            "GALAXY    40555\n",
            "STAR      21594\n",
            "QSO       18961\n",
            "Name: count, dtype: int64\n"
          ]
        }
      ],
      "source": [
        "#seperating the classes\n",
        "majority = df[df['class'].isin(['GALAXY'])]\n",
        "minorityQSO = df[df['class'].isin(['QSO'])]\n",
        "minorityStar = df[df['class'].isin(['STAR'])]\n",
        "\n",
        "downSampled = resample(majority, replace=False, n_samples=len(minorityQSO)+len(minorityStar), random_state=42)\n",
        "\n",
        "#As GALAXY class is downsampled here we are concatinating it with the other two minority classes\n",
        "data_downSampled = pd.concat([downSampled, minorityQSO, minorityStar])\n",
        "\n",
        "countUnique = data_downSampled['class'].value_counts()\n",
        "print(countUnique)\n"
      ]
    },
    {
      "cell_type": "code",
      "execution_count": 5,
      "metadata": {
        "colab": {
          "base_uri": "https://localhost:8080/"
        },
        "id": "h95MR039XwJY",
        "outputId": "ef1cd962-ba09-486b-ac0b-a014fab63ec4"
      },
      "outputs": [
        {
          "data": {
            "text/plain": [
              "(81110, 18)"
            ]
          },
          "execution_count": 5,
          "metadata": {},
          "output_type": "execute_result"
        }
      ],
      "source": [
        "data_downSampled.shape"
      ]
    },
    {
      "cell_type": "code",
      "execution_count": 6,
      "metadata": {
        "id": "eIbmPcYVU3Dk"
      },
      "outputs": [],
      "source": [
        "X = data_downSampled.drop(\"class\", axis=1)"
      ]
    },
    {
      "cell_type": "code",
      "execution_count": 7,
      "metadata": {
        "colab": {
          "base_uri": "https://localhost:8080/"
        },
        "id": "d20nM9B7Vq3k",
        "outputId": "be7ae608-bb5a-45f3-ca2f-6f78da286ef2"
      },
      "outputs": [
        {
          "name": "stdout",
          "output_type": "stream",
          "text": [
            "<class 'pandas.core.frame.DataFrame'>\n",
            "Index: 81110 entries, 44131 to 99959\n",
            "Data columns (total 17 columns):\n",
            " #   Column       Non-Null Count  Dtype  \n",
            "---  ------       --------------  -----  \n",
            " 0   obj_ID       81110 non-null  float64\n",
            " 1   alpha        81110 non-null  float64\n",
            " 2   delta        81110 non-null  float64\n",
            " 3   u            81110 non-null  float64\n",
            " 4   g            81110 non-null  float64\n",
            " 5   r            81110 non-null  float64\n",
            " 6   i            81110 non-null  float64\n",
            " 7   z            81110 non-null  float64\n",
            " 8   run_ID       81110 non-null  int64  \n",
            " 9   rerun_ID     81110 non-null  int64  \n",
            " 10  cam_col      81110 non-null  int64  \n",
            " 11  field_ID     81110 non-null  int64  \n",
            " 12  spec_obj_ID  81110 non-null  float64\n",
            " 13  redshift     81110 non-null  float64\n",
            " 14  plate        81110 non-null  int64  \n",
            " 15  MJD          81110 non-null  int64  \n",
            " 16  fiber_ID     81110 non-null  int64  \n",
            "dtypes: float64(10), int64(7)\n",
            "memory usage: 11.1 MB\n"
          ]
        }
      ],
      "source": [
        "X.info()"
      ]
    },
    {
      "cell_type": "code",
      "execution_count": 8,
      "metadata": {
        "id": "arxlFv4AVsbO"
      },
      "outputs": [],
      "source": [
        "Y = data_downSampled['class']"
      ]
    },
    {
      "cell_type": "code",
      "execution_count": 9,
      "metadata": {
        "colab": {
          "base_uri": "https://localhost:8080/"
        },
        "id": "l2wUJrHtVvnO",
        "outputId": "8e62fa0b-4582-4d72-fad3-057613d2469a"
      },
      "outputs": [
        {
          "data": {
            "text/plain": [
              "(81110,)"
            ]
          },
          "execution_count": 9,
          "metadata": {},
          "output_type": "execute_result"
        }
      ],
      "source": [
        "Y.shape"
      ]
    },
    {
      "cell_type": "code",
      "execution_count": 10,
      "metadata": {
        "colab": {
          "base_uri": "https://localhost:8080/"
        },
        "id": "_Ub4kCi6VxM5",
        "outputId": "8584df4c-7bab-4247-e77d-2704e6f61ccf"
      },
      "outputs": [
        {
          "name": "stdout",
          "output_type": "stream",
          "text": [
            "<class 'pandas.core.series.Series'>\n",
            "Index: 81110 entries, 44131 to 99959\n",
            "Series name: class\n",
            "Non-Null Count  Dtype \n",
            "--------------  ----- \n",
            "81110 non-null  object\n",
            "dtypes: object(1)\n",
            "memory usage: 1.2+ MB\n"
          ]
        }
      ],
      "source": [
        "Y.info()"
      ]
    },
    {
      "cell_type": "code",
      "execution_count": 11,
      "metadata": {
        "id": "SgO9ijXsVycY"
      },
      "outputs": [],
      "source": [
        "X_train, X_test, Y_train, Y_test = train_test_split(X, Y, test_size=0.2, random_state=0, stratify=Y)"
      ]
    },
    {
      "cell_type": "code",
      "execution_count": 12,
      "metadata": {
        "id": "IQmYpaa5V0kA"
      },
      "outputs": [],
      "source": [
        "from sklearn.preprocessing import StandardScaler\n",
        "sc = StandardScaler()\n",
        "\n",
        "sc.fit(X_train)\n",
        "\n",
        "X_train_sc = sc.transform(X_train)\n",
        "X_train_sc = pd.DataFrame(X_train_sc, columns = X_train.columns)\n",
        "\n",
        "X_test_sc = sc.transform(X_test)\n",
        "X_test_sc = pd.DataFrame(X_test_sc, columns = X_test.columns)"
      ]
    },
    {
      "cell_type": "code",
      "execution_count": 13,
      "metadata": {
        "id": "oVGuQXJ1WGkC"
      },
      "outputs": [],
      "source": [
        "# label_encoder = preprocessing.LabelEncoder()\n",
        "\n",
        "# Y_train_le = label_encoder.fit_transform(Y_train)\n",
        "# Y_test_le = label_encoder.fit_transform(Y_test)"
      ]
    },
    {
      "cell_type": "code",
      "execution_count": 14,
      "metadata": {
        "id": "3HhBpiiAwAyd"
      },
      "outputs": [],
      "source": [
        "Y_train_le = Y_train\n",
        "Y_test_le = Y_test"
      ]
    },
    {
      "cell_type": "code",
      "execution_count": 15,
      "metadata": {
        "colab": {
          "base_uri": "https://localhost:8080/"
        },
        "id": "OEgYwR-TWiDp",
        "outputId": "a96a964a-ac1a-49bb-cb92-ee707e4e19dd"
      },
      "outputs": [
        {
          "data": {
            "text/plain": [
              "(64888, 17)"
            ]
          },
          "execution_count": 15,
          "metadata": {},
          "output_type": "execute_result"
        }
      ],
      "source": [
        "X_train_sc.shape"
      ]
    },
    {
      "cell_type": "code",
      "execution_count": 16,
      "metadata": {
        "colab": {
          "base_uri": "https://localhost:8080/"
        },
        "id": "7hbWt8vrWn4f",
        "outputId": "506a2d82-5729-4fac-aa84-9b116a64514d"
      },
      "outputs": [
        {
          "data": {
            "text/plain": [
              "(16222, 17)"
            ]
          },
          "execution_count": 16,
          "metadata": {},
          "output_type": "execute_result"
        }
      ],
      "source": [
        "X_test_sc.shape"
      ]
    },
    {
      "cell_type": "code",
      "execution_count": 17,
      "metadata": {
        "colab": {
          "base_uri": "https://localhost:8080/"
        },
        "id": "BWaAOX9gWzRP",
        "outputId": "4180847d-2b14-4663-d4fa-8d3c4bac2525"
      },
      "outputs": [
        {
          "data": {
            "text/plain": [
              "(64888,)"
            ]
          },
          "execution_count": 17,
          "metadata": {},
          "output_type": "execute_result"
        }
      ],
      "source": [
        "Y_train_le.shape"
      ]
    },
    {
      "cell_type": "code",
      "execution_count": 18,
      "metadata": {
        "colab": {
          "base_uri": "https://localhost:8080/"
        },
        "id": "hZiwilcgW3yz",
        "outputId": "d125ec4e-b6d1-4127-c8b6-b64ad9ee76ff"
      },
      "outputs": [
        {
          "data": {
            "text/plain": [
              "(16222,)"
            ]
          },
          "execution_count": 18,
          "metadata": {},
          "output_type": "execute_result"
        }
      ],
      "source": [
        "Y_test_le.shape"
      ]
    },
    {
      "cell_type": "code",
      "execution_count": 19,
      "metadata": {
        "id": "PnxY-plKtRCm"
      },
      "outputs": [],
      "source": [
        "lda = LinearDiscriminantAnalysis()\n",
        "\n",
        "# Fit the LDA model on the training data\n",
        "X_train_lda = lda.fit_transform(X_train_sc, Y_train)\n",
        "X_test_lda = lda.transform(X_test_sc)\n"
      ]
    },
    {
      "cell_type": "code",
      "execution_count": 20,
      "metadata": {
        "id": "ts7qX-qy7P7M"
      },
      "outputs": [],
      "source": [
        "rf_model = RandomForestClassifier(random_state=42)\n",
        "rf_model.fit(X_train_lda, Y_train_le)\n",
        "\n",
        "# Predict on the test set\n",
        "y_pred_rf = rf_model.predict(X_test_lda)\n"
      ]
    },
    {
      "cell_type": "markdown",
      "metadata": {
        "id": "6GZ_5B1J8NZe"
      },
      "source": [
        "#RF Downsampling"
      ]
    },
    {
      "cell_type": "code",
      "execution_count": 21,
      "metadata": {
        "colab": {
          "base_uri": "https://localhost:8080/",
          "height": 598
        },
        "id": "l4M66G0v7eCl",
        "outputId": "1d1fdd10-8cd1-4c56-8cdb-63b0275a53d1"
      },
      "outputs": [
        {
          "name": "stdout",
          "output_type": "stream",
          "text": [
            "Accuracy with Random Forest: 0.8929848354087042\n"
          ]
        }
      ],
      "source": [
        "# Calculate accuracy\n",
        "accuracy_rf = accuracy_score(Y_test_le, y_pred_rf)\n",
        "print(\"Accuracy with Random Forest:\", accuracy_rf)\n"
      ]
    },
    {
      "cell_type": "markdown",
      "metadata": {
        "id": "z7CJTk0E8P_4"
      },
      "source": [
        "#RF Upsampling"
      ]
    },
    {
      "cell_type": "code",
      "execution_count": null,
      "metadata": {
        "id": "EBzSAezO-yhs"
      },
      "outputs": [],
      "source": []
    },
    {
      "cell_type": "code",
      "execution_count": 22,
      "metadata": {
        "id": "JyOz1WZJsIX8"
      },
      "outputs": [],
      "source": [
        "#read_csv to read the dataset\n",
        "df = pd.read_csv('/Users/mominaali/Desktop/PhD MTSU/2nd Semester/7350/Project/SemesterProject/star_classification.csv')"
      ]
    },
    {
      "cell_type": "code",
      "execution_count": 23,
      "metadata": {
        "colab": {
          "base_uri": "https://localhost:8080/",
          "height": 379
        },
        "id": "UWq8WkJLsIX_",
        "outputId": "18b122ab-34af-46d5-f547-c2f59ff07425"
      },
      "outputs": [
        {
          "data": {
            "text/html": [
              "<div>\n",
              "<style scoped>\n",
              "    .dataframe tbody tr th:only-of-type {\n",
              "        vertical-align: middle;\n",
              "    }\n",
              "\n",
              "    .dataframe tbody tr th {\n",
              "        vertical-align: top;\n",
              "    }\n",
              "\n",
              "    .dataframe thead th {\n",
              "        text-align: right;\n",
              "    }\n",
              "</style>\n",
              "<table border=\"1\" class=\"dataframe\">\n",
              "  <thead>\n",
              "    <tr style=\"text-align: right;\">\n",
              "      <th></th>\n",
              "      <th>obj_ID</th>\n",
              "      <th>alpha</th>\n",
              "      <th>delta</th>\n",
              "      <th>u</th>\n",
              "      <th>g</th>\n",
              "      <th>r</th>\n",
              "      <th>i</th>\n",
              "      <th>z</th>\n",
              "      <th>run_ID</th>\n",
              "      <th>rerun_ID</th>\n",
              "      <th>cam_col</th>\n",
              "      <th>field_ID</th>\n",
              "      <th>spec_obj_ID</th>\n",
              "      <th>class</th>\n",
              "      <th>redshift</th>\n",
              "      <th>plate</th>\n",
              "      <th>MJD</th>\n",
              "      <th>fiber_ID</th>\n",
              "    </tr>\n",
              "  </thead>\n",
              "  <tbody>\n",
              "    <tr>\n",
              "      <th>0</th>\n",
              "      <td>1.237661e+18</td>\n",
              "      <td>135.689107</td>\n",
              "      <td>32.494632</td>\n",
              "      <td>23.87882</td>\n",
              "      <td>22.27530</td>\n",
              "      <td>20.39501</td>\n",
              "      <td>19.16573</td>\n",
              "      <td>18.79371</td>\n",
              "      <td>3606</td>\n",
              "      <td>301</td>\n",
              "      <td>2</td>\n",
              "      <td>79</td>\n",
              "      <td>6.543777e+18</td>\n",
              "      <td>GALAXY</td>\n",
              "      <td>0.634794</td>\n",
              "      <td>5812</td>\n",
              "      <td>56354</td>\n",
              "      <td>171</td>\n",
              "    </tr>\n",
              "    <tr>\n",
              "      <th>1</th>\n",
              "      <td>1.237665e+18</td>\n",
              "      <td>144.826101</td>\n",
              "      <td>31.274185</td>\n",
              "      <td>24.77759</td>\n",
              "      <td>22.83188</td>\n",
              "      <td>22.58444</td>\n",
              "      <td>21.16812</td>\n",
              "      <td>21.61427</td>\n",
              "      <td>4518</td>\n",
              "      <td>301</td>\n",
              "      <td>5</td>\n",
              "      <td>119</td>\n",
              "      <td>1.176014e+19</td>\n",
              "      <td>GALAXY</td>\n",
              "      <td>0.779136</td>\n",
              "      <td>10445</td>\n",
              "      <td>58158</td>\n",
              "      <td>427</td>\n",
              "    </tr>\n",
              "    <tr>\n",
              "      <th>2</th>\n",
              "      <td>1.237661e+18</td>\n",
              "      <td>142.188790</td>\n",
              "      <td>35.582444</td>\n",
              "      <td>25.26307</td>\n",
              "      <td>22.66389</td>\n",
              "      <td>20.60976</td>\n",
              "      <td>19.34857</td>\n",
              "      <td>18.94827</td>\n",
              "      <td>3606</td>\n",
              "      <td>301</td>\n",
              "      <td>2</td>\n",
              "      <td>120</td>\n",
              "      <td>5.152200e+18</td>\n",
              "      <td>GALAXY</td>\n",
              "      <td>0.644195</td>\n",
              "      <td>4576</td>\n",
              "      <td>55592</td>\n",
              "      <td>299</td>\n",
              "    </tr>\n",
              "    <tr>\n",
              "      <th>3</th>\n",
              "      <td>1.237663e+18</td>\n",
              "      <td>338.741038</td>\n",
              "      <td>-0.402828</td>\n",
              "      <td>22.13682</td>\n",
              "      <td>23.77656</td>\n",
              "      <td>21.61162</td>\n",
              "      <td>20.50454</td>\n",
              "      <td>19.25010</td>\n",
              "      <td>4192</td>\n",
              "      <td>301</td>\n",
              "      <td>3</td>\n",
              "      <td>214</td>\n",
              "      <td>1.030107e+19</td>\n",
              "      <td>GALAXY</td>\n",
              "      <td>0.932346</td>\n",
              "      <td>9149</td>\n",
              "      <td>58039</td>\n",
              "      <td>775</td>\n",
              "    </tr>\n",
              "    <tr>\n",
              "      <th>4</th>\n",
              "      <td>1.237680e+18</td>\n",
              "      <td>345.282593</td>\n",
              "      <td>21.183866</td>\n",
              "      <td>19.43718</td>\n",
              "      <td>17.58028</td>\n",
              "      <td>16.49747</td>\n",
              "      <td>15.97711</td>\n",
              "      <td>15.54461</td>\n",
              "      <td>8102</td>\n",
              "      <td>301</td>\n",
              "      <td>3</td>\n",
              "      <td>137</td>\n",
              "      <td>6.891865e+18</td>\n",
              "      <td>GALAXY</td>\n",
              "      <td>0.116123</td>\n",
              "      <td>6121</td>\n",
              "      <td>56187</td>\n",
              "      <td>842</td>\n",
              "    </tr>\n",
              "    <tr>\n",
              "      <th>5</th>\n",
              "      <td>1.237680e+18</td>\n",
              "      <td>340.995121</td>\n",
              "      <td>20.589476</td>\n",
              "      <td>23.48827</td>\n",
              "      <td>23.33776</td>\n",
              "      <td>21.32195</td>\n",
              "      <td>20.25615</td>\n",
              "      <td>19.54544</td>\n",
              "      <td>8102</td>\n",
              "      <td>301</td>\n",
              "      <td>3</td>\n",
              "      <td>110</td>\n",
              "      <td>5.658977e+18</td>\n",
              "      <td>QSO</td>\n",
              "      <td>1.424659</td>\n",
              "      <td>5026</td>\n",
              "      <td>55855</td>\n",
              "      <td>741</td>\n",
              "    </tr>\n",
              "    <tr>\n",
              "      <th>6</th>\n",
              "      <td>1.237679e+18</td>\n",
              "      <td>23.234926</td>\n",
              "      <td>11.418188</td>\n",
              "      <td>21.46973</td>\n",
              "      <td>21.17624</td>\n",
              "      <td>20.92829</td>\n",
              "      <td>20.60826</td>\n",
              "      <td>20.42573</td>\n",
              "      <td>7773</td>\n",
              "      <td>301</td>\n",
              "      <td>2</td>\n",
              "      <td>462</td>\n",
              "      <td>1.246262e+19</td>\n",
              "      <td>QSO</td>\n",
              "      <td>0.586455</td>\n",
              "      <td>11069</td>\n",
              "      <td>58456</td>\n",
              "      <td>113</td>\n",
              "    </tr>\n",
              "    <tr>\n",
              "      <th>7</th>\n",
              "      <td>1.237679e+18</td>\n",
              "      <td>5.433176</td>\n",
              "      <td>12.065186</td>\n",
              "      <td>22.24979</td>\n",
              "      <td>22.02172</td>\n",
              "      <td>20.34126</td>\n",
              "      <td>19.48794</td>\n",
              "      <td>18.84999</td>\n",
              "      <td>7773</td>\n",
              "      <td>301</td>\n",
              "      <td>2</td>\n",
              "      <td>346</td>\n",
              "      <td>6.961443e+18</td>\n",
              "      <td>GALAXY</td>\n",
              "      <td>0.477009</td>\n",
              "      <td>6183</td>\n",
              "      <td>56210</td>\n",
              "      <td>15</td>\n",
              "    </tr>\n",
              "    <tr>\n",
              "      <th>8</th>\n",
              "      <td>1.237661e+18</td>\n",
              "      <td>200.290475</td>\n",
              "      <td>47.199402</td>\n",
              "      <td>24.40286</td>\n",
              "      <td>22.35669</td>\n",
              "      <td>20.61032</td>\n",
              "      <td>19.46490</td>\n",
              "      <td>18.95852</td>\n",
              "      <td>3716</td>\n",
              "      <td>301</td>\n",
              "      <td>5</td>\n",
              "      <td>108</td>\n",
              "      <td>7.459285e+18</td>\n",
              "      <td>GALAXY</td>\n",
              "      <td>0.660012</td>\n",
              "      <td>6625</td>\n",
              "      <td>56386</td>\n",
              "      <td>719</td>\n",
              "    </tr>\n",
              "    <tr>\n",
              "      <th>9</th>\n",
              "      <td>1.237671e+18</td>\n",
              "      <td>39.149691</td>\n",
              "      <td>28.102842</td>\n",
              "      <td>21.74669</td>\n",
              "      <td>20.03493</td>\n",
              "      <td>19.17553</td>\n",
              "      <td>18.81823</td>\n",
              "      <td>18.65422</td>\n",
              "      <td>5934</td>\n",
              "      <td>301</td>\n",
              "      <td>4</td>\n",
              "      <td>122</td>\n",
              "      <td>2.751763e+18</td>\n",
              "      <td>STAR</td>\n",
              "      <td>-0.000008</td>\n",
              "      <td>2444</td>\n",
              "      <td>54082</td>\n",
              "      <td>232</td>\n",
              "    </tr>\n",
              "  </tbody>\n",
              "</table>\n",
              "</div>"
            ],
            "text/plain": [
              "         obj_ID       alpha      delta         u         g         r  \\\n",
              "0  1.237661e+18  135.689107  32.494632  23.87882  22.27530  20.39501   \n",
              "1  1.237665e+18  144.826101  31.274185  24.77759  22.83188  22.58444   \n",
              "2  1.237661e+18  142.188790  35.582444  25.26307  22.66389  20.60976   \n",
              "3  1.237663e+18  338.741038  -0.402828  22.13682  23.77656  21.61162   \n",
              "4  1.237680e+18  345.282593  21.183866  19.43718  17.58028  16.49747   \n",
              "5  1.237680e+18  340.995121  20.589476  23.48827  23.33776  21.32195   \n",
              "6  1.237679e+18   23.234926  11.418188  21.46973  21.17624  20.92829   \n",
              "7  1.237679e+18    5.433176  12.065186  22.24979  22.02172  20.34126   \n",
              "8  1.237661e+18  200.290475  47.199402  24.40286  22.35669  20.61032   \n",
              "9  1.237671e+18   39.149691  28.102842  21.74669  20.03493  19.17553   \n",
              "\n",
              "          i         z  run_ID  rerun_ID  cam_col  field_ID   spec_obj_ID  \\\n",
              "0  19.16573  18.79371    3606       301        2        79  6.543777e+18   \n",
              "1  21.16812  21.61427    4518       301        5       119  1.176014e+19   \n",
              "2  19.34857  18.94827    3606       301        2       120  5.152200e+18   \n",
              "3  20.50454  19.25010    4192       301        3       214  1.030107e+19   \n",
              "4  15.97711  15.54461    8102       301        3       137  6.891865e+18   \n",
              "5  20.25615  19.54544    8102       301        3       110  5.658977e+18   \n",
              "6  20.60826  20.42573    7773       301        2       462  1.246262e+19   \n",
              "7  19.48794  18.84999    7773       301        2       346  6.961443e+18   \n",
              "8  19.46490  18.95852    3716       301        5       108  7.459285e+18   \n",
              "9  18.81823  18.65422    5934       301        4       122  2.751763e+18   \n",
              "\n",
              "    class  redshift  plate    MJD  fiber_ID  \n",
              "0  GALAXY  0.634794   5812  56354       171  \n",
              "1  GALAXY  0.779136  10445  58158       427  \n",
              "2  GALAXY  0.644195   4576  55592       299  \n",
              "3  GALAXY  0.932346   9149  58039       775  \n",
              "4  GALAXY  0.116123   6121  56187       842  \n",
              "5     QSO  1.424659   5026  55855       741  \n",
              "6     QSO  0.586455  11069  58456       113  \n",
              "7  GALAXY  0.477009   6183  56210        15  \n",
              "8  GALAXY  0.660012   6625  56386       719  \n",
              "9    STAR -0.000008   2444  54082       232  "
            ]
          },
          "execution_count": 23,
          "metadata": {},
          "output_type": "execute_result"
        }
      ],
      "source": [
        "df.head(10)"
      ]
    },
    {
      "cell_type": "code",
      "execution_count": 24,
      "metadata": {
        "colab": {
          "base_uri": "https://localhost:8080/"
        },
        "id": "GN6AoaensIYA",
        "outputId": "c7192619-f11f-4425-bb1f-dbbbfd1ed217"
      },
      "outputs": [
        {
          "name": "stdout",
          "output_type": "stream",
          "text": [
            "class\n",
            "GALAXY    59445\n",
            "QSO       59445\n",
            "STAR      59445\n",
            "Name: count, dtype: int64\n"
          ]
        }
      ],
      "source": [
        "#seperating the classes\n",
        "majority = df[df['class'].isin(['GALAXY'])]\n",
        "minorityQSO = df[df['class'].isin(['QSO'])]\n",
        "minorityStar = df[df['class'].isin(['STAR'])]\n",
        "\n",
        "UpsampledQSO = resample(minorityQSO, replace=True, n_samples=len(majority), random_state=42)\n",
        "UpsampledStar = resample(minorityStar, replace=True, n_samples=len(majority), random_state=42)\n",
        "\n",
        "#As GALAXY class is downsampled here we are concatinating it with the other two minority classes\n",
        "data_upsampled = pd.concat([majority, UpsampledQSO, UpsampledStar])\n",
        "\n",
        "countUnique = data_upsampled['class'].value_counts()\n",
        "print(countUnique)\n"
      ]
    },
    {
      "cell_type": "code",
      "execution_count": 25,
      "metadata": {
        "colab": {
          "base_uri": "https://localhost:8080/"
        },
        "id": "DkBcvM34sIYA",
        "outputId": "6e3bfef5-f0b2-4ce8-c5f8-864c7d54c606"
      },
      "outputs": [
        {
          "data": {
            "text/plain": [
              "(178335, 18)"
            ]
          },
          "execution_count": 25,
          "metadata": {},
          "output_type": "execute_result"
        }
      ],
      "source": [
        "data_upsampled.shape"
      ]
    },
    {
      "cell_type": "code",
      "execution_count": 26,
      "metadata": {
        "id": "ihJzI0CssIYA"
      },
      "outputs": [],
      "source": [
        "X = data_upsampled.drop(\"class\", axis=1)"
      ]
    },
    {
      "cell_type": "code",
      "execution_count": 27,
      "metadata": {
        "colab": {
          "base_uri": "https://localhost:8080/"
        },
        "id": "kY0oiIzYsIYB",
        "outputId": "e7dbb0e7-3d8e-4a15-ae23-df696beedb62"
      },
      "outputs": [
        {
          "name": "stdout",
          "output_type": "stream",
          "text": [
            "<class 'pandas.core.frame.DataFrame'>\n",
            "Index: 178335 entries, 0 to 79375\n",
            "Data columns (total 17 columns):\n",
            " #   Column       Non-Null Count   Dtype  \n",
            "---  ------       --------------   -----  \n",
            " 0   obj_ID       178335 non-null  float64\n",
            " 1   alpha        178335 non-null  float64\n",
            " 2   delta        178335 non-null  float64\n",
            " 3   u            178335 non-null  float64\n",
            " 4   g            178335 non-null  float64\n",
            " 5   r            178335 non-null  float64\n",
            " 6   i            178335 non-null  float64\n",
            " 7   z            178335 non-null  float64\n",
            " 8   run_ID       178335 non-null  int64  \n",
            " 9   rerun_ID     178335 non-null  int64  \n",
            " 10  cam_col      178335 non-null  int64  \n",
            " 11  field_ID     178335 non-null  int64  \n",
            " 12  spec_obj_ID  178335 non-null  float64\n",
            " 13  redshift     178335 non-null  float64\n",
            " 14  plate        178335 non-null  int64  \n",
            " 15  MJD          178335 non-null  int64  \n",
            " 16  fiber_ID     178335 non-null  int64  \n",
            "dtypes: float64(10), int64(7)\n",
            "memory usage: 24.5 MB\n"
          ]
        }
      ],
      "source": [
        "X.info()"
      ]
    },
    {
      "cell_type": "code",
      "execution_count": 28,
      "metadata": {
        "id": "gm4anp4jsIYB"
      },
      "outputs": [],
      "source": [
        "Y = data_upsampled['class']"
      ]
    },
    {
      "cell_type": "code",
      "execution_count": 29,
      "metadata": {
        "colab": {
          "base_uri": "https://localhost:8080/"
        },
        "id": "FAEpB1Z7sIYC",
        "outputId": "e96d56e0-a764-487e-f443-6370e40c540d"
      },
      "outputs": [
        {
          "data": {
            "text/plain": [
              "(178335,)"
            ]
          },
          "execution_count": 29,
          "metadata": {},
          "output_type": "execute_result"
        }
      ],
      "source": [
        "Y.shape"
      ]
    },
    {
      "cell_type": "code",
      "execution_count": 30,
      "metadata": {
        "colab": {
          "base_uri": "https://localhost:8080/"
        },
        "id": "8KQ389JjsIYD",
        "outputId": "096d7e20-e57b-4b94-8d17-28137621355b"
      },
      "outputs": [
        {
          "name": "stdout",
          "output_type": "stream",
          "text": [
            "<class 'pandas.core.series.Series'>\n",
            "Index: 178335 entries, 0 to 79375\n",
            "Series name: class\n",
            "Non-Null Count   Dtype \n",
            "--------------   ----- \n",
            "178335 non-null  object\n",
            "dtypes: object(1)\n",
            "memory usage: 2.7+ MB\n"
          ]
        }
      ],
      "source": [
        "Y.info()"
      ]
    },
    {
      "cell_type": "code",
      "execution_count": 31,
      "metadata": {
        "id": "ODHLondtsIYE"
      },
      "outputs": [],
      "source": [
        "X_train, X_test, Y_train, Y_test = train_test_split(X, Y, test_size=0.2, random_state=0, stratify=Y)"
      ]
    },
    {
      "cell_type": "code",
      "execution_count": 32,
      "metadata": {
        "id": "71AzemOnsIYE"
      },
      "outputs": [],
      "source": [
        "from sklearn.preprocessing import StandardScaler\n",
        "sc = StandardScaler()\n",
        "\n",
        "sc.fit(X_train)\n",
        "\n",
        "X_train_sc = sc.transform(X_train)\n",
        "X_train_sc = pd.DataFrame(X_train_sc, columns = X_train.columns)\n",
        "\n",
        "X_test_sc = sc.transform(X_test)\n",
        "X_test_sc = pd.DataFrame(X_test_sc, columns = X_test.columns)"
      ]
    },
    {
      "cell_type": "code",
      "execution_count": 33,
      "metadata": {
        "id": "jhCxz-W3sIYE"
      },
      "outputs": [],
      "source": [
        "# label_encoder = preprocessing.LabelEncoder()\n",
        "\n",
        "# Y_train_le = label_encoder.fit_transform(Y_train)\n",
        "# Y_test_le = label_encoder.fit_transform(Y_test)"
      ]
    },
    {
      "cell_type": "code",
      "execution_count": 34,
      "metadata": {
        "id": "y_FfBUFGsIYE"
      },
      "outputs": [],
      "source": [
        "Y_train_le = Y_train\n",
        "Y_test_le = Y_test"
      ]
    },
    {
      "cell_type": "code",
      "execution_count": 35,
      "metadata": {
        "colab": {
          "base_uri": "https://localhost:8080/"
        },
        "id": "BZszOrcHsIYE",
        "outputId": "23a3f103-e328-4dfe-d4c4-c065c5023202"
      },
      "outputs": [
        {
          "data": {
            "text/plain": [
              "(142668, 17)"
            ]
          },
          "execution_count": 35,
          "metadata": {},
          "output_type": "execute_result"
        }
      ],
      "source": [
        "X_train_sc.shape"
      ]
    },
    {
      "cell_type": "code",
      "execution_count": 36,
      "metadata": {
        "colab": {
          "base_uri": "https://localhost:8080/"
        },
        "id": "MaHIQPl6sIYE",
        "outputId": "7d0a5d57-06f9-4a90-d4b6-d81645f403e3"
      },
      "outputs": [
        {
          "data": {
            "text/plain": [
              "(35667, 17)"
            ]
          },
          "execution_count": 36,
          "metadata": {},
          "output_type": "execute_result"
        }
      ],
      "source": [
        "X_test_sc.shape"
      ]
    },
    {
      "cell_type": "code",
      "execution_count": 37,
      "metadata": {
        "colab": {
          "base_uri": "https://localhost:8080/"
        },
        "id": "DOulvRpMsIYF",
        "outputId": "0be69cb7-0f97-4cb4-8db7-457f947cbb15"
      },
      "outputs": [
        {
          "data": {
            "text/plain": [
              "(142668,)"
            ]
          },
          "execution_count": 37,
          "metadata": {},
          "output_type": "execute_result"
        }
      ],
      "source": [
        "Y_train_le.shape"
      ]
    },
    {
      "cell_type": "code",
      "execution_count": 38,
      "metadata": {
        "colab": {
          "base_uri": "https://localhost:8080/"
        },
        "id": "ny5T227UsIYF",
        "outputId": "41a721d0-b987-4c37-fa2f-0181f2294ef1"
      },
      "outputs": [
        {
          "data": {
            "text/plain": [
              "(35667,)"
            ]
          },
          "execution_count": 38,
          "metadata": {},
          "output_type": "execute_result"
        }
      ],
      "source": [
        "Y_test_le.shape"
      ]
    },
    {
      "cell_type": "code",
      "execution_count": null,
      "metadata": {
        "id": "DA0q-6UAtWnv"
      },
      "outputs": [],
      "source": []
    },
    {
      "cell_type": "code",
      "execution_count": 39,
      "metadata": {
        "id": "w0nzfqxWtWxN"
      },
      "outputs": [],
      "source": [
        "lda = LinearDiscriminantAnalysis()\n",
        "\n",
        "# Fit the LDA model on the training data\n",
        "X_train_lda = lda.fit_transform(X_train_sc, Y_train)\n",
        "X_test_lda = lda.transform(X_test_sc)\n"
      ]
    },
    {
      "cell_type": "code",
      "execution_count": 40,
      "metadata": {
        "id": "FEZwwpTztWxT"
      },
      "outputs": [],
      "source": [
        "rf_model = RandomForestClassifier(random_state=42)\n",
        "rf_model.fit(X_train_lda, Y_train_le)\n",
        "\n",
        "# Predict on the test set\n",
        "y_pred_rf = rf_model.predict(X_test_lda)\n"
      ]
    },
    {
      "cell_type": "markdown",
      "metadata": {
        "id": "V2kWYPn5sIYF"
      },
      "source": [
        "#RF upsampling"
      ]
    },
    {
      "cell_type": "code",
      "execution_count": 41,
      "metadata": {
        "colab": {
          "base_uri": "https://localhost:8080/",
          "height": 598
        },
        "id": "A2pezntssIYF",
        "outputId": "c00b6183-ecac-47f6-9aa4-499a35e7819a"
      },
      "outputs": [
        {
          "name": "stdout",
          "output_type": "stream",
          "text": [
            "Accuracy with Random Forest: 0.9464771357277035\n"
          ]
        }
      ],
      "source": [
        "# Calculate accuracy\n",
        "accuracy_rf = accuracy_score(Y_test_le, y_pred_rf)\n",
        "print(\"Accuracy with Random Forest:\", accuracy_rf)\n"
      ]
    },
    {
      "cell_type": "code",
      "execution_count": null,
      "metadata": {
        "id": "fWzo0b3qshLR"
      },
      "outputs": [],
      "source": []
    },
    {
      "cell_type": "markdown",
      "metadata": {
        "id": "qlYP43QYsmcr"
      },
      "source": [
        "#RF"
      ]
    },
    {
      "cell_type": "code",
      "execution_count": null,
      "metadata": {
        "id": "cy7ON4RVsnv3"
      },
      "outputs": [],
      "source": []
    },
    {
      "cell_type": "code",
      "execution_count": 42,
      "metadata": {
        "id": "uD6rzgMisn86"
      },
      "outputs": [],
      "source": [
        "#read_csv to read the dataset\n",
        "df = pd.read_csv('/Users/mominaali/Desktop/PhD MTSU/2nd Semester/7350/Project/SemesterProject/star_classification.csv')"
      ]
    },
    {
      "cell_type": "code",
      "execution_count": 43,
      "metadata": {
        "colab": {
          "base_uri": "https://localhost:8080/",
          "height": 379
        },
        "id": "FcwODEDFsn87",
        "outputId": "ce3fb9c8-5cc1-4969-8ef0-2c52e1d0e076"
      },
      "outputs": [
        {
          "data": {
            "text/html": [
              "<div>\n",
              "<style scoped>\n",
              "    .dataframe tbody tr th:only-of-type {\n",
              "        vertical-align: middle;\n",
              "    }\n",
              "\n",
              "    .dataframe tbody tr th {\n",
              "        vertical-align: top;\n",
              "    }\n",
              "\n",
              "    .dataframe thead th {\n",
              "        text-align: right;\n",
              "    }\n",
              "</style>\n",
              "<table border=\"1\" class=\"dataframe\">\n",
              "  <thead>\n",
              "    <tr style=\"text-align: right;\">\n",
              "      <th></th>\n",
              "      <th>obj_ID</th>\n",
              "      <th>alpha</th>\n",
              "      <th>delta</th>\n",
              "      <th>u</th>\n",
              "      <th>g</th>\n",
              "      <th>r</th>\n",
              "      <th>i</th>\n",
              "      <th>z</th>\n",
              "      <th>run_ID</th>\n",
              "      <th>rerun_ID</th>\n",
              "      <th>cam_col</th>\n",
              "      <th>field_ID</th>\n",
              "      <th>spec_obj_ID</th>\n",
              "      <th>class</th>\n",
              "      <th>redshift</th>\n",
              "      <th>plate</th>\n",
              "      <th>MJD</th>\n",
              "      <th>fiber_ID</th>\n",
              "    </tr>\n",
              "  </thead>\n",
              "  <tbody>\n",
              "    <tr>\n",
              "      <th>0</th>\n",
              "      <td>1.237661e+18</td>\n",
              "      <td>135.689107</td>\n",
              "      <td>32.494632</td>\n",
              "      <td>23.87882</td>\n",
              "      <td>22.27530</td>\n",
              "      <td>20.39501</td>\n",
              "      <td>19.16573</td>\n",
              "      <td>18.79371</td>\n",
              "      <td>3606</td>\n",
              "      <td>301</td>\n",
              "      <td>2</td>\n",
              "      <td>79</td>\n",
              "      <td>6.543777e+18</td>\n",
              "      <td>GALAXY</td>\n",
              "      <td>0.634794</td>\n",
              "      <td>5812</td>\n",
              "      <td>56354</td>\n",
              "      <td>171</td>\n",
              "    </tr>\n",
              "    <tr>\n",
              "      <th>1</th>\n",
              "      <td>1.237665e+18</td>\n",
              "      <td>144.826101</td>\n",
              "      <td>31.274185</td>\n",
              "      <td>24.77759</td>\n",
              "      <td>22.83188</td>\n",
              "      <td>22.58444</td>\n",
              "      <td>21.16812</td>\n",
              "      <td>21.61427</td>\n",
              "      <td>4518</td>\n",
              "      <td>301</td>\n",
              "      <td>5</td>\n",
              "      <td>119</td>\n",
              "      <td>1.176014e+19</td>\n",
              "      <td>GALAXY</td>\n",
              "      <td>0.779136</td>\n",
              "      <td>10445</td>\n",
              "      <td>58158</td>\n",
              "      <td>427</td>\n",
              "    </tr>\n",
              "    <tr>\n",
              "      <th>2</th>\n",
              "      <td>1.237661e+18</td>\n",
              "      <td>142.188790</td>\n",
              "      <td>35.582444</td>\n",
              "      <td>25.26307</td>\n",
              "      <td>22.66389</td>\n",
              "      <td>20.60976</td>\n",
              "      <td>19.34857</td>\n",
              "      <td>18.94827</td>\n",
              "      <td>3606</td>\n",
              "      <td>301</td>\n",
              "      <td>2</td>\n",
              "      <td>120</td>\n",
              "      <td>5.152200e+18</td>\n",
              "      <td>GALAXY</td>\n",
              "      <td>0.644195</td>\n",
              "      <td>4576</td>\n",
              "      <td>55592</td>\n",
              "      <td>299</td>\n",
              "    </tr>\n",
              "    <tr>\n",
              "      <th>3</th>\n",
              "      <td>1.237663e+18</td>\n",
              "      <td>338.741038</td>\n",
              "      <td>-0.402828</td>\n",
              "      <td>22.13682</td>\n",
              "      <td>23.77656</td>\n",
              "      <td>21.61162</td>\n",
              "      <td>20.50454</td>\n",
              "      <td>19.25010</td>\n",
              "      <td>4192</td>\n",
              "      <td>301</td>\n",
              "      <td>3</td>\n",
              "      <td>214</td>\n",
              "      <td>1.030107e+19</td>\n",
              "      <td>GALAXY</td>\n",
              "      <td>0.932346</td>\n",
              "      <td>9149</td>\n",
              "      <td>58039</td>\n",
              "      <td>775</td>\n",
              "    </tr>\n",
              "    <tr>\n",
              "      <th>4</th>\n",
              "      <td>1.237680e+18</td>\n",
              "      <td>345.282593</td>\n",
              "      <td>21.183866</td>\n",
              "      <td>19.43718</td>\n",
              "      <td>17.58028</td>\n",
              "      <td>16.49747</td>\n",
              "      <td>15.97711</td>\n",
              "      <td>15.54461</td>\n",
              "      <td>8102</td>\n",
              "      <td>301</td>\n",
              "      <td>3</td>\n",
              "      <td>137</td>\n",
              "      <td>6.891865e+18</td>\n",
              "      <td>GALAXY</td>\n",
              "      <td>0.116123</td>\n",
              "      <td>6121</td>\n",
              "      <td>56187</td>\n",
              "      <td>842</td>\n",
              "    </tr>\n",
              "    <tr>\n",
              "      <th>5</th>\n",
              "      <td>1.237680e+18</td>\n",
              "      <td>340.995121</td>\n",
              "      <td>20.589476</td>\n",
              "      <td>23.48827</td>\n",
              "      <td>23.33776</td>\n",
              "      <td>21.32195</td>\n",
              "      <td>20.25615</td>\n",
              "      <td>19.54544</td>\n",
              "      <td>8102</td>\n",
              "      <td>301</td>\n",
              "      <td>3</td>\n",
              "      <td>110</td>\n",
              "      <td>5.658977e+18</td>\n",
              "      <td>QSO</td>\n",
              "      <td>1.424659</td>\n",
              "      <td>5026</td>\n",
              "      <td>55855</td>\n",
              "      <td>741</td>\n",
              "    </tr>\n",
              "    <tr>\n",
              "      <th>6</th>\n",
              "      <td>1.237679e+18</td>\n",
              "      <td>23.234926</td>\n",
              "      <td>11.418188</td>\n",
              "      <td>21.46973</td>\n",
              "      <td>21.17624</td>\n",
              "      <td>20.92829</td>\n",
              "      <td>20.60826</td>\n",
              "      <td>20.42573</td>\n",
              "      <td>7773</td>\n",
              "      <td>301</td>\n",
              "      <td>2</td>\n",
              "      <td>462</td>\n",
              "      <td>1.246262e+19</td>\n",
              "      <td>QSO</td>\n",
              "      <td>0.586455</td>\n",
              "      <td>11069</td>\n",
              "      <td>58456</td>\n",
              "      <td>113</td>\n",
              "    </tr>\n",
              "    <tr>\n",
              "      <th>7</th>\n",
              "      <td>1.237679e+18</td>\n",
              "      <td>5.433176</td>\n",
              "      <td>12.065186</td>\n",
              "      <td>22.24979</td>\n",
              "      <td>22.02172</td>\n",
              "      <td>20.34126</td>\n",
              "      <td>19.48794</td>\n",
              "      <td>18.84999</td>\n",
              "      <td>7773</td>\n",
              "      <td>301</td>\n",
              "      <td>2</td>\n",
              "      <td>346</td>\n",
              "      <td>6.961443e+18</td>\n",
              "      <td>GALAXY</td>\n",
              "      <td>0.477009</td>\n",
              "      <td>6183</td>\n",
              "      <td>56210</td>\n",
              "      <td>15</td>\n",
              "    </tr>\n",
              "    <tr>\n",
              "      <th>8</th>\n",
              "      <td>1.237661e+18</td>\n",
              "      <td>200.290475</td>\n",
              "      <td>47.199402</td>\n",
              "      <td>24.40286</td>\n",
              "      <td>22.35669</td>\n",
              "      <td>20.61032</td>\n",
              "      <td>19.46490</td>\n",
              "      <td>18.95852</td>\n",
              "      <td>3716</td>\n",
              "      <td>301</td>\n",
              "      <td>5</td>\n",
              "      <td>108</td>\n",
              "      <td>7.459285e+18</td>\n",
              "      <td>GALAXY</td>\n",
              "      <td>0.660012</td>\n",
              "      <td>6625</td>\n",
              "      <td>56386</td>\n",
              "      <td>719</td>\n",
              "    </tr>\n",
              "    <tr>\n",
              "      <th>9</th>\n",
              "      <td>1.237671e+18</td>\n",
              "      <td>39.149691</td>\n",
              "      <td>28.102842</td>\n",
              "      <td>21.74669</td>\n",
              "      <td>20.03493</td>\n",
              "      <td>19.17553</td>\n",
              "      <td>18.81823</td>\n",
              "      <td>18.65422</td>\n",
              "      <td>5934</td>\n",
              "      <td>301</td>\n",
              "      <td>4</td>\n",
              "      <td>122</td>\n",
              "      <td>2.751763e+18</td>\n",
              "      <td>STAR</td>\n",
              "      <td>-0.000008</td>\n",
              "      <td>2444</td>\n",
              "      <td>54082</td>\n",
              "      <td>232</td>\n",
              "    </tr>\n",
              "  </tbody>\n",
              "</table>\n",
              "</div>"
            ],
            "text/plain": [
              "         obj_ID       alpha      delta         u         g         r  \\\n",
              "0  1.237661e+18  135.689107  32.494632  23.87882  22.27530  20.39501   \n",
              "1  1.237665e+18  144.826101  31.274185  24.77759  22.83188  22.58444   \n",
              "2  1.237661e+18  142.188790  35.582444  25.26307  22.66389  20.60976   \n",
              "3  1.237663e+18  338.741038  -0.402828  22.13682  23.77656  21.61162   \n",
              "4  1.237680e+18  345.282593  21.183866  19.43718  17.58028  16.49747   \n",
              "5  1.237680e+18  340.995121  20.589476  23.48827  23.33776  21.32195   \n",
              "6  1.237679e+18   23.234926  11.418188  21.46973  21.17624  20.92829   \n",
              "7  1.237679e+18    5.433176  12.065186  22.24979  22.02172  20.34126   \n",
              "8  1.237661e+18  200.290475  47.199402  24.40286  22.35669  20.61032   \n",
              "9  1.237671e+18   39.149691  28.102842  21.74669  20.03493  19.17553   \n",
              "\n",
              "          i         z  run_ID  rerun_ID  cam_col  field_ID   spec_obj_ID  \\\n",
              "0  19.16573  18.79371    3606       301        2        79  6.543777e+18   \n",
              "1  21.16812  21.61427    4518       301        5       119  1.176014e+19   \n",
              "2  19.34857  18.94827    3606       301        2       120  5.152200e+18   \n",
              "3  20.50454  19.25010    4192       301        3       214  1.030107e+19   \n",
              "4  15.97711  15.54461    8102       301        3       137  6.891865e+18   \n",
              "5  20.25615  19.54544    8102       301        3       110  5.658977e+18   \n",
              "6  20.60826  20.42573    7773       301        2       462  1.246262e+19   \n",
              "7  19.48794  18.84999    7773       301        2       346  6.961443e+18   \n",
              "8  19.46490  18.95852    3716       301        5       108  7.459285e+18   \n",
              "9  18.81823  18.65422    5934       301        4       122  2.751763e+18   \n",
              "\n",
              "    class  redshift  plate    MJD  fiber_ID  \n",
              "0  GALAXY  0.634794   5812  56354       171  \n",
              "1  GALAXY  0.779136  10445  58158       427  \n",
              "2  GALAXY  0.644195   4576  55592       299  \n",
              "3  GALAXY  0.932346   9149  58039       775  \n",
              "4  GALAXY  0.116123   6121  56187       842  \n",
              "5     QSO  1.424659   5026  55855       741  \n",
              "6     QSO  0.586455  11069  58456       113  \n",
              "7  GALAXY  0.477009   6183  56210        15  \n",
              "8  GALAXY  0.660012   6625  56386       719  \n",
              "9    STAR -0.000008   2444  54082       232  "
            ]
          },
          "execution_count": 43,
          "metadata": {},
          "output_type": "execute_result"
        }
      ],
      "source": [
        "df.head(10)"
      ]
    },
    {
      "cell_type": "code",
      "execution_count": 44,
      "metadata": {
        "colab": {
          "base_uri": "https://localhost:8080/"
        },
        "id": "39DwF_dFsn89",
        "outputId": "b5e55ad6-6398-4e6a-957e-1e16e6c07c37"
      },
      "outputs": [
        {
          "data": {
            "text/plain": [
              "(100000, 18)"
            ]
          },
          "execution_count": 44,
          "metadata": {},
          "output_type": "execute_result"
        }
      ],
      "source": [
        "df.shape"
      ]
    },
    {
      "cell_type": "code",
      "execution_count": 45,
      "metadata": {
        "id": "q-zWIh3rsn8-"
      },
      "outputs": [],
      "source": [
        "X = df.drop(\"class\", axis=1)"
      ]
    },
    {
      "cell_type": "code",
      "execution_count": 46,
      "metadata": {
        "colab": {
          "base_uri": "https://localhost:8080/"
        },
        "id": "djLH7Co_sn8-",
        "outputId": "48f2c36c-7068-4aa4-e036-1f298a49f097"
      },
      "outputs": [
        {
          "name": "stdout",
          "output_type": "stream",
          "text": [
            "<class 'pandas.core.frame.DataFrame'>\n",
            "RangeIndex: 100000 entries, 0 to 99999\n",
            "Data columns (total 17 columns):\n",
            " #   Column       Non-Null Count   Dtype  \n",
            "---  ------       --------------   -----  \n",
            " 0   obj_ID       100000 non-null  float64\n",
            " 1   alpha        100000 non-null  float64\n",
            " 2   delta        100000 non-null  float64\n",
            " 3   u            100000 non-null  float64\n",
            " 4   g            100000 non-null  float64\n",
            " 5   r            100000 non-null  float64\n",
            " 6   i            100000 non-null  float64\n",
            " 7   z            100000 non-null  float64\n",
            " 8   run_ID       100000 non-null  int64  \n",
            " 9   rerun_ID     100000 non-null  int64  \n",
            " 10  cam_col      100000 non-null  int64  \n",
            " 11  field_ID     100000 non-null  int64  \n",
            " 12  spec_obj_ID  100000 non-null  float64\n",
            " 13  redshift     100000 non-null  float64\n",
            " 14  plate        100000 non-null  int64  \n",
            " 15  MJD          100000 non-null  int64  \n",
            " 16  fiber_ID     100000 non-null  int64  \n",
            "dtypes: float64(10), int64(7)\n",
            "memory usage: 13.0 MB\n"
          ]
        }
      ],
      "source": [
        "X.info()"
      ]
    },
    {
      "cell_type": "code",
      "execution_count": 47,
      "metadata": {
        "id": "Vyp9Qd_Osn8_"
      },
      "outputs": [],
      "source": [
        "Y = df['class']"
      ]
    },
    {
      "cell_type": "code",
      "execution_count": 48,
      "metadata": {
        "colab": {
          "base_uri": "https://localhost:8080/"
        },
        "id": "yvCLKSFbsn8_",
        "outputId": "404877cf-f3e5-44ce-8d5c-c10274e0e38e"
      },
      "outputs": [
        {
          "data": {
            "text/plain": [
              "(100000,)"
            ]
          },
          "execution_count": 48,
          "metadata": {},
          "output_type": "execute_result"
        }
      ],
      "source": [
        "Y.shape"
      ]
    },
    {
      "cell_type": "code",
      "execution_count": 49,
      "metadata": {
        "colab": {
          "base_uri": "https://localhost:8080/"
        },
        "id": "bs6GbAwdsn8_",
        "outputId": "27b565fd-fdb9-45b1-c24e-6c23d7c557ce"
      },
      "outputs": [
        {
          "name": "stdout",
          "output_type": "stream",
          "text": [
            "<class 'pandas.core.series.Series'>\n",
            "RangeIndex: 100000 entries, 0 to 99999\n",
            "Series name: class\n",
            "Non-Null Count   Dtype \n",
            "--------------   ----- \n",
            "100000 non-null  object\n",
            "dtypes: object(1)\n",
            "memory usage: 781.4+ KB\n"
          ]
        }
      ],
      "source": [
        "Y.info()"
      ]
    },
    {
      "cell_type": "code",
      "execution_count": 50,
      "metadata": {
        "id": "M_EBShvbsn9A"
      },
      "outputs": [],
      "source": [
        "X_train, X_test, Y_train, Y_test = train_test_split(X, Y, test_size=0.2, random_state=0, stratify=Y)"
      ]
    },
    {
      "cell_type": "code",
      "execution_count": 51,
      "metadata": {
        "id": "CK2z5Ezbsn9A"
      },
      "outputs": [],
      "source": [
        "from sklearn.preprocessing import StandardScaler\n",
        "sc = StandardScaler()\n",
        "\n",
        "sc.fit(X_train)\n",
        "\n",
        "X_train_sc = sc.transform(X_train)\n",
        "X_train_sc = pd.DataFrame(X_train_sc, columns = X_train.columns)\n",
        "\n",
        "X_test_sc = sc.transform(X_test)\n",
        "X_test_sc = pd.DataFrame(X_test_sc, columns = X_test.columns)"
      ]
    },
    {
      "cell_type": "code",
      "execution_count": 52,
      "metadata": {
        "id": "Zd0RP2ncsn9B"
      },
      "outputs": [],
      "source": [
        "# label_encoder = preprocessing.LabelEncoder()\n",
        "\n",
        "# Y_train_le = label_encoder.fit_transform(Y_train)\n",
        "# Y_test_le = label_encoder.fit_transform(Y_test)"
      ]
    },
    {
      "cell_type": "code",
      "execution_count": 53,
      "metadata": {
        "id": "bUmF15yZsn9B"
      },
      "outputs": [],
      "source": [
        "Y_train_le = Y_train\n",
        "Y_test_le = Y_test"
      ]
    },
    {
      "cell_type": "code",
      "execution_count": 54,
      "metadata": {
        "colab": {
          "base_uri": "https://localhost:8080/"
        },
        "id": "MviA4IHgsn9B",
        "outputId": "0e26fe1f-5aea-4a06-b8fb-dbe5b4b49615"
      },
      "outputs": [
        {
          "data": {
            "text/plain": [
              "(80000, 17)"
            ]
          },
          "execution_count": 54,
          "metadata": {},
          "output_type": "execute_result"
        }
      ],
      "source": [
        "X_train_sc.shape"
      ]
    },
    {
      "cell_type": "code",
      "execution_count": 55,
      "metadata": {
        "colab": {
          "base_uri": "https://localhost:8080/"
        },
        "id": "qJpcV0q3sn9C",
        "outputId": "e23e6467-98af-4cec-c469-e96514f9f5b1"
      },
      "outputs": [
        {
          "data": {
            "text/plain": [
              "(20000, 17)"
            ]
          },
          "execution_count": 55,
          "metadata": {},
          "output_type": "execute_result"
        }
      ],
      "source": [
        "X_test_sc.shape"
      ]
    },
    {
      "cell_type": "code",
      "execution_count": 56,
      "metadata": {
        "colab": {
          "base_uri": "https://localhost:8080/"
        },
        "id": "eD784NPJsn9C",
        "outputId": "3f535c77-b3b6-42d3-b1cc-10165348c2bd"
      },
      "outputs": [
        {
          "data": {
            "text/plain": [
              "(80000,)"
            ]
          },
          "execution_count": 56,
          "metadata": {},
          "output_type": "execute_result"
        }
      ],
      "source": [
        "Y_train_le.shape"
      ]
    },
    {
      "cell_type": "code",
      "execution_count": 57,
      "metadata": {
        "colab": {
          "base_uri": "https://localhost:8080/"
        },
        "id": "wE5VPJQesn9C",
        "outputId": "33a78b65-a769-4526-9431-0756b3cd88a4"
      },
      "outputs": [
        {
          "data": {
            "text/plain": [
              "(20000,)"
            ]
          },
          "execution_count": 57,
          "metadata": {},
          "output_type": "execute_result"
        }
      ],
      "source": [
        "Y_test_le.shape"
      ]
    },
    {
      "cell_type": "code",
      "execution_count": null,
      "metadata": {
        "id": "8xLWsD5HtZkG"
      },
      "outputs": [],
      "source": []
    },
    {
      "cell_type": "code",
      "execution_count": 58,
      "metadata": {
        "id": "JRo1-5GTtZ3H"
      },
      "outputs": [],
      "source": [
        "lda = LinearDiscriminantAnalysis()\n",
        "\n",
        "# Fit the LDA model on the training data\n",
        "X_train_lda = lda.fit_transform(X_train_sc, Y_train)\n",
        "X_test_lda = lda.transform(X_test_sc)\n"
      ]
    },
    {
      "cell_type": "code",
      "execution_count": 59,
      "metadata": {
        "id": "T9FsJZ8utZ3J"
      },
      "outputs": [],
      "source": [
        "rf_model = RandomForestClassifier(random_state=42)\n",
        "rf_model.fit(X_train_lda, Y_train_le)\n",
        "\n",
        "# Predict on the test set\n",
        "y_pred_rf = rf_model.predict(X_test_lda)\n"
      ]
    },
    {
      "cell_type": "code",
      "execution_count": 60,
      "metadata": {
        "colab": {
          "base_uri": "https://localhost:8080/",
          "height": 598
        },
        "id": "CpYibyDmsn9D",
        "outputId": "bbd6c4ce-a929-4745-b697-a3d8d28f16c9"
      },
      "outputs": [
        {
          "name": "stdout",
          "output_type": "stream",
          "text": [
            "Accuracy with Random Forest: 0.9015\n"
          ]
        }
      ],
      "source": [
        "# Calculate accuracy\n",
        "accuracy_rf = accuracy_score(Y_test_le, y_pred_rf)\n",
        "print(\"Accuracy with Random Forest:\", accuracy_rf)\n"
      ]
    }
  ],
  "metadata": {
    "colab": {
      "provenance": []
    },
    "kernelspec": {
      "display_name": "Python 3",
      "name": "python3"
    },
    "language_info": {
      "codemirror_mode": {
        "name": "ipython",
        "version": 3
      },
      "file_extension": ".py",
      "mimetype": "text/x-python",
      "name": "python",
      "nbconvert_exporter": "python",
      "pygments_lexer": "ipython3",
      "version": "3.12.1"
    }
  },
  "nbformat": 4,
  "nbformat_minor": 0
}
